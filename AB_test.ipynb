{
 "cells": [
  {
   "cell_type": "markdown",
   "id": "a625d48f",
   "metadata": {},
   "source": [
    "# A/B-тестирование 2024\n",
    "\n",
    "Работа выполнена Нагаевой В.И. СКБ212"
   ]
  },
  {
   "cell_type": "markdown",
   "id": "7379a622",
   "metadata": {},
   "source": [
    "Большинство студентов уверено, что выполнение и сдача зачётных работ в последнии минуты дедлайна - это самый верный способ избежать лишнего стресса. Однако до сих пор широкой публике не было известно, является ли эта идея неоспоримым фактом или же результатом студентческой лени. Проверим эту гипотезу на тесте.\n",
    "\n",
    "**Цель:** проверить гипотезу о том, что нет разницы, как сдавать работы - постепенно на протяжении всего модуля или в последний день - так как уровень полученного стресса будет одинаковым."
   ]
  },
  {
   "cell_type": "markdown",
   "id": "93f28270",
   "metadata": {},
   "source": [
    "## Содержание:\n",
    "<a href='#section1'> 1. Описание эксперимента </a> <br>\n",
    "<a href='#section2'> 2. Ход эксперимента </a> <br>\n",
    "<a href='#section3'> 3. А/А-тест </a> <br>\n",
    "<a href='#section4'> 4. А/В-тест </a> <br>\n",
    "<a href='#section5'> 5. Итоги </a> <br>"
   ]
  },
  {
   "cell_type": "markdown",
   "id": "8b140a06",
   "metadata": {},
   "source": [
    "<a id='section1'></a>\n",
    "## Описание эксперимента"
   ]
  },
  {
   "cell_type": "markdown",
   "id": "83a50f4b",
   "metadata": {},
   "source": [
    "План A/B-тестирования:\n",
    "\n",
    "1. Высчитать метрики эксперимента.\n",
    "2. Собрать n студентов Высшей школы экономики с указанием их направления и группы. Выдвигалось требование, что по учебной программе испытуемые должны были сдать некоторое количество зачётных работ к концу 4 модулей 2 семестра 3 курса. О студентах также заранее было известно, что все работы в 3 модуле они выполняли и сдавали на последней неделе поставленных сроков. А сами же сроки приходились на последние дни модуля.\n",
    "3. Разделить студентов на две выборки А и В по n/2 человек в каждой. По мере прохождения по списку студенты делились следующим образом:\n",
    "    - Каждый новый представитель той же группы или схожего направления отправлялся в отличную от предыдущего представителя выборку;\n",
    "    - Студенты уникальных направлений или групп распределялись произвольно.\n",
    "4. Провести А/А-тестирование, чтобы убедиться в однородности составленных выборок:\n",
    "    - Опросить студентов, предоставив им возможность дать оценку уровню их стресса от 0 до 10 после сдачи всех работ в 3 модуле;\n",
    "    - По полученным данным провести тест на равенство средних выборок.\n",
    "5. В случае подтвержедения А/А-теста, провести А/В-тест:\n",
    "    - Предоставить возможность представителям А выборке по-прежнему сдавать работы в последний момент;\n",
    "    - Студентов выборки В смотивировать на сдачу по одной работе каждую неделю, начиная с первых дней 4 модуля;\n",
    "    - Опросить студентов, предоставив им возможность дать оценку уровню их стресса от 0 до 10 после сдачи всех работ в 4 модуле;\n",
    "    - По полученным данным провести тест на равенство средних значений выборок.\n",
    "6. Подвести итоги."
   ]
  },
  {
   "cell_type": "code",
   "execution_count": 1,
   "id": "1774d321",
   "metadata": {},
   "outputs": [],
   "source": [
    "import pandas as pd\n",
    "import numpy as np\n",
    "import scipy.stats as st\n",
    "import matplotlib.pyplot as plt\n",
    "from statsmodels.stats import weightstats as stests\n",
    "import statsmodels.formula.api as smf"
   ]
  },
  {
   "cell_type": "markdown",
   "id": "6c282684",
   "metadata": {},
   "source": [
    "<a id='section2'></a>\n",
    "## Ход эксперимента"
   ]
  },
  {
   "cell_type": "markdown",
   "id": "1f35a50d",
   "metadata": {},
   "source": [
    "### Подберем статистические метрики"
   ]
  },
  {
   "cell_type": "markdown",
   "id": "e8abe82a",
   "metadata": {},
   "source": [
    "Независимые, $Var(x_i) < \\infty $ и $n \\rightarrow \\infty$:<br>\n",
    "$x_1^c,...,x_{n_c}^c \\sim \\text{iid Bern}(p_c)$ <br>\n",
    "$x_1^t,...,x_{n_t}^t \\sim \\text{iid Bern}(p_t)$ <br> <br>\n",
    "Тогда ассимптотически по ЦПТ: <br>\n",
    "$\\overline{X_{n_c}} = \\hat{p_c} \\sim N(p_c, \\frac{\\hat{p_c}\\cdot(1-\\hat{p_c})}{n_c}) $ <br>\n",
    "$\\overline{X_{n_t}} = \\hat{p_t} \\sim N(p_t, \\frac{\\hat{p_t}\\cdot(1-\\hat{p_t})}{n_t}) $ <br> \n",
    "$ \\hat{p_t} - \\hat{p_t} \\sim N(p_t - p_c, \\frac{\\hat{p_t}\\cdot(1-\\hat{p_t})}{n_t}+\\frac{\\hat{p_c}\\cdot(1-\\hat{p_c})}{n_c}) $ <br>\n",
    "$z = \\frac{\\hat{p_t} - \\hat{p_c}}{\\sqrt{\\frac{\\hat{p_t}(1-\\hat{p_t})}{n_t} + \\frac{\\hat{p_c}(1-\\hat{p_c})}{n_c}}} \\sim N(0,1) \\text{, ассимптотически при верной $H_0$} $ <br> <br>\n",
    "\n",
    "Следовательно, необходимо высчитать $n_t = q \\cdot n$ и $n_c = (1-q) \\cdot n$. При этом $\\alpha = P(H_A | H_0), H_0: d = 0, H_A: d \\geq MDE$. Тогда: <br>\n",
    "\n",
    "$\\beta = P(H_0|H_A) = P(\\hat{d} < z_{1-\\alpha} \\cdot SE(\\hat{d}) | d \\geq MDE) = P(\\hat{d} < z_{1-\\alpha} \\cdot SE(\\hat{d}) | d = MDE) \\Rightarrow$ <br> <br> \n",
    "$$\\text{Ассимптотически нормальное при верности $H_0:$ } \\hat{d} \\sim N(0, SE^2(\\hat{d}))$$\n",
    "$$\\text{Ассимптотически нормальное при верности $H_A:$ } \\hat{d} \\sim N(MDE, SE^2(\\hat{d}))$$\n",
    "<br> <br>\n",
    "$$\\Rightarrow P\\left(\\frac{\\hat{d} - MDE}{SE(\\hat{d})} < \\frac{z_{1-\\alpha} \\cdot SE(\\hat{d}) - MDE}{SE(\\hat{d})} | d=MDE\\right) = P\\left(N(0,1) < \\frac{z_{1-\\alpha} \\cdot SE(\\hat{d}) - MDE}{SE(\\hat{d})}\\right) = F_{N(0,1)}\\left(\\frac{z_{1-\\alpha} \\cdot SE(\\hat{d}) - MDE}{SE(\\hat{d})}\\right) = \\beta $$\n",
    "<br> <br>\n",
    "$$\\Rightarrow \\frac{z_{1-\\alpha}\\cdot SE(\\hat{d}) - MDE}{SE(\\hat{d})} = z_{\\beta}$$ <br>\n",
    "$$\\frac{MDE}{SE(\\hat{d})} = z_{1-\\alpha} - z_{\\beta}$$<br>\n",
    "$$SE(\\hat{d}) = \\frac{MDE}{z_{1-\\alpha} + z_{1-\\beta}}$$\n",
    "Известно, что:\n",
    "$$Var(\\hat{d}) = \\left(\\frac{\\hat{p_t}\\cdot(1-\\hat{p_t})}{(1-q)\\cdot n}+\\frac{\\hat{p_c}\\cdot(1-\\hat{p_c})}{q\\cdot n}\\right) \\cdot \\frac{MDE^2}{(z_{1-\\alpha} + z_{1-\\beta})^2} $$ <br>\n",
    "Утверждаем, что $q = 0.5$ и максимальное значение $p = 0.25$ (через производную $f(p) = p(1-p))$ <br> <br>\n",
    "$$\\Rightarrow n = \\frac{\\hat{p_t}\\cdot(1-\\hat{p_t}) + \\hat{p_c}\\cdot(1-\\hat{p_c})}{0.5 \\cdot MDE^2} \\cdot (z_{1-\\alpha} + z_{1-\\beta})^2 \\leq \\frac{(z_{1-\\alpha} + z_{1-\\beta})^2}{MDE^2} $$"
   ]
  },
  {
   "cell_type": "markdown",
   "id": "60982c43",
   "metadata": {},
   "source": [
    "Зафиксируем размер эффекта. Подберем его в соответствии с классификацией Cohen's d - возьмем малый размах, равный 0.2, то есть средние значения двух групп отличаются на 0,5 стандартных отклонений."
   ]
  },
  {
   "cell_type": "code",
   "execution_count": 2,
   "id": "fe09d3ce",
   "metadata": {},
   "outputs": [],
   "source": [
    "def get_n(MDE, alpha, beta):\n",
    "    z_a = st.norm().ppf(1 - alpha)\n",
    "    z_b = st.norm().ppf(1 - beta)\n",
    "    return ((z_a + z_b) / MDE)**2"
   ]
  },
  {
   "cell_type": "code",
   "execution_count": 3,
   "id": "deefc90e",
   "metadata": {},
   "outputs": [
    {
     "data": {
      "text/html": [
       "<div>\n",
       "<style scoped>\n",
       "    .dataframe tbody tr th:only-of-type {\n",
       "        vertical-align: middle;\n",
       "    }\n",
       "\n",
       "    .dataframe tbody tr th {\n",
       "        vertical-align: top;\n",
       "    }\n",
       "\n",
       "    .dataframe thead th {\n",
       "        text-align: right;\n",
       "    }\n",
       "</style>\n",
       "<table border=\"1\" class=\"dataframe\">\n",
       "  <thead>\n",
       "    <tr style=\"text-align: right;\">\n",
       "      <th></th>\n",
       "      <th>0.20</th>\n",
       "      <th>0.21</th>\n",
       "      <th>0.22</th>\n",
       "      <th>0.23</th>\n",
       "      <th>0.24</th>\n",
       "      <th>0.25</th>\n",
       "      <th>0.26</th>\n",
       "      <th>0.27</th>\n",
       "      <th>0.28</th>\n",
       "      <th>0.29</th>\n",
       "    </tr>\n",
       "  </thead>\n",
       "  <tbody>\n",
       "    <tr>\n",
       "      <th>0.20</th>\n",
       "      <td>70.832630</td>\n",
       "      <td>67.901100</td>\n",
       "      <td>65.109927</td>\n",
       "      <td>62.446984</td>\n",
       "      <td>59.901702</td>\n",
       "      <td>57.464813</td>\n",
       "      <td>55.128148</td>\n",
       "      <td>52.884473</td>\n",
       "      <td>50.727353</td>\n",
       "      <td>48.651040</td>\n",
       "    </tr>\n",
       "    <tr>\n",
       "      <th>0.21</th>\n",
       "      <td>67.901100</td>\n",
       "      <td>65.031523</td>\n",
       "      <td>62.300590</td>\n",
       "      <td>59.696337</td>\n",
       "      <td>57.208333</td>\n",
       "      <td>54.827435</td>\n",
       "      <td>52.545584</td>\n",
       "      <td>50.355646</td>\n",
       "      <td>48.251275</td>\n",
       "      <td>46.226807</td>\n",
       "    </tr>\n",
       "    <tr>\n",
       "      <th>0.22</th>\n",
       "      <td>65.109927</td>\n",
       "      <td>62.300590</td>\n",
       "      <td>59.628236</td>\n",
       "      <td>57.081052</td>\n",
       "      <td>54.648744</td>\n",
       "      <td>52.322290</td>\n",
       "      <td>50.093740</td>\n",
       "      <td>47.956055</td>\n",
       "      <td>45.902977</td>\n",
       "      <td>43.928921</td>\n",
       "    </tr>\n",
       "    <tr>\n",
       "      <th>0.23</th>\n",
       "      <td>62.446984</td>\n",
       "      <td>59.696337</td>\n",
       "      <td>57.081052</td>\n",
       "      <td>54.589467</td>\n",
       "      <td>52.211421</td>\n",
       "      <td>49.938009</td>\n",
       "      <td>47.761386</td>\n",
       "      <td>45.674608</td>\n",
       "      <td>43.671503</td>\n",
       "      <td>41.746561</td>\n",
       "    </tr>\n",
       "    <tr>\n",
       "      <th>0.24</th>\n",
       "      <td>59.901702</td>\n",
       "      <td>57.208333</td>\n",
       "      <td>54.648744</td>\n",
       "      <td>52.211421</td>\n",
       "      <td>49.886331</td>\n",
       "      <td>47.664685</td>\n",
       "      <td>45.538741</td>\n",
       "      <td>43.501646</td>\n",
       "      <td>41.547311</td>\n",
       "      <td>39.670301</td>\n",
       "    </tr>\n",
       "    <tr>\n",
       "      <th>0.25</th>\n",
       "      <td>57.464813</td>\n",
       "      <td>54.827435</td>\n",
       "      <td>52.322290</td>\n",
       "      <td>49.938009</td>\n",
       "      <td>47.664685</td>\n",
       "      <td>45.493642</td>\n",
       "      <td>43.417237</td>\n",
       "      <td>41.428709</td>\n",
       "      <td>39.522047</td>\n",
       "      <td>37.691893</td>\n",
       "    </tr>\n",
       "    <tr>\n",
       "      <th>0.26</th>\n",
       "      <td>55.128148</td>\n",
       "      <td>52.545584</td>\n",
       "      <td>50.093740</td>\n",
       "      <td>47.761386</td>\n",
       "      <td>45.538741</td>\n",
       "      <td>43.417237</td>\n",
       "      <td>41.389331</td>\n",
       "      <td>39.448348</td>\n",
       "      <td>37.588359</td>\n",
       "      <td>35.804075</td>\n",
       "    </tr>\n",
       "    <tr>\n",
       "      <th>0.27</th>\n",
       "      <td>52.884473</td>\n",
       "      <td>50.355646</td>\n",
       "      <td>47.956055</td>\n",
       "      <td>45.674608</td>\n",
       "      <td>43.501646</td>\n",
       "      <td>41.428709</td>\n",
       "      <td>39.448348</td>\n",
       "      <td>37.553976</td>\n",
       "      <td>35.739742</td>\n",
       "      <td>34.000428</td>\n",
       "    </tr>\n",
       "    <tr>\n",
       "      <th>0.28</th>\n",
       "      <td>50.727353</td>\n",
       "      <td>48.251275</td>\n",
       "      <td>45.902977</td>\n",
       "      <td>43.671503</td>\n",
       "      <td>41.547311</td>\n",
       "      <td>39.522047</td>\n",
       "      <td>37.588359</td>\n",
       "      <td>35.739742</td>\n",
       "      <td>33.970422</td>\n",
       "      <td>32.275251</td>\n",
       "    </tr>\n",
       "    <tr>\n",
       "      <th>0.29</th>\n",
       "      <td>48.651040</td>\n",
       "      <td>46.226807</td>\n",
       "      <td>43.928921</td>\n",
       "      <td>41.746561</td>\n",
       "      <td>39.670301</td>\n",
       "      <td>37.691893</td>\n",
       "      <td>35.804075</td>\n",
       "      <td>34.000428</td>\n",
       "      <td>32.275251</td>\n",
       "      <td>30.623465</td>\n",
       "    </tr>\n",
       "  </tbody>\n",
       "</table>\n",
       "</div>"
      ],
      "text/plain": [
       "           0.20       0.21       0.22       0.23       0.24       0.25  \\\n",
       "0.20  70.832630  67.901100  65.109927  62.446984  59.901702  57.464813   \n",
       "0.21  67.901100  65.031523  62.300590  59.696337  57.208333  54.827435   \n",
       "0.22  65.109927  62.300590  59.628236  57.081052  54.648744  52.322290   \n",
       "0.23  62.446984  59.696337  57.081052  54.589467  52.211421  49.938009   \n",
       "0.24  59.901702  57.208333  54.648744  52.211421  49.886331  47.664685   \n",
       "0.25  57.464813  54.827435  52.322290  49.938009  47.664685  45.493642   \n",
       "0.26  55.128148  52.545584  50.093740  47.761386  45.538741  43.417237   \n",
       "0.27  52.884473  50.355646  47.956055  45.674608  43.501646  41.428709   \n",
       "0.28  50.727353  48.251275  45.902977  43.671503  41.547311  39.522047   \n",
       "0.29  48.651040  46.226807  43.928921  41.746561  39.670301  37.691893   \n",
       "\n",
       "           0.26       0.27       0.28       0.29  \n",
       "0.20  55.128148  52.884473  50.727353  48.651040  \n",
       "0.21  52.545584  50.355646  48.251275  46.226807  \n",
       "0.22  50.093740  47.956055  45.902977  43.928921  \n",
       "0.23  47.761386  45.674608  43.671503  41.746561  \n",
       "0.24  45.538741  43.501646  41.547311  39.670301  \n",
       "0.25  43.417237  41.428709  39.522047  37.691893  \n",
       "0.26  41.389331  39.448348  37.588359  35.804075  \n",
       "0.27  39.448348  37.553976  35.739742  34.000428  \n",
       "0.28  37.588359  35.739742  33.970422  32.275251  \n",
       "0.29  35.804075  34.000428  32.275251  30.623465  "
      ]
     },
     "execution_count": 3,
     "metadata": {},
     "output_type": "execute_result"
    }
   ],
   "source": [
    "MDE = 0.2\n",
    "\n",
    "alpha = [i for i in np.arange(0.2, 0.3, 0.01)]\n",
    "beta = [i for i in np.arange(0.2, 0.3, 0.01)]\n",
    "\n",
    "errors = []\n",
    "for a in alpha:\n",
    "    cur = []\n",
    "    for b in beta:\n",
    "        e = get_n(MDE, a, b)\n",
    "        cur.append(e)\n",
    "    errors.append(cur)\n",
    "df_e = pd.DataFrame(errors)\n",
    "df_e.columns = alpha\n",
    "df_e.index = beta\n",
    "df_e"
   ]
  },
  {
   "cell_type": "markdown",
   "id": "13a27c73",
   "metadata": {},
   "source": [
    "Известно, что чем больше наблюдений, тем ниже дисперсия. Возьмём среднее количество, для четности округлим: <br> <br> $$alpha = 0.25, beta = 0.25 \\Rightarrow n_{min} = 44$$"
   ]
  },
  {
   "cell_type": "code",
   "execution_count": 4,
   "id": "9bb4dc81",
   "metadata": {},
   "outputs": [],
   "source": [
    "alpha = 0.25\n",
    "beta = 0.25\n",
    "n = 44"
   ]
  },
  {
   "cell_type": "markdown",
   "id": "68f86439",
   "metadata": {},
   "source": [
    "### Работа с данными"
   ]
  },
  {
   "cell_type": "code",
   "execution_count": 5,
   "id": "37b2b6f1",
   "metadata": {},
   "outputs": [],
   "source": [
    "df = pd.read_csv('data.txt', sep=' ')\n",
    "df = df.drop('Unnamed: 0', axis=1)"
   ]
  },
  {
   "cell_type": "code",
   "execution_count": 6,
   "id": "1a999f72",
   "metadata": {},
   "outputs": [
    {
     "data": {
      "text/html": [
       "<div>\n",
       "<style scoped>\n",
       "    .dataframe tbody tr th:only-of-type {\n",
       "        vertical-align: middle;\n",
       "    }\n",
       "\n",
       "    .dataframe tbody tr th {\n",
       "        vertical-align: top;\n",
       "    }\n",
       "\n",
       "    .dataframe thead th {\n",
       "        text-align: right;\n",
       "    }\n",
       "</style>\n",
       "<table border=\"1\" class=\"dataframe\">\n",
       "  <thead>\n",
       "    <tr style=\"text-align: right;\">\n",
       "      <th></th>\n",
       "      <th>Пол</th>\n",
       "      <th>Направление</th>\n",
       "      <th>Группа</th>\n",
       "      <th>Уровень стресса в 3 модуле</th>\n",
       "      <th>Уровень стресса в 4 модуле</th>\n",
       "    </tr>\n",
       "  </thead>\n",
       "  <tbody>\n",
       "    <tr>\n",
       "      <th>0</th>\n",
       "      <td>м</td>\n",
       "      <td>Прикладная инженерия</td>\n",
       "      <td>БПИ215</td>\n",
       "      <td>8</td>\n",
       "      <td>NaN</td>\n",
       "    </tr>\n",
       "    <tr>\n",
       "      <th>1</th>\n",
       "      <td>м</td>\n",
       "      <td>Прикладная инженерия</td>\n",
       "      <td>БПИ213</td>\n",
       "      <td>7</td>\n",
       "      <td>NaN</td>\n",
       "    </tr>\n",
       "    <tr>\n",
       "      <th>2</th>\n",
       "      <td>м</td>\n",
       "      <td>Психология</td>\n",
       "      <td>БПс211</td>\n",
       "      <td>9</td>\n",
       "      <td>NaN</td>\n",
       "    </tr>\n",
       "    <tr>\n",
       "      <th>3</th>\n",
       "      <td>ж</td>\n",
       "      <td>Политология</td>\n",
       "      <td>БПо213</td>\n",
       "      <td>7</td>\n",
       "      <td>NaN</td>\n",
       "    </tr>\n",
       "    <tr>\n",
       "      <th>4</th>\n",
       "      <td>м</td>\n",
       "      <td>Психология</td>\n",
       "      <td>БПс211</td>\n",
       "      <td>7</td>\n",
       "      <td>NaN</td>\n",
       "    </tr>\n",
       "  </tbody>\n",
       "</table>\n",
       "</div>"
      ],
      "text/plain": [
       "  Пол           Направление  Группа  Уровень стресса в 3 модуле  \\\n",
       "0   м  Прикладная инженерия  БПИ215                           8   \n",
       "1   м  Прикладная инженерия  БПИ213                           7   \n",
       "2   м            Психология  БПс211                           9   \n",
       "3   ж           Политология  БПо213                           7   \n",
       "4   м            Психология  БПс211                           7   \n",
       "\n",
       "   Уровень стресса в 4 модуле  \n",
       "0                         NaN  \n",
       "1                         NaN  \n",
       "2                         NaN  \n",
       "3                         NaN  \n",
       "4                         NaN  "
      ]
     },
     "execution_count": 6,
     "metadata": {},
     "output_type": "execute_result"
    }
   ],
   "source": [
    "df.head()"
   ]
  },
  {
   "cell_type": "code",
   "execution_count": 19,
   "id": "fa56e1d5",
   "metadata": {},
   "outputs": [],
   "source": [
    "df_A = pd.DataFrame(columns=['Пол', 'Направление', 'Группа', 'Уровень стресса в 3 модуле', 'Уровень стресса в 4 модуле'])\n",
    "df_B = pd.DataFrame(columns=['Пол', 'Направление', 'Группа', 'Уровень стресса в 3 модуле', 'Уровень стресса в 4 модуле'])\n",
    "\n",
    "for i in df['Направление'].unique():\n",
    "    for k in df[df['Направление'] == i]['Группа'].unique():\n",
    "        tmp = df[(df['Направление'] == i) & (df['Группа'] == k)].sort_values(by='Уровень стресса в 3 модуле')\n",
    "        if len(df_A) < len(df_B):\n",
    "            df_A = pd.concat([df_A, tmp[tmp.reset_index().index % 2 == 0]])\n",
    "            df_B = pd.concat([df_B, tmp[tmp.reset_index().index % 2 == 1]])\n",
    "        else:\n",
    "            df_B = pd.concat([df_B, tmp[tmp.reset_index().index % 2 == 0]])\n",
    "            df_A = pd.concat([df_A, tmp[tmp.reset_index().index % 2 == 1]])"
   ]
  },
  {
   "cell_type": "code",
   "execution_count": 9,
   "id": "76b2bfb1",
   "metadata": {},
   "outputs": [
    {
     "data": {
      "image/png": "[encoded data removed]",
      "text/plain": [
       "<Figure size 1500x600 with 2 Axes>"
      ]
     },
     "metadata": {},
     "output_type": "display_data"
    }
   ],
   "source": [
    "fig = plt.figure(figsize=(15, 6))\n",
    "\n",
    "ax1 = fig.add_subplot(121)\n",
    "a = df_A['Уровень стресса в 3 модуле'].value_counts()\n",
    "ax1.bar(a.index, a)\n",
    "ax1.set_title('Выборка А')\n",
    "ax1.set_xlabel('Уровень стресса в 3 модуле')\n",
    "ax1.set_ylabel('Количество')\n",
    "ax1.set_xlim([4,11])\n",
    "\n",
    "ax2 = fig.add_subplot(122)\n",
    "b = df_B['Уровень стресса в 3 модуле'].value_counts()\n",
    "ax2.bar(b.index, b)\n",
    "ax2.set_title('Выборка В')\n",
    "ax2.set_xlabel('Уровень стресса в 3 модуле')\n",
    "ax2.set_ylabel('Количество')\n",
    "ax2.set_xlim([4,10])\n",
    "\n",
    "plt.show()"
   ]
  },
  {
   "cell_type": "markdown",
   "id": "55cd194d",
   "metadata": {},
   "source": [
    "<a id='section3'></a>\n",
    "### Проведем А/А-тест"
   ]
  },
  {
   "cell_type": "markdown",
   "id": "60b01500",
   "metadata": {},
   "source": [
    "#### Z-test"
   ]
  },
  {
   "cell_type": "markdown",
   "id": "5896f0ed",
   "metadata": {},
   "source": [
    "В тестах будем использовать z тест, так как распределение данных предполагается нормальным по ЦПТ: <br><br>\n",
    "$$z = \\frac{\\overline{X_1} - \\overline{X_2}}{\\sqrt{\\frac{\\sigma_1^2}{n_1} + \\frac{\\sigma_2^2}{n_2}}}$$"
   ]
  },
  {
   "cell_type": "markdown",
   "id": "be3f961a",
   "metadata": {},
   "source": [
    "Сначала проверим однородность выборок А и В. При верном разделении данных тест должен подтвердить, что данные в выборках собирались в одинаковых условиях И разницы между ними нет.<br>\n",
    "$H_0$: Разных условий не было. ($\\mu_c = \\mu_t$)<br>\n",
    "$H_1$: Разница была. ($\\mu_c \\neq \\mu_t$)"
   ]
  },
  {
   "cell_type": "code",
   "execution_count": 10,
   "id": "13cd7c6c",
   "metadata": {},
   "outputs": [
    {
     "name": "stdout",
     "output_type": "stream",
     "text": [
      "Гипотеза не отвергается\n"
     ]
    }
   ],
   "source": [
    "A = list(df_A['Уровень стресса в 3 модуле'])\n",
    "B = list(df_B['Уровень стресса в 3 модуле'])\n",
    "\n",
    "if stests.ztest(x1=A, x2=B)[1] < alpha:\n",
    "    print('Гипотеза отвергается')\n",
    "else:\n",
    "    print('Гипотеза не отвергается')"
   ]
  },
  {
   "cell_type": "markdown",
   "id": "1274c448",
   "metadata": {},
   "source": [
    "Следовательно, выборки репрезентативные и на них можно проводить А/В-тест."
   ]
  },
  {
   "cell_type": "markdown",
   "id": "11d6e773",
   "metadata": {},
   "source": [
    "#### Linear Regression"
   ]
  },
  {
   "cell_type": "markdown",
   "id": "bacbc522",
   "metadata": {},
   "source": [
    "Попробуем проверить гипотезы с помощью линейной регрессии для того, того чтобы повысить точность А/В-теста без увеличения размера выборки. Пусть:\n",
    "$$ d_i =\n",
    "  \\begin{cases}\n",
    "    1, & \\text{если } i \\in \\text{treatment} \\\\\n",
    "    0, & \\text{иначе}\n",
    "  \\end{cases}\n",
    "$$\n",
    "\n",
    "Переформулируем гипотезы в терминах линейной регрессии:\n",
    "\n",
    "$$y_i = w_0 + w_1 \\cdot d_i + u_i,$$\n",
    "\n",
    "где $w_0 = \\mu_c$; $w_1 = \\mu_t - \\mu_c$; $u_i$ - случайная величина, олицитворяющая шум.\n",
    "\n",
    "Варианты построения оценок на параметры:\n",
    "1. Метод наименьших квадратов: минимизация MSE по $w \\Rightarrow \\hat{w} = (X^TX)^{-1}X^TY$;\n",
    "2. Метод максимального правдоподобия при $u_i \\sim N(0, \\sigma^2)$\n",
    "\n",
    "Предпоссылки к построению качественных (BLUE) оценок параметров:\n",
    "1. Независимость: $(x_i, y_i)$ - независимы по i;\n",
    "2. Экзогенность: данные собраны так, что все остальные факторы не влияют: $M(u_i|x_i) = 0$. Отсутствие эндогенности;\n",
    "3. Гомоскедастичность: дисперсия ошибки не зависит от $x_i$: $Var(u_i|x_i) =\\sigma^2 $. Отсутствие гетероскедастичности.\n",
    "4. Нет линейнозависимых переменных в системе: $P(\\text{rank }x = k) = 1$, где k - число столбцов. Отсутствие мультиколлинеарности;\n",
    "5. Нет выбросов: $M(x_i^4) < \\infty$, $M(y_i^4) < \\infty$. \n",
    "\n",
    "При условии выполнения предпоссылок становится верна теорема Гаусса-Маркова: \n",
    "Оценки, построенные одним из двух методов, являются состоятельнами, несмещенными и эффективными в классе всех несмещенных линейных по у оценок. Так как нет выбросов, то по ЦПТ ассимптотически верно:\n",
    "$$\\left(\\begin{array}{c}\n",
    "      \\hat{w_0} \\\\\n",
    "      \\hat{w_1}\n",
    "    \\end{array}\n",
    "    \\right) \\sim N\\left(\\left(\\begin{array}{c}\n",
    "      w_0 \\\\\n",
    "      w_1\n",
    "    \\end{array}\n",
    "    \\right), \\sigma^2(X^TX)^{-1}\\right)$$\n",
    "\n",
    "Используя всё выше сказанное, расчитаем статистику:\n",
    "- По методу наименьших квадратов:\n",
    "$$\\hat{w_1} = (X^TX)^{-1}X^TY \\Rightarrow \\hat{w_1} = \\frac{\\sum_{i=1}^n x_i y_i}{\\sum_{i=1}^n x_i^2} \\Rightarrow \\hat{w_1} = \\frac{\\sum_{i=1}^n (x_i-\\overline{x}) (y_i-\\overline{y})}{\\sum_{i=1}^n (x_i-\\overline{x})^2} $$\n",
    "- Оценка на дисперсию:\n",
    "$$\\hat{\\sigma} = \\frac{\\sum_{i=1}^n (y_i-\\overline{y})^2}{n-k-1} = \\frac{RSS}{98} $$\n",
    "- Статистика:\n",
    "$$z = \\frac{\\hat{w_1}-\\beta_0}{SE(\\hat{w_1})} = \\frac{(\\hat{w_1}-\\beta_0)\\sqrt{\\sum_{i=1}^n (d_i - \\overline{d})^2}}{\\sqrt{\\frac{RSS}{98}}}$$\n",
    "\n",
    "Тогда гипотезы для $\\beta_0 = 0$: <br>\n",
    "$H_0$: Разных условий не было. ($w_1 = \\beta_0$) <br>\n",
    "$H_1$: Разница была. ($w_1 \\neq \\beta_0$)"
   ]
  },
  {
   "cell_type": "code",
   "execution_count": 38,
   "id": "ff385f2c",
   "metadata": {},
   "outputs": [],
   "source": [
    "df_AA = pd.DataFrame(columns=['target', 'd_i'])\n",
    "df_AA['target'] = df['Уровень стресса в 3 модуле']\n",
    "df_AA['d_i'] = [1 if x in df_A.index else 0 for x in df_AA.index]"
   ]
  },
  {
   "cell_type": "code",
   "execution_count": 51,
   "id": "6c77a9f8",
   "metadata": {
    "scrolled": false
   },
   "outputs": [
    {
     "data": {
      "text/html": [
       "<table class=\"simpletable\">\n",
       "<caption>OLS Regression Results</caption>\n",
       "<tr>\n",
       "  <th>Dep. Variable:</th>         <td>target</td>      <th>  R-squared:         </th> <td>   0.017</td>\n",
       "</tr>\n",
       "<tr>\n",
       "  <th>Model:</th>                   <td>OLS</td>       <th>  Adj. R-squared:    </th> <td>  -0.006</td>\n",
       "</tr>\n",
       "<tr>\n",
       "  <th>Method:</th>             <td>Least Squares</td>  <th>  F-statistic:       </th> <td>  0.7345</td>\n",
       "</tr>\n",
       "<tr>\n",
       "  <th>Date:</th>             <td>Fri, 31 May 2024</td> <th>  Prob (F-statistic):</th>  <td> 0.396</td> \n",
       "</tr>\n",
       "<tr>\n",
       "  <th>Time:</th>                 <td>01:29:22</td>     <th>  Log-Likelihood:    </th> <td> -70.567</td>\n",
       "</tr>\n",
       "<tr>\n",
       "  <th>No. Observations:</th>      <td>    44</td>      <th>  AIC:               </th> <td>   145.1</td>\n",
       "</tr>\n",
       "<tr>\n",
       "  <th>Df Residuals:</th>          <td>    42</td>      <th>  BIC:               </th> <td>   148.7</td>\n",
       "</tr>\n",
       "<tr>\n",
       "  <th>Df Model:</th>              <td>     1</td>      <th>                     </th>     <td> </td>   \n",
       "</tr>\n",
       "<tr>\n",
       "  <th>Covariance Type:</th>      <td>nonrobust</td>    <th>                     </th>     <td> </td>   \n",
       "</tr>\n",
       "</table>\n",
       "<table class=\"simpletable\">\n",
       "<tr>\n",
       "      <td></td>         <th>coef</th>     <th>std err</th>      <th>t</th>      <th>P>|t|</th>  <th>[0.025</th>    <th>0.975]</th>  \n",
       "</tr>\n",
       "<tr>\n",
       "  <th>Intercept</th> <td>    7.4091</td> <td>    0.263</td> <td>   28.222</td> <td> 0.000</td> <td>    6.879</td> <td>    7.939</td>\n",
       "</tr>\n",
       "<tr>\n",
       "  <th>d_i</th>       <td>    0.3182</td> <td>    0.371</td> <td>    0.857</td> <td> 0.396</td> <td>   -0.431</td> <td>    1.067</td>\n",
       "</tr>\n",
       "</table>\n",
       "<table class=\"simpletable\">\n",
       "<tr>\n",
       "  <th>Omnibus:</th>       <td> 0.639</td> <th>  Durbin-Watson:     </th> <td>   1.748</td>\n",
       "</tr>\n",
       "<tr>\n",
       "  <th>Prob(Omnibus):</th> <td> 0.727</td> <th>  Jarque-Bera (JB):  </th> <td>   0.702</td>\n",
       "</tr>\n",
       "<tr>\n",
       "  <th>Skew:</th>          <td>-0.077</td> <th>  Prob(JB):          </th> <td>   0.704</td>\n",
       "</tr>\n",
       "<tr>\n",
       "  <th>Kurtosis:</th>      <td> 2.401</td> <th>  Cond. No.          </th> <td>    2.62</td>\n",
       "</tr>\n",
       "</table><br/><br/>Notes:<br/>[1] Standard Errors assume that the covariance matrix of the errors is correctly specified."
      ],
      "text/latex": [
       "\\begin{center}\n",
       "\\begin{tabular}{lclc}\n",
       "\\toprule\n",
       "\\textbf{Dep. Variable:}    &      target      & \\textbf{  R-squared:         } &     0.017   \\\\\n",
       "\\textbf{Model:}            &       OLS        & \\textbf{  Adj. R-squared:    } &    -0.006   \\\\\n",
       "\\textbf{Method:}           &  Least Squares   & \\textbf{  F-statistic:       } &    0.7345   \\\\\n",
       "\\textbf{Date:}             & Fri, 31 May 2024 & \\textbf{  Prob (F-statistic):} &    0.396    \\\\\n",
       "\\textbf{Time:}             &     01:29:22     & \\textbf{  Log-Likelihood:    } &   -70.567   \\\\\n",
       "\\textbf{No. Observations:} &          44      & \\textbf{  AIC:               } &     145.1   \\\\\n",
       "\\textbf{Df Residuals:}     &          42      & \\textbf{  BIC:               } &     148.7   \\\\\n",
       "\\textbf{Df Model:}         &           1      & \\textbf{                     } &             \\\\\n",
       "\\textbf{Covariance Type:}  &    nonrobust     & \\textbf{                     } &             \\\\\n",
       "\\bottomrule\n",
       "\\end{tabular}\n",
       "\\begin{tabular}{lcccccc}\n",
       "                   & \\textbf{coef} & \\textbf{std err} & \\textbf{t} & \\textbf{P$> |$t$|$} & \\textbf{[0.025} & \\textbf{0.975]}  \\\\\n",
       "\\midrule\n",
       "\\textbf{Intercept} &       7.4091  &        0.263     &    28.222  &         0.000        &        6.879    &        7.939     \\\\\n",
       "\\textbf{d\\_i}      &       0.3182  &        0.371     &     0.857  &         0.396        &       -0.431    &        1.067     \\\\\n",
       "\\bottomrule\n",
       "\\end{tabular}\n",
       "\\begin{tabular}{lclc}\n",
       "\\textbf{Omnibus:}       &  0.639 & \\textbf{  Durbin-Watson:     } &    1.748  \\\\\n",
       "\\textbf{Prob(Omnibus):} &  0.727 & \\textbf{  Jarque-Bera (JB):  } &    0.702  \\\\\n",
       "\\textbf{Skew:}          & -0.077 & \\textbf{  Prob(JB):          } &    0.704  \\\\\n",
       "\\textbf{Kurtosis:}      &  2.401 & \\textbf{  Cond. No.          } &     2.62  \\\\\n",
       "\\bottomrule\n",
       "\\end{tabular}\n",
       "%\\caption{OLS Regression Results}\n",
       "\\end{center}\n",
       "\n",
       "Notes: \\newline\n",
       " [1] Standard Errors assume that the covariance matrix of the errors is correctly specified."
      ],
      "text/plain": [
       "<class 'statsmodels.iolib.summary.Summary'>\n",
       "\"\"\"\n",
       "                            OLS Regression Results                            \n",
       "==============================================================================\n",
       "Dep. Variable:                 target   R-squared:                       0.017\n",
       "Model:                            OLS   Adj. R-squared:                 -0.006\n",
       "Method:                 Least Squares   F-statistic:                    0.7345\n",
       "Date:                Fri, 31 May 2024   Prob (F-statistic):              0.396\n",
       "Time:                        01:29:22   Log-Likelihood:                -70.567\n",
       "No. Observations:                  44   AIC:                             145.1\n",
       "Df Residuals:                      42   BIC:                             148.7\n",
       "Df Model:                           1                                         \n",
       "Covariance Type:            nonrobust                                         \n",
       "==============================================================================\n",
       "                 coef    std err          t      P>|t|      [0.025      0.975]\n",
       "------------------------------------------------------------------------------\n",
       "Intercept      7.4091      0.263     28.222      0.000       6.879       7.939\n",
       "d_i            0.3182      0.371      0.857      0.396      -0.431       1.067\n",
       "==============================================================================\n",
       "Omnibus:                        0.639   Durbin-Watson:                   1.748\n",
       "Prob(Omnibus):                  0.727   Jarque-Bera (JB):                0.702\n",
       "Skew:                          -0.077   Prob(JB):                        0.704\n",
       "Kurtosis:                       2.401   Cond. No.                         2.62\n",
       "==============================================================================\n",
       "\n",
       "Notes:\n",
       "[1] Standard Errors assume that the covariance matrix of the errors is correctly specified.\n",
       "\"\"\""
      ]
     },
     "execution_count": 51,
     "metadata": {},
     "output_type": "execute_result"
    }
   ],
   "source": [
    "model = smf.ols('target ~ d_i', data=df_AA)\n",
    "res = model.fit()\n",
    "res.summary()"
   ]
  },
  {
   "cell_type": "code",
   "execution_count": 52,
   "id": "c8a6cc47",
   "metadata": {},
   "outputs": [
    {
     "name": "stdout",
     "output_type": "stream",
     "text": [
      "Гипотеза не отвергается\n"
     ]
    }
   ],
   "source": [
    "p_value = 0.396\n",
    "alpha = 0.05 # Так как построен 95% доверительный интервал\n",
    "\n",
    "if p_value < alpha:\n",
    "    print('Гипотеза отвергается')\n",
    "else:\n",
    "    print('Гипотеза не отвергается')"
   ]
  },
  {
   "cell_type": "markdown",
   "id": "f2f3982c",
   "metadata": {},
   "source": [
    "### Данные для A/B-теста\n",
    "Соберем новые данные в 4 модуле. Напомним, студенты из выборки А не меняли стратегию обучения и сдавали все работы на последней неделе. Представители выборки В сдавали по 1 работе в неделю на протяжении всего модуля."
   ]
  },
  {
   "cell_type": "code",
   "execution_count": 13,
   "id": "a9edec32",
   "metadata": {},
   "outputs": [],
   "source": [
    "df_A_new = pd.read_csv('data_A.txt', sep=' ')\n",
    "df_B_new = pd.read_csv('data_B.txt', sep=' ')"
   ]
  },
  {
   "cell_type": "code",
   "execution_count": 14,
   "id": "c5e47b4f",
   "metadata": {},
   "outputs": [
    {
     "data": {
      "image/png": "[encoded data removed]",
      "text/plain": [
       "<Figure size 1500x600 with 2 Axes>"
      ]
     },
     "metadata": {},
     "output_type": "display_data"
    }
   ],
   "source": [
    "fig = plt.figure(figsize=(15, 6))\n",
    "\n",
    "ax1 = fig.add_subplot(121)\n",
    "a = df_A_new['Уровень стресса в 4 модуле'].value_counts()\n",
    "ax1.bar(a.index, a)\n",
    "ax1.set_title('Выборка А')\n",
    "ax1.set_xlabel('Уровень стресса в 4 модуле')\n",
    "ax1.set_ylabel('Количество')\n",
    "ax1.set_xlim([5,10])\n",
    "\n",
    "ax2 = fig.add_subplot(122)\n",
    "b = df_B_new['Уровень стресса в 4 модуле'].value_counts()\n",
    "ax2.bar(b.index, b)\n",
    "ax2.set_title('Выборка В')\n",
    "ax2.set_xlabel('Уровень стресса в 4 модуле')\n",
    "ax2.set_ylabel('Количество')\n",
    "ax2.set_xlim([2,7])\n",
    "\n",
    "plt.show()"
   ]
  },
  {
   "cell_type": "markdown",
   "id": "dab7167b",
   "metadata": {},
   "source": [
    "<a id='section4'></a>\n",
    "### Проведем А/В-тест"
   ]
  },
  {
   "cell_type": "markdown",
   "id": "3e9ebe88",
   "metadata": {},
   "source": [
    "$H_0$: В среднем уровень стресса у студентов, которые сдают работы на последней неделе модуля, не отличается от уровня стресса тех, кто выполняет все работы заранее.<br>\n",
    "$H_1$: Верно обратное."
   ]
  },
  {
   "cell_type": "markdown",
   "id": "4c6be779",
   "metadata": {},
   "source": [
    "#### Z-test"
   ]
  },
  {
   "cell_type": "code",
   "execution_count": 36,
   "id": "d1b5cd50",
   "metadata": {},
   "outputs": [
    {
     "name": "stdout",
     "output_type": "stream",
     "text": [
      "Гипотеза отвергается\n"
     ]
    }
   ],
   "source": [
    "A_new = list(df_A_new['Уровень стресса в 4 модуле'])\n",
    "B_new = list(df_B_new['Уровень стресса в 4 модуле'])\n",
    "\n",
    "if stests.ztest(x1=A_new, x2=B_new)[1] < alpha:\n",
    "    print('Гипотеза отвергается')\n",
    "else:\n",
    "    print('Гипотеза не отвергается')"
   ]
  },
  {
   "cell_type": "markdown",
   "id": "20b7ad44",
   "metadata": {},
   "source": [
    "#### Linear Regression"
   ]
  },
  {
   "cell_type": "code",
   "execution_count": 46,
   "id": "13318397",
   "metadata": {},
   "outputs": [],
   "source": [
    "df_A_new['d_i'] = [1 for i in range(22)]\n",
    "df_B_new['d_i'] = [0 for i in range(22)]\n",
    "df_AB = pd.concat([df_A_new[['Уровень стресса в 4 модуле', 'd_i']], df_B_new[['Уровень стресса в 4 модуле', 'd_i']]])\n",
    "df_AB.columns = ['target', 'd_i']"
   ]
  },
  {
   "cell_type": "code",
   "execution_count": 47,
   "id": "153a0af1",
   "metadata": {},
   "outputs": [
    {
     "data": {
      "text/html": [
       "<table class=\"simpletable\">\n",
       "<caption>OLS Regression Results</caption>\n",
       "<tr>\n",
       "  <th>Dep. Variable:</th>         <td>target</td>      <th>  R-squared:         </th> <td>   0.753</td>\n",
       "</tr>\n",
       "<tr>\n",
       "  <th>Model:</th>                   <td>OLS</td>       <th>  Adj. R-squared:    </th> <td>   0.747</td>\n",
       "</tr>\n",
       "<tr>\n",
       "  <th>Method:</th>             <td>Least Squares</td>  <th>  F-statistic:       </th> <td>   128.1</td>\n",
       "</tr>\n",
       "<tr>\n",
       "  <th>Date:</th>             <td>Fri, 31 May 2024</td> <th>  Prob (F-statistic):</th> <td>2.44e-14</td>\n",
       "</tr>\n",
       "<tr>\n",
       "  <th>Time:</th>                 <td>01:18:37</td>     <th>  Log-Likelihood:    </th> <td> -52.984</td>\n",
       "</tr>\n",
       "<tr>\n",
       "  <th>No. Observations:</th>      <td>    44</td>      <th>  AIC:               </th> <td>   110.0</td>\n",
       "</tr>\n",
       "<tr>\n",
       "  <th>Df Residuals:</th>          <td>    42</td>      <th>  BIC:               </th> <td>   113.5</td>\n",
       "</tr>\n",
       "<tr>\n",
       "  <th>Df Model:</th>              <td>     1</td>      <th>                     </th>     <td> </td>   \n",
       "</tr>\n",
       "<tr>\n",
       "  <th>Covariance Type:</th>      <td>nonrobust</td>    <th>                     </th>     <td> </td>   \n",
       "</tr>\n",
       "</table>\n",
       "<table class=\"simpletable\">\n",
       "<tr>\n",
       "      <td></td>         <th>coef</th>     <th>std err</th>      <th>t</th>      <th>P>|t|</th>  <th>[0.025</th>    <th>0.975]</th>  \n",
       "</tr>\n",
       "<tr>\n",
       "  <th>Intercept</th> <td>    4.5909</td> <td>    0.176</td> <td>   26.078</td> <td> 0.000</td> <td>    4.236</td> <td>    4.946</td>\n",
       "</tr>\n",
       "<tr>\n",
       "  <th>d_i</th>       <td>    2.8182</td> <td>    0.249</td> <td>   11.320</td> <td> 0.000</td> <td>    2.316</td> <td>    3.321</td>\n",
       "</tr>\n",
       "</table>\n",
       "<table class=\"simpletable\">\n",
       "<tr>\n",
       "  <th>Omnibus:</th>       <td> 0.235</td> <th>  Durbin-Watson:     </th> <td>   2.096</td>\n",
       "</tr>\n",
       "<tr>\n",
       "  <th>Prob(Omnibus):</th> <td> 0.889</td> <th>  Jarque-Bera (JB):  </th> <td>   0.363</td>\n",
       "</tr>\n",
       "<tr>\n",
       "  <th>Skew:</th>          <td> 0.153</td> <th>  Prob(JB):          </th> <td>   0.834</td>\n",
       "</tr>\n",
       "<tr>\n",
       "  <th>Kurtosis:</th>      <td> 2.678</td> <th>  Cond. No.          </th> <td>    2.62</td>\n",
       "</tr>\n",
       "</table><br/><br/>Notes:<br/>[1] Standard Errors assume that the covariance matrix of the errors is correctly specified."
      ],
      "text/latex": [
       "\\begin{center}\n",
       "\\begin{tabular}{lclc}\n",
       "\\toprule\n",
       "\\textbf{Dep. Variable:}    &      target      & \\textbf{  R-squared:         } &     0.753   \\\\\n",
       "\\textbf{Model:}            &       OLS        & \\textbf{  Adj. R-squared:    } &     0.747   \\\\\n",
       "\\textbf{Method:}           &  Least Squares   & \\textbf{  F-statistic:       } &     128.1   \\\\\n",
       "\\textbf{Date:}             & Fri, 31 May 2024 & \\textbf{  Prob (F-statistic):} &  2.44e-14   \\\\\n",
       "\\textbf{Time:}             &     01:18:37     & \\textbf{  Log-Likelihood:    } &   -52.984   \\\\\n",
       "\\textbf{No. Observations:} &          44      & \\textbf{  AIC:               } &     110.0   \\\\\n",
       "\\textbf{Df Residuals:}     &          42      & \\textbf{  BIC:               } &     113.5   \\\\\n",
       "\\textbf{Df Model:}         &           1      & \\textbf{                     } &             \\\\\n",
       "\\textbf{Covariance Type:}  &    nonrobust     & \\textbf{                     } &             \\\\\n",
       "\\bottomrule\n",
       "\\end{tabular}\n",
       "\\begin{tabular}{lcccccc}\n",
       "                   & \\textbf{coef} & \\textbf{std err} & \\textbf{t} & \\textbf{P$> |$t$|$} & \\textbf{[0.025} & \\textbf{0.975]}  \\\\\n",
       "\\midrule\n",
       "\\textbf{Intercept} &       4.5909  &        0.176     &    26.078  &         0.000        &        4.236    &        4.946     \\\\\n",
       "\\textbf{d\\_i}      &       2.8182  &        0.249     &    11.320  &         0.000        &        2.316    &        3.321     \\\\\n",
       "\\bottomrule\n",
       "\\end{tabular}\n",
       "\\begin{tabular}{lclc}\n",
       "\\textbf{Omnibus:}       &  0.235 & \\textbf{  Durbin-Watson:     } &    2.096  \\\\\n",
       "\\textbf{Prob(Omnibus):} &  0.889 & \\textbf{  Jarque-Bera (JB):  } &    0.363  \\\\\n",
       "\\textbf{Skew:}          &  0.153 & \\textbf{  Prob(JB):          } &    0.834  \\\\\n",
       "\\textbf{Kurtosis:}      &  2.678 & \\textbf{  Cond. No.          } &     2.62  \\\\\n",
       "\\bottomrule\n",
       "\\end{tabular}\n",
       "%\\caption{OLS Regression Results}\n",
       "\\end{center}\n",
       "\n",
       "Notes: \\newline\n",
       " [1] Standard Errors assume that the covariance matrix of the errors is correctly specified."
      ],
      "text/plain": [
       "<class 'statsmodels.iolib.summary.Summary'>\n",
       "\"\"\"\n",
       "                            OLS Regression Results                            \n",
       "==============================================================================\n",
       "Dep. Variable:                 target   R-squared:                       0.753\n",
       "Model:                            OLS   Adj. R-squared:                  0.747\n",
       "Method:                 Least Squares   F-statistic:                     128.1\n",
       "Date:                Fri, 31 May 2024   Prob (F-statistic):           2.44e-14\n",
       "Time:                        01:18:37   Log-Likelihood:                -52.984\n",
       "No. Observations:                  44   AIC:                             110.0\n",
       "Df Residuals:                      42   BIC:                             113.5\n",
       "Df Model:                           1                                         \n",
       "Covariance Type:            nonrobust                                         \n",
       "==============================================================================\n",
       "                 coef    std err          t      P>|t|      [0.025      0.975]\n",
       "------------------------------------------------------------------------------\n",
       "Intercept      4.5909      0.176     26.078      0.000       4.236       4.946\n",
       "d_i            2.8182      0.249     11.320      0.000       2.316       3.321\n",
       "==============================================================================\n",
       "Omnibus:                        0.235   Durbin-Watson:                   2.096\n",
       "Prob(Omnibus):                  0.889   Jarque-Bera (JB):                0.363\n",
       "Skew:                           0.153   Prob(JB):                        0.834\n",
       "Kurtosis:                       2.678   Cond. No.                         2.62\n",
       "==============================================================================\n",
       "\n",
       "Notes:\n",
       "[1] Standard Errors assume that the covariance matrix of the errors is correctly specified.\n",
       "\"\"\""
      ]
     },
     "execution_count": 47,
     "metadata": {},
     "output_type": "execute_result"
    }
   ],
   "source": [
    "model = smf.ols('target ~ d_i', data=df_AB)\n",
    "res = model.fit()\n",
    "res.summary()"
   ]
  },
  {
   "cell_type": "code",
   "execution_count": 53,
   "id": "4e1c2646",
   "metadata": {},
   "outputs": [
    {
     "name": "stdout",
     "output_type": "stream",
     "text": [
      "Гипотеза отвергается\n"
     ]
    }
   ],
   "source": [
    "p_value = 0.000\n",
    "alpha = 0.05 # Так как построен 95% доверительный интервал\n",
    "\n",
    "if p_value < alpha:\n",
    "    print('Гипотеза отвергается')\n",
    "else:\n",
    "    print('Гипотеза не отвергается')"
   ]
  },
  {
   "cell_type": "markdown",
   "id": "922c061f",
   "metadata": {},
   "source": [
    "<a id='section5'></a>\n",
    "## Итоги"
   ]
  },
  {
   "cell_type": "markdown",
   "id": "10ea672f",
   "metadata": {},
   "source": [
    "- В ходе данной работы была проверена правдоподобность гипотезы о том, что в среднем уровень стресса у студентов, которые сдают работы на последней неделе модуля, ниже, чем у тех, кто выполняет все работы заранее;\n",
    "- До проведения А/В-теста, были высчитаны необходимые метрики для эксперимента: ошибка первого рода, мощность, эффект, минимальное количество испытаний;\n",
    "- Был успешно проведен А/А-тест; \n",
    "- Гипотеза отверглась, следовательно, верна альтернативная: **В среднем уровень стресса у студентов, которые сдают работы на последней неделе модуля, отличается от уровня стресса у тех, кто выполняет все работы заранее.**"
   ]
  },
  {
   "cell_type": "code",
   "execution_count": null,
   "id": "4897c180",
   "metadata": {},
   "outputs": [],
   "source": []
  }
 ],
 "metadata": {
  "kernelspec": {
   "display_name": "Python 3 (ipykernel)",
   "language": "python",
   "name": "python3"
  },
  "language_info": {
   "codemirror_mode": {
    "name": "ipython",
    "version": 3
   },
   "file_extension": ".py",
   "mimetype": "text/x-python",
   "name": "python",
   "nbconvert_exporter": "python",
   "pygments_lexer": "ipython3",
   "version": "3.11.3"
  }
 },
 "nbformat": 4,
 "nbformat_minor": 5
}
