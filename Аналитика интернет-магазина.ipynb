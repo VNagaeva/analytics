{
 "cells": [
  {
   "cell_type": "markdown",
   "id": "510a074d",
   "metadata": {},
   "source": [
    "# Аналитика интернет-магазина"
   ]
  },
  {
   "cell_type": "markdown",
   "id": "2adecb2d",
   "metadata": {},
   "source": [
    "Вы работаете в интернет-магазине «Стримчик», который продаёт по всему миру компьютерные игры. Из открытых источников доступны исторические данные о продажах игр, оценки пользователей и экспертов, жанры и платформы (например, Xbox или PlayStation). Вам нужно выявить определяющие успешность игры закономерности. Это позволит сделать ставку на потенциально популярный продукт и спланировать рекламные кампании. <br> <br>\n",
    "Перед вами данные до 2016 года. Представим, что сейчас декабрь 2016 г., и вы планируете кампанию на 2017-й. Нужно отработать принцип работы с данными. Неважно, прогнозируете ли вы продажи на 2017 год по данным 2016-го или же 2027-й — по данным 2026 года.<br> <br>\n",
    "В наборе данных попадается аббревиатура ESRB (Entertainment Software Rating Board) — это ассоциация, определяющая возрастной рейтинг компьютерных игр. ESRB оценивает игровой контент и присваивает ему подходящую возрастную категорию, например, «Для взрослых», «Для детей младшего возраста» или «Для подростков»."
   ]
  },
  {
   "cell_type": "markdown",
   "id": "7f09673f",
   "metadata": {},
   "source": [
    "### Содержание\n",
    "<a href='#section1'> 1. Информация о данных </a> <br>\n",
    "<a href='#section2'> 2. Подготовка данных </a> <br>\n",
    "<a href='#section3'> 3. Исследовательский анализ данных </a> <br>\n",
    "<a href='#section4'> 4. Портрет пользователя каждого региона </a> <br>\n",
    "<a href='#section5'> 5. Проверка гипотез </a> <br>\n",
    "<a href='#section6'> 6. Итоги </a>"
   ]
  },
  {
   "cell_type": "code",
   "execution_count": 1,
   "id": "ef9ebcce",
   "metadata": {},
   "outputs": [],
   "source": [
    "import pandas as pd\n",
    "import numpy as np\n",
    "import seaborn as sns\n",
    "import matplotlib.pyplot as plt\n",
    "from scipy import stats as st"
   ]
  },
  {
   "cell_type": "markdown",
   "id": "55106cec",
   "metadata": {},
   "source": [
    "<a id='section1'></a>\n",
    "## Информация о данных"
   ]
  },
  {
   "cell_type": "code",
   "execution_count": 2,
   "id": "7887230e",
   "metadata": {},
   "outputs": [],
   "source": [
    "try:\n",
    "    df = pd.read_csv('games.csv')\n",
    "except:\n",
    "    df = pd.read_csv('/datasets/games.csv')"
   ]
  },
  {
   "cell_type": "code",
   "execution_count": 3,
   "id": "9ab3bace",
   "metadata": {},
   "outputs": [
    {
     "data": {
      "text/html": [
       "<div>\n",
       "<style scoped>\n",
       "    .dataframe tbody tr th:only-of-type {\n",
       "        vertical-align: middle;\n",
       "    }\n",
       "\n",
       "    .dataframe tbody tr th {\n",
       "        vertical-align: top;\n",
       "    }\n",
       "\n",
       "    .dataframe thead th {\n",
       "        text-align: right;\n",
       "    }\n",
       "</style>\n",
       "<table border=\"1\" class=\"dataframe\">\n",
       "  <thead>\n",
       "    <tr style=\"text-align: right;\">\n",
       "      <th></th>\n",
       "      <th>Name</th>\n",
       "      <th>Platform</th>\n",
       "      <th>Year_of_Release</th>\n",
       "      <th>Genre</th>\n",
       "      <th>NA_sales</th>\n",
       "      <th>EU_sales</th>\n",
       "      <th>JP_sales</th>\n",
       "      <th>Other_sales</th>\n",
       "      <th>Critic_Score</th>\n",
       "      <th>User_Score</th>\n",
       "      <th>Rating</th>\n",
       "    </tr>\n",
       "  </thead>\n",
       "  <tbody>\n",
       "    <tr>\n",
       "      <th>0</th>\n",
       "      <td>Wii Sports</td>\n",
       "      <td>Wii</td>\n",
       "      <td>2006.0</td>\n",
       "      <td>Sports</td>\n",
       "      <td>41.36</td>\n",
       "      <td>28.96</td>\n",
       "      <td>3.77</td>\n",
       "      <td>8.45</td>\n",
       "      <td>76.0</td>\n",
       "      <td>8</td>\n",
       "      <td>E</td>\n",
       "    </tr>\n",
       "    <tr>\n",
       "      <th>1</th>\n",
       "      <td>Super Mario Bros.</td>\n",
       "      <td>NES</td>\n",
       "      <td>1985.0</td>\n",
       "      <td>Platform</td>\n",
       "      <td>29.08</td>\n",
       "      <td>3.58</td>\n",
       "      <td>6.81</td>\n",
       "      <td>0.77</td>\n",
       "      <td>NaN</td>\n",
       "      <td>NaN</td>\n",
       "      <td>NaN</td>\n",
       "    </tr>\n",
       "    <tr>\n",
       "      <th>2</th>\n",
       "      <td>Mario Kart Wii</td>\n",
       "      <td>Wii</td>\n",
       "      <td>2008.0</td>\n",
       "      <td>Racing</td>\n",
       "      <td>15.68</td>\n",
       "      <td>12.76</td>\n",
       "      <td>3.79</td>\n",
       "      <td>3.29</td>\n",
       "      <td>82.0</td>\n",
       "      <td>8.3</td>\n",
       "      <td>E</td>\n",
       "    </tr>\n",
       "    <tr>\n",
       "      <th>3</th>\n",
       "      <td>Wii Sports Resort</td>\n",
       "      <td>Wii</td>\n",
       "      <td>2009.0</td>\n",
       "      <td>Sports</td>\n",
       "      <td>15.61</td>\n",
       "      <td>10.93</td>\n",
       "      <td>3.28</td>\n",
       "      <td>2.95</td>\n",
       "      <td>80.0</td>\n",
       "      <td>8</td>\n",
       "      <td>E</td>\n",
       "    </tr>\n",
       "    <tr>\n",
       "      <th>4</th>\n",
       "      <td>Pokemon Red/Pokemon Blue</td>\n",
       "      <td>GB</td>\n",
       "      <td>1996.0</td>\n",
       "      <td>Role-Playing</td>\n",
       "      <td>11.27</td>\n",
       "      <td>8.89</td>\n",
       "      <td>10.22</td>\n",
       "      <td>1.00</td>\n",
       "      <td>NaN</td>\n",
       "      <td>NaN</td>\n",
       "      <td>NaN</td>\n",
       "    </tr>\n",
       "  </tbody>\n",
       "</table>\n",
       "</div>"
      ],
      "text/plain": [
       "                       Name Platform  Year_of_Release         Genre  NA_sales  \\\n",
       "0                Wii Sports      Wii           2006.0        Sports     41.36   \n",
       "1         Super Mario Bros.      NES           1985.0      Platform     29.08   \n",
       "2            Mario Kart Wii      Wii           2008.0        Racing     15.68   \n",
       "3         Wii Sports Resort      Wii           2009.0        Sports     15.61   \n",
       "4  Pokemon Red/Pokemon Blue       GB           1996.0  Role-Playing     11.27   \n",
       "\n",
       "   EU_sales  JP_sales  Other_sales  Critic_Score User_Score Rating  \n",
       "0     28.96      3.77         8.45          76.0          8      E  \n",
       "1      3.58      6.81         0.77           NaN        NaN    NaN  \n",
       "2     12.76      3.79         3.29          82.0        8.3      E  \n",
       "3     10.93      3.28         2.95          80.0          8      E  \n",
       "4      8.89     10.22         1.00           NaN        NaN    NaN  "
      ]
     },
     "execution_count": 3,
     "metadata": {},
     "output_type": "execute_result"
    }
   ],
   "source": [
    "df.head()"
   ]
  },
  {
   "cell_type": "code",
   "execution_count": 4,
   "id": "3275cc8a",
   "metadata": {},
   "outputs": [
    {
     "name": "stdout",
     "output_type": "stream",
     "text": [
      "<class 'pandas.core.frame.DataFrame'>\n",
      "RangeIndex: 16715 entries, 0 to 16714\n",
      "Data columns (total 11 columns):\n",
      " #   Column           Non-Null Count  Dtype  \n",
      "---  ------           --------------  -----  \n",
      " 0   Name             16713 non-null  object \n",
      " 1   Platform         16715 non-null  object \n",
      " 2   Year_of_Release  16446 non-null  float64\n",
      " 3   Genre            16713 non-null  object \n",
      " 4   NA_sales         16715 non-null  float64\n",
      " 5   EU_sales         16715 non-null  float64\n",
      " 6   JP_sales         16715 non-null  float64\n",
      " 7   Other_sales      16715 non-null  float64\n",
      " 8   Critic_Score     8137 non-null   float64\n",
      " 9   User_Score       10014 non-null  object \n",
      " 10  Rating           9949 non-null   object \n",
      "dtypes: float64(6), object(5)\n",
      "memory usage: 1.4+ MB\n"
     ]
    }
   ],
   "source": [
    "df.info()"
   ]
  },
  {
   "cell_type": "markdown",
   "id": "5f4fbcf9",
   "metadata": {},
   "source": [
    "### Описание данных\n",
    "- Name — название игры\n",
    "- Platform — платформа\n",
    "- Year_of_Release — год выпуска\n",
    "- Genre — жанр игры\n",
    "- NA_sales — продажи в Северной Америке (миллионы проданных копий)\n",
    "- EU_sales — продажи в Европе (миллионы проданных копий)\n",
    "- JP_sales — продажи в Японии (миллионы проданных копий)\n",
    "- Other_sales — продажи в других странах (миллионы проданных копий)\n",
    "- Critic_Score — оценка критиков (максимум 100)\n",
    "- User_Score — оценка пользователей (максимум 10)\n",
    "- Rating — рейтинг от организации ESRB (англ. Entertainment Software Rating Board). Эта ассоциация определяет рейтинг компьютерных игр и присваивает им подходящую возрастную категорию. <br>\n",
    "Данные за 2016 год могут быть неполными."
   ]
  },
  {
   "cell_type": "markdown",
   "id": "f518f57b",
   "metadata": {},
   "source": [
    "<a id='section2'></a>\n",
    "## Подготовка данных"
   ]
  },
  {
   "cell_type": "markdown",
   "id": "1a0030fa",
   "metadata": {},
   "source": [
    "### Заменить названия столбцов (к нижнему регистру)"
   ]
  },
  {
   "cell_type": "code",
   "execution_count": 5,
   "id": "f54db22c",
   "metadata": {},
   "outputs": [],
   "source": [
    "df.columns = df.columns.str.lower()"
   ]
  },
  {
   "cell_type": "markdown",
   "id": "08ad09f5",
   "metadata": {},
   "source": [
    "### Приведение типов и обработка пропусков"
   ]
  },
  {
   "cell_type": "code",
   "execution_count": 6,
   "id": "f188b932",
   "metadata": {},
   "outputs": [
    {
     "data": {
      "text/plain": [
       "array([76., nan, 82., 80., 89., 58., 87., 91., 61., 97., 95., 77., 88.,\n",
       "       83., 94., 93., 85., 86., 98., 96., 90., 84., 73., 74., 78., 92.,\n",
       "       71., 72., 68., 62., 49., 67., 81., 66., 56., 79., 70., 59., 64.,\n",
       "       75., 60., 63., 69., 50., 25., 42., 44., 55., 48., 57., 29., 47.,\n",
       "       65., 54., 20., 53., 37., 38., 33., 52., 30., 32., 43., 45., 51.,\n",
       "       40., 46., 39., 34., 35., 41., 36., 28., 31., 27., 26., 19., 23.,\n",
       "       24., 21., 17., 22., 13.])"
      ]
     },
     "execution_count": 6,
     "metadata": {},
     "output_type": "execute_result"
    }
   ],
   "source": [
    "df['critic_score'].unique()"
   ]
  },
  {
   "cell_type": "markdown",
   "id": "ff2c6182",
   "metadata": {},
   "source": [
    "Как видно, дробный тип данных для столбца critic_score излишен"
   ]
  },
  {
   "cell_type": "code",
   "execution_count": 7,
   "id": "868da3d4",
   "metadata": {},
   "outputs": [
    {
     "data": {
      "text/plain": [
       "array([2006., 1985., 2008., 2009., 1996., 1989., 1984., 2005., 1999.,\n",
       "       2007., 2010., 2013., 2004., 1990., 1988., 2002., 2001., 2011.,\n",
       "       1998., 2015., 2012., 2014., 1992., 1997., 1993., 1994., 1982.,\n",
       "       2016., 2003., 1986., 2000.,   nan, 1995., 1991., 1981., 1987.,\n",
       "       1980., 1983.])"
      ]
     },
     "execution_count": 7,
     "metadata": {},
     "output_type": "execute_result"
    }
   ],
   "source": [
    "df['year_of_release'].unique()"
   ]
  },
  {
   "cell_type": "code",
   "execution_count": 9,
   "id": "0b74f953",
   "metadata": {},
   "outputs": [
    {
     "data": {
      "text/plain": [
       "array(['8', nan, '8.3', '8.5', '6.6', '8.4', '8.6', '7.7', '6.3', '7.4',\n",
       "       '8.2', '9', '7.9', '8.1', '8.7', '7.1', '3.4', '5.3', '4.8', '3.2',\n",
       "       '8.9', '6.4', '7.8', '7.5', '2.6', '7.2', '9.2', '7', '7.3', '4.3',\n",
       "       '7.6', '5.7', '5', '9.1', '6.5', 'tbd', '8.8', '6.9', '9.4', '6.8',\n",
       "       '6.1', '6.7', '5.4', '4', '4.9', '4.5', '9.3', '6.2', '4.2', '6',\n",
       "       '3.7', '4.1', '5.8', '5.6', '5.5', '4.4', '4.6', '5.9', '3.9',\n",
       "       '3.1', '2.9', '5.2', '3.3', '4.7', '5.1', '3.5', '2.5', '1.9', '3',\n",
       "       '2.7', '2.2', '2', '9.5', '2.1', '3.6', '2.8', '1.8', '3.8', '0',\n",
       "       '1.6', '9.6', '2.4', '1.7', '1.1', '0.3', '1.5', '0.7', '1.2',\n",
       "       '2.3', '0.5', '1.3', '0.2', '0.6', '1.4', '0.9', '1', '9.7'],\n",
       "      dtype=object)"
      ]
     },
     "execution_count": 9,
     "metadata": {},
     "output_type": "execute_result"
    }
   ],
   "source": [
    "df['user_score'].unique()"
   ]
  },
  {
   "cell_type": "code",
   "execution_count": 10,
   "id": "139b86e7",
   "metadata": {},
   "outputs": [],
   "source": [
    "df.loc[df['user_score'] == 'tbd', 'user_score'] = np.nan"
   ]
  },
  {
   "cell_type": "markdown",
   "id": "43c30ff9",
   "metadata": {},
   "source": [
    "Аббревиатура tbd(to be decided) означает, что пользовательская оценка еще не определена. Заменим это значение на пропуск"
   ]
  },
  {
   "cell_type": "code",
   "execution_count": 11,
   "id": "cd58cb31",
   "metadata": {},
   "outputs": [],
   "source": [
    "try:\n",
    "    df['critic_score'] = df['critic_score'].astype('Int64')\n",
    "except:\n",
    "    print('critic_score is not converted!')\n",
    "\n",
    "try:\n",
    "    df['year_of_release'] = df['year_of_release'].astype('Int64')\n",
    "except:\n",
    "    print('year_of_release is not converted!')\n",
    "\n",
    "try:\n",
    "    df['user_score'] = df['user_score'].astype('float')\n",
    "except:\n",
    "    print('user_score is not converted!')"
   ]
  },
  {
   "cell_type": "code",
   "execution_count": 12,
   "id": "ecc454dd",
   "metadata": {},
   "outputs": [
    {
     "name": "stdout",
     "output_type": "stream",
     "text": [
      "<class 'pandas.core.frame.DataFrame'>\n",
      "RangeIndex: 16715 entries, 0 to 16714\n",
      "Data columns (total 11 columns):\n",
      " #   Column           Non-Null Count  Dtype  \n",
      "---  ------           --------------  -----  \n",
      " 0   name             16713 non-null  object \n",
      " 1   platform         16715 non-null  object \n",
      " 2   year_of_release  16446 non-null  Int64  \n",
      " 3   genre            16713 non-null  object \n",
      " 4   na_sales         16715 non-null  float64\n",
      " 5   eu_sales         16715 non-null  float64\n",
      " 6   jp_sales         16715 non-null  float64\n",
      " 7   other_sales      16715 non-null  float64\n",
      " 8   critic_score     8137 non-null   Int64  \n",
      " 9   user_score       7590 non-null   float64\n",
      " 10  rating           9949 non-null   object \n",
      "dtypes: Int64(2), float64(5), object(4)\n",
      "memory usage: 1.4+ MB\n"
     ]
    }
   ],
   "source": [
    "df.info()"
   ]
  },
  {
   "cell_type": "code",
   "execution_count": 13,
   "id": "9f027e39",
   "metadata": {},
   "outputs": [
    {
     "data": {
      "text/plain": [
       "name               0.0\n",
       "platform           0.0\n",
       "year_of_release    0.0\n",
       "genre              0.0\n",
       "na_sales           0.0\n",
       "eu_sales           0.0\n",
       "jp_sales           0.0\n",
       "other_sales        0.0\n",
       "critic_score       0.0\n",
       "user_score         0.0\n",
       "rating             0.0\n",
       "dtype: float64"
      ]
     },
     "execution_count": 13,
     "metadata": {},
     "output_type": "execute_result"
    }
   ],
   "source": [
    "df[df.duplicated()].sum()"
   ]
  },
  {
   "cell_type": "markdown",
   "id": "8b77f7e5",
   "metadata": {},
   "source": [
    "Дубликаты отсутствуют"
   ]
  },
  {
   "cell_type": "code",
   "execution_count": 14,
   "id": "28b9c1a0",
   "metadata": {},
   "outputs": [
    {
     "data": {
      "text/plain": [
       "name                  2\n",
       "platform              0\n",
       "year_of_release     269\n",
       "genre                 2\n",
       "na_sales              0\n",
       "eu_sales              0\n",
       "jp_sales              0\n",
       "other_sales           0\n",
       "critic_score       8578\n",
       "user_score         9125\n",
       "rating             6766\n",
       "dtype: int64"
      ]
     },
     "execution_count": 14,
     "metadata": {},
     "output_type": "execute_result"
    }
   ],
   "source": [
    "df.isnull().sum()"
   ]
  },
  {
   "cell_type": "code",
   "execution_count": 15,
   "id": "bf96eb66",
   "metadata": {},
   "outputs": [
    {
     "data": {
      "text/html": [
       "<div>\n",
       "<style scoped>\n",
       "    .dataframe tbody tr th:only-of-type {\n",
       "        vertical-align: middle;\n",
       "    }\n",
       "\n",
       "    .dataframe tbody tr th {\n",
       "        vertical-align: top;\n",
       "    }\n",
       "\n",
       "    .dataframe thead th {\n",
       "        text-align: right;\n",
       "    }\n",
       "</style>\n",
       "<table border=\"1\" class=\"dataframe\">\n",
       "  <thead>\n",
       "    <tr style=\"text-align: right;\">\n",
       "      <th></th>\n",
       "      <th>name</th>\n",
       "      <th>platform</th>\n",
       "      <th>year_of_release</th>\n",
       "      <th>genre</th>\n",
       "      <th>na_sales</th>\n",
       "      <th>eu_sales</th>\n",
       "      <th>jp_sales</th>\n",
       "      <th>other_sales</th>\n",
       "      <th>critic_score</th>\n",
       "      <th>user_score</th>\n",
       "      <th>rating</th>\n",
       "    </tr>\n",
       "  </thead>\n",
       "  <tbody>\n",
       "    <tr>\n",
       "      <th>659</th>\n",
       "      <td>NaN</td>\n",
       "      <td>GEN</td>\n",
       "      <td>1993</td>\n",
       "      <td>NaN</td>\n",
       "      <td>1.78</td>\n",
       "      <td>0.53</td>\n",
       "      <td>0.00</td>\n",
       "      <td>0.08</td>\n",
       "      <td>&lt;NA&gt;</td>\n",
       "      <td>NaN</td>\n",
       "      <td>NaN</td>\n",
       "    </tr>\n",
       "    <tr>\n",
       "      <th>14244</th>\n",
       "      <td>NaN</td>\n",
       "      <td>GEN</td>\n",
       "      <td>1993</td>\n",
       "      <td>NaN</td>\n",
       "      <td>0.00</td>\n",
       "      <td>0.00</td>\n",
       "      <td>0.03</td>\n",
       "      <td>0.00</td>\n",
       "      <td>&lt;NA&gt;</td>\n",
       "      <td>NaN</td>\n",
       "      <td>NaN</td>\n",
       "    </tr>\n",
       "  </tbody>\n",
       "</table>\n",
       "</div>"
      ],
      "text/plain": [
       "      name platform  year_of_release genre  na_sales  eu_sales  jp_sales  \\\n",
       "659    NaN      GEN             1993   NaN      1.78      0.53      0.00   \n",
       "14244  NaN      GEN             1993   NaN      0.00      0.00      0.03   \n",
       "\n",
       "       other_sales  critic_score  user_score rating  \n",
       "659           0.08          <NA>         NaN    NaN  \n",
       "14244         0.00          <NA>         NaN    NaN  "
      ]
     },
     "execution_count": 15,
     "metadata": {},
     "output_type": "execute_result"
    }
   ],
   "source": [
    "df[df['name'].isnull()]"
   ]
  },
  {
   "cell_type": "markdown",
   "id": "e7868d1b",
   "metadata": {},
   "source": [
    "Строки с пропусками в названии не несут никакого смысла и не будут полезны в будущем. Удалим их"
   ]
  },
  {
   "cell_type": "code",
   "execution_count": 16,
   "id": "40ba6dff",
   "metadata": {},
   "outputs": [],
   "source": [
    "df = df.dropna(subset=['name'])"
   ]
  },
  {
   "cell_type": "code",
   "execution_count": 17,
   "id": "d9bbeaee",
   "metadata": {},
   "outputs": [
    {
     "data": {
      "text/plain": [
       "name                  0\n",
       "platform              0\n",
       "year_of_release     269\n",
       "genre                 0\n",
       "na_sales              0\n",
       "eu_sales              0\n",
       "jp_sales              0\n",
       "other_sales           0\n",
       "critic_score       8576\n",
       "user_score         9123\n",
       "rating             6764\n",
       "dtype: int64"
      ]
     },
     "execution_count": 17,
     "metadata": {},
     "output_type": "execute_result"
    }
   ],
   "source": [
    "df.isnull().sum()"
   ]
  },
  {
   "cell_type": "markdown",
   "id": "5179509d",
   "metadata": {},
   "source": [
    "Пропуски в critic_score, user_score, rating не могут быть заполнены, так как это могут быть новые игры, которые ещё не успели оценить. Удалить эти данные тоже нельзя, так как они могут пригодиться в дальнейшем анализе"
   ]
  },
  {
   "cell_type": "markdown",
   "id": "7c735b28",
   "metadata": {},
   "source": [
    "### Расчёт суммарных продаж"
   ]
  },
  {
   "cell_type": "code",
   "execution_count": 18,
   "id": "dab49b1d",
   "metadata": {},
   "outputs": [],
   "source": [
    "df['total_sales'] = df['na_sales'] + df['eu_sales'] + df['jp_sales'] + df['other_sales']"
   ]
  },
  {
   "cell_type": "code",
   "execution_count": 19,
   "id": "ecf30ef9",
   "metadata": {},
   "outputs": [
    {
     "data": {
      "text/html": [
       "<div>\n",
       "<style scoped>\n",
       "    .dataframe tbody tr th:only-of-type {\n",
       "        vertical-align: middle;\n",
       "    }\n",
       "\n",
       "    .dataframe tbody tr th {\n",
       "        vertical-align: top;\n",
       "    }\n",
       "\n",
       "    .dataframe thead th {\n",
       "        text-align: right;\n",
       "    }\n",
       "</style>\n",
       "<table border=\"1\" class=\"dataframe\">\n",
       "  <thead>\n",
       "    <tr style=\"text-align: right;\">\n",
       "      <th></th>\n",
       "      <th>name</th>\n",
       "      <th>platform</th>\n",
       "      <th>year_of_release</th>\n",
       "      <th>genre</th>\n",
       "      <th>na_sales</th>\n",
       "      <th>eu_sales</th>\n",
       "      <th>jp_sales</th>\n",
       "      <th>other_sales</th>\n",
       "      <th>critic_score</th>\n",
       "      <th>user_score</th>\n",
       "      <th>rating</th>\n",
       "      <th>total_sales</th>\n",
       "    </tr>\n",
       "  </thead>\n",
       "  <tbody>\n",
       "    <tr>\n",
       "      <th>0</th>\n",
       "      <td>Wii Sports</td>\n",
       "      <td>Wii</td>\n",
       "      <td>2006</td>\n",
       "      <td>Sports</td>\n",
       "      <td>41.36</td>\n",
       "      <td>28.96</td>\n",
       "      <td>3.77</td>\n",
       "      <td>8.45</td>\n",
       "      <td>76</td>\n",
       "      <td>8.0</td>\n",
       "      <td>E</td>\n",
       "      <td>82.54</td>\n",
       "    </tr>\n",
       "    <tr>\n",
       "      <th>1</th>\n",
       "      <td>Super Mario Bros.</td>\n",
       "      <td>NES</td>\n",
       "      <td>1985</td>\n",
       "      <td>Platform</td>\n",
       "      <td>29.08</td>\n",
       "      <td>3.58</td>\n",
       "      <td>6.81</td>\n",
       "      <td>0.77</td>\n",
       "      <td>&lt;NA&gt;</td>\n",
       "      <td>NaN</td>\n",
       "      <td>NaN</td>\n",
       "      <td>40.24</td>\n",
       "    </tr>\n",
       "    <tr>\n",
       "      <th>2</th>\n",
       "      <td>Mario Kart Wii</td>\n",
       "      <td>Wii</td>\n",
       "      <td>2008</td>\n",
       "      <td>Racing</td>\n",
       "      <td>15.68</td>\n",
       "      <td>12.76</td>\n",
       "      <td>3.79</td>\n",
       "      <td>3.29</td>\n",
       "      <td>82</td>\n",
       "      <td>8.3</td>\n",
       "      <td>E</td>\n",
       "      <td>35.52</td>\n",
       "    </tr>\n",
       "    <tr>\n",
       "      <th>3</th>\n",
       "      <td>Wii Sports Resort</td>\n",
       "      <td>Wii</td>\n",
       "      <td>2009</td>\n",
       "      <td>Sports</td>\n",
       "      <td>15.61</td>\n",
       "      <td>10.93</td>\n",
       "      <td>3.28</td>\n",
       "      <td>2.95</td>\n",
       "      <td>80</td>\n",
       "      <td>8.0</td>\n",
       "      <td>E</td>\n",
       "      <td>32.77</td>\n",
       "    </tr>\n",
       "    <tr>\n",
       "      <th>4</th>\n",
       "      <td>Pokemon Red/Pokemon Blue</td>\n",
       "      <td>GB</td>\n",
       "      <td>1996</td>\n",
       "      <td>Role-Playing</td>\n",
       "      <td>11.27</td>\n",
       "      <td>8.89</td>\n",
       "      <td>10.22</td>\n",
       "      <td>1.00</td>\n",
       "      <td>&lt;NA&gt;</td>\n",
       "      <td>NaN</td>\n",
       "      <td>NaN</td>\n",
       "      <td>31.38</td>\n",
       "    </tr>\n",
       "  </tbody>\n",
       "</table>\n",
       "</div>"
      ],
      "text/plain": [
       "                       name platform  year_of_release         genre  na_sales  \\\n",
       "0                Wii Sports      Wii             2006        Sports     41.36   \n",
       "1         Super Mario Bros.      NES             1985      Platform     29.08   \n",
       "2            Mario Kart Wii      Wii             2008        Racing     15.68   \n",
       "3         Wii Sports Resort      Wii             2009        Sports     15.61   \n",
       "4  Pokemon Red/Pokemon Blue       GB             1996  Role-Playing     11.27   \n",
       "\n",
       "   eu_sales  jp_sales  other_sales  critic_score  user_score rating  \\\n",
       "0     28.96      3.77         8.45            76         8.0      E   \n",
       "1      3.58      6.81         0.77          <NA>         NaN    NaN   \n",
       "2     12.76      3.79         3.29            82         8.3      E   \n",
       "3     10.93      3.28         2.95            80         8.0      E   \n",
       "4      8.89     10.22         1.00          <NA>         NaN    NaN   \n",
       "\n",
       "   total_sales  \n",
       "0        82.54  \n",
       "1        40.24  \n",
       "2        35.52  \n",
       "3        32.77  \n",
       "4        31.38  "
      ]
     },
     "execution_count": 19,
     "metadata": {},
     "output_type": "execute_result"
    }
   ],
   "source": [
    "df.head()"
   ]
  },
  {
   "cell_type": "markdown",
   "id": "918bbe2c",
   "metadata": {},
   "source": [
    "Вывод:\n",
    "- Пропуски в year_of_release заполнены 0;\n",
    "- Данные в year_of_release и critic_score приведы к Int64;\n",
    "- Данные user_score приведены к float;\n",
    "- Удалены строки, содержащие пропуски в столбце name. Эти же строки содержали пропуски в столбце genre;\n",
    "- Пропуски в столбцах в critic_score, user_score, rating не могут быть заполнены или удалены, так как это могут быть новые игры, которые ещё не успели оценить;\n",
    "- Проведена проверка дубликатов."
   ]
  },
  {
   "cell_type": "markdown",
   "id": "6ba3f280",
   "metadata": {},
   "source": [
    "<a id='section3'></a>\n",
    "## Исследовательский анализ данных"
   ]
  },
  {
   "cell_type": "markdown",
   "id": "4dbb5f87",
   "metadata": {},
   "source": [
    "### Посмотрите, сколько игр выпускалось в разные годы. Важны ли данные за все периоды?"
   ]
  },
  {
   "cell_type": "code",
   "execution_count": 20,
   "id": "4ece01b1",
   "metadata": {},
   "outputs": [
    {
     "data": {
      "image/png": "[encoded data removed]",
      "text/plain": [
       "<Figure size 1440x720 with 1 Axes>"
      ]
     },
     "metadata": {
      "needs_background": "light"
     },
     "output_type": "display_data"
    }
   ],
   "source": [
    "year_data = df.pivot_table(index='year_of_release', values='name', aggfunc='count')\n",
    "year_data.columns = ['games_count']\n",
    "ax = sns.barplot(x=year_data.index, y=year_data['games_count'], color='green')\n",
    "ax.figure.set_size_inches(20,10)\n",
    "ax.set_title('Статистика выпуска игр в разные года');"
   ]
  },
  {
   "cell_type": "markdown",
   "id": "ab0875b8",
   "metadata": {},
   "source": [
    "В данной выборке представлены игры, выпущенные в годы с 1980 по 2016. Наибольшее количество игр из представленных было выпущено в период с 2007 по 2010. По диаграмме видно, что данные до 1995 года не имеют большой ценности, так как обладают маленьким объемом."
   ]
  },
  {
   "cell_type": "markdown",
   "id": "0296d366",
   "metadata": {},
   "source": [
    "### Посмотрите, как менялись продажи по платформам. Выберите платформы с наибольшими суммарными продажами и постройте распределение по годам. За какой характерный срок появляются новые и исчезают старые платформы?"
   ]
  },
  {
   "cell_type": "code",
   "execution_count": 21,
   "id": "d888a1cb",
   "metadata": {},
   "outputs": [
    {
     "data": {
      "text/html": [
       "<div>\n",
       "<style scoped>\n",
       "    .dataframe tbody tr th:only-of-type {\n",
       "        vertical-align: middle;\n",
       "    }\n",
       "\n",
       "    .dataframe tbody tr th {\n",
       "        vertical-align: top;\n",
       "    }\n",
       "\n",
       "    .dataframe thead th {\n",
       "        text-align: right;\n",
       "    }\n",
       "</style>\n",
       "<table border=\"1\" class=\"dataframe\">\n",
       "  <thead>\n",
       "    <tr style=\"text-align: right;\">\n",
       "      <th></th>\n",
       "      <th>total_sales</th>\n",
       "    </tr>\n",
       "    <tr>\n",
       "      <th>platform</th>\n",
       "      <th></th>\n",
       "    </tr>\n",
       "  </thead>\n",
       "  <tbody>\n",
       "    <tr>\n",
       "      <th>PS2</th>\n",
       "      <td>1255.77</td>\n",
       "    </tr>\n",
       "    <tr>\n",
       "      <th>X360</th>\n",
       "      <td>971.42</td>\n",
       "    </tr>\n",
       "    <tr>\n",
       "      <th>PS3</th>\n",
       "      <td>939.65</td>\n",
       "    </tr>\n",
       "    <tr>\n",
       "      <th>Wii</th>\n",
       "      <td>907.51</td>\n",
       "    </tr>\n",
       "    <tr>\n",
       "      <th>DS</th>\n",
       "      <td>806.12</td>\n",
       "    </tr>\n",
       "    <tr>\n",
       "      <th>PS</th>\n",
       "      <td>730.86</td>\n",
       "    </tr>\n",
       "    <tr>\n",
       "      <th>GBA</th>\n",
       "      <td>317.85</td>\n",
       "    </tr>\n",
       "    <tr>\n",
       "      <th>PS4</th>\n",
       "      <td>314.14</td>\n",
       "    </tr>\n",
       "    <tr>\n",
       "      <th>PSP</th>\n",
       "      <td>294.05</td>\n",
       "    </tr>\n",
       "    <tr>\n",
       "      <th>PC</th>\n",
       "      <td>259.52</td>\n",
       "    </tr>\n",
       "  </tbody>\n",
       "</table>\n",
       "</div>"
      ],
      "text/plain": [
       "          total_sales\n",
       "platform             \n",
       "PS2           1255.77\n",
       "X360           971.42\n",
       "PS3            939.65\n",
       "Wii            907.51\n",
       "DS             806.12\n",
       "PS             730.86\n",
       "GBA            317.85\n",
       "PS4            314.14\n",
       "PSP            294.05\n",
       "PC             259.52"
      ]
     },
     "execution_count": 21,
     "metadata": {},
     "output_type": "execute_result"
    }
   ],
   "source": [
    "platform_sales = df.pivot_table(index='platform', values='total_sales', aggfunc='sum')\\\n",
    "                    .sort_values(by='total_sales', ascending=False)\n",
    "top10 = platform_sales.iloc[:10]\n",
    "top10"
   ]
  },
  {
   "cell_type": "code",
   "execution_count": 22,
   "id": "10bf74f5",
   "metadata": {
    "scrolled": false
   },
   "outputs": [
    {
     "data": {
      "image/png": "[encoded data removed]",
      "text/plain": [
       "<Figure size 1080x360 with 1 Axes>"
      ]
     },
     "metadata": {
      "needs_background": "light"
     },
     "output_type": "display_data"
    },
    {
     "data": {
      "image/png": "[encoded data removed]",
      "text/plain": [
       "<Figure size 1080x360 with 1 Axes>"
      ]
     },
     "metadata": {
      "needs_background": "light"
     },
     "output_type": "display_data"
    },
    {
     "data": {
      "image/png": "[encoded data removed]",
      "text/plain": [
       "<Figure size 1080x360 with 1 Axes>"
      ]
     },
     "metadata": {
      "needs_background": "light"
     },
     "output_type": "display_data"
    },
    {
     "data": {
      "image/png": "[encoded data removed]",
      "text/plain": [
       "<Figure size 1080x360 with 1 Axes>"
      ]
     },
     "metadata": {
      "needs_background": "light"
     },
     "output_type": "display_data"
    },
    {
     "data": {
      "image/png": "[encoded data removed]",
      "text/plain": [
       "<Figure size 1080x360 with 1 Axes>"
      ]
     },
     "metadata": {
      "needs_background": "light"
     },
     "output_type": "display_data"
    },
    {
     "data": {
      "image/png": "[encoded data removed]",
      "text/plain": [
       "<Figure size 1080x360 with 1 Axes>"
      ]
     },
     "metadata": {
      "needs_background": "light"
     },
     "output_type": "display_data"
    },
    {
     "data": {
      "image/png": "[encoded data removed]",
      "text/plain": [
       "<Figure size 1080x360 with 1 Axes>"
      ]
     },
     "metadata": {
      "needs_background": "light"
     },
     "output_type": "display_data"
    },
    {
     "data": {
      "image/png": "[encoded data removed]",
      "text/plain": [
       "<Figure size 1080x360 with 1 Axes>"
      ]
     },
     "metadata": {
      "needs_background": "light"
     },
     "output_type": "display_data"
    },
    {
     "data": {
      "image/png": "[encoded data removed]",
      "text/plain": [
       "<Figure size 1080x360 with 1 Axes>"
      ]
     },
     "metadata": {
      "needs_background": "light"
     },
     "output_type": "display_data"
    },
    {
     "data": {
      "image/png": "[encoded data removed]",
      "text/plain": [
       "<Figure size 1080x360 with 1 Axes>"
      ]
     },
     "metadata": {
      "needs_background": "light"
     },
     "output_type": "display_data"
    }
   ],
   "source": [
    "for pla in top10.index:\n",
    "    df[(df['platform'] == pla) & (df['year_of_release'] != 0)]\\\n",
    "    .pivot_table(index='year_of_release', values='total_sales', aggfunc='sum')\\\n",
    "    .plot(kind='bar', figsize=(15,5)).set_title(pla)"
   ]
  },
  {
   "cell_type": "markdown",
   "id": "41981815",
   "metadata": {},
   "source": [
    "Популярные платформы в среднем пользовались спросом не более 10 лет. Такие большие компании, как Sony, выпускали новую версию платформы PS каждые 5-6 лет, что позволило компании оставаться в топах на протяжении 14 лет."
   ]
  },
  {
   "cell_type": "markdown",
   "id": "966aa586",
   "metadata": {},
   "source": [
    "### Возьмите данные за соответствующий актуальный период. Актуальный период определите самостоятельно в результате исследования предыдущих вопросов. Основной фактор — эти данные помогут построить прогноз на 2017 год. Какие платформы лидируют по продажам, растут или падают? Выберите несколько потенциально прибыльных платформ."
   ]
  },
  {
   "cell_type": "markdown",
   "id": "dfddc883",
   "metadata": {},
   "source": [
    "Для того, чтобы сделать прогноз на 2017 год, лучше взять выборку, близкую к этому году, чтобы избежать искажений. Например, с 2013 по 2016."
   ]
  },
  {
   "cell_type": "code",
   "execution_count": 23,
   "id": "fe32922f",
   "metadata": {},
   "outputs": [],
   "source": [
    "valid_period = df.query('year_of_release >= 2013')"
   ]
  },
  {
   "cell_type": "code",
   "execution_count": 24,
   "id": "8cf0acb4",
   "metadata": {},
   "outputs": [
    {
     "data": {
      "image/png": "[encoded data removed]",
      "text/plain": [
       "<Figure size 1080x720 with 1 Axes>"
      ]
     },
     "metadata": {
      "needs_background": "light"
     },
     "output_type": "display_data"
    }
   ],
   "source": [
    "pla_data = valid_period.pivot_table(index='year_of_release', columns='platform',\n",
    "                                    values='total_sales', aggfunc='sum').plot(figsize=(15,10))\n",
    "pla_data.set_title('Продажи платформ за последние 3 года')\n",
    "pla_data.set_ylabel('total_sales');"
   ]
  },
  {
   "cell_type": "markdown",
   "id": "31f01325",
   "metadata": {},
   "source": [
    "К 2017 году все платформы идут на снижение по продажам. Игры на PS4 продаются чаще всех, что, вероятно, приведет к тому, что в 2017 году платформа PS4 станет одной из самых прибыльных."
   ]
  },
  {
   "cell_type": "markdown",
   "id": "327e8973",
   "metadata": {},
   "source": [
    "### Постройте график «ящик с усами» по глобальным продажам игр в разбивке по платформам. Опишите результат."
   ]
  },
  {
   "cell_type": "code",
   "execution_count": 25,
   "id": "dabab9fa",
   "metadata": {},
   "outputs": [
    {
     "data": {
      "image/png": "[encoded data removed]",
      "text/plain": [
       "<Figure size 1080x720 with 1 Axes>"
      ]
     },
     "metadata": {
      "needs_background": "light"
     },
     "output_type": "display_data"
    }
   ],
   "source": [
    "data_plot = valid_period.pivot_table(index='name', values='total_sales', columns='platform', aggfunc='sum')\n",
    "ax = data_plot.plot(kind='box', ylim=(0, 2), figsize=(15,10), xlabel='platform')\n",
    "ax.set_title('Глобальные продажи по платформам')\n",
    "ax.set_xlabel('platform')\n",
    "ax.set_ylabel('total_sales');"
   ]
  },
  {
   "cell_type": "markdown",
   "id": "f52662cc",
   "metadata": {},
   "source": [
    "Объединяя данные графика и диаграммы \"ящик с усами\", можно заключить, что PS4, XOne, 3DS являются потенциально прибыльными в следующем году. Платформы Wii, WiiU, X360, PS3 с высокими медианными значениями показывают резкое снижение продаж на графике. Это может быть обусловлено выходом платформ новых поколений от тех же компаний. PC показывает хоть и низкие, но стабильные прадажы, поэтому, вероятно, персональные компьютеры всё ещё останутся на рынке. PSP ушёл с рынка в 2015 году, поэтому в 2017 мы вряд ли его увидим. Wii, PS3, X360 потенциально уйдут с рынка. "
   ]
  },
  {
   "cell_type": "markdown",
   "id": "7cff36f3",
   "metadata": {},
   "source": [
    "### Посмотрите, как влияют на продажи внутри одной популярной платформы отзывы пользователей и критиков. Постройте диаграмму рассеяния и посчитайте корреляцию между отзывами и продажами. Сформулируйте выводы."
   ]
  },
  {
   "cell_type": "code",
   "execution_count": 26,
   "id": "7c9a3c2d",
   "metadata": {},
   "outputs": [
    {
     "data": {
      "text/plain": [
       "platform\n",
       "PS4     252\n",
       "PC      149\n",
       "PS3     121\n",
       "X360     81\n",
       "PSP       1\n",
       "Name: critic_score, dtype: int64"
      ]
     },
     "execution_count": 26,
     "metadata": {},
     "output_type": "execute_result"
    }
   ],
   "source": [
    "valid_period.query('platform in @top10.index').groupby('platform').count()['critic_score'].sort_values(ascending=False)[:5]"
   ]
  },
  {
   "cell_type": "code",
   "execution_count": 27,
   "id": "d587c96a",
   "metadata": {},
   "outputs": [
    {
     "data": {
      "text/plain": [
       "platform\n",
       "PS4     257\n",
       "PS3     186\n",
       "PC      155\n",
       "X360    143\n",
       "Wii       7\n",
       "Name: user_score, dtype: int64"
      ]
     },
     "execution_count": 27,
     "metadata": {},
     "output_type": "execute_result"
    }
   ],
   "source": [
    "valid_period.query('platform in @top10.index').groupby('platform').count()['user_score'].sort_values(ascending=False)[:5]"
   ]
  },
  {
   "cell_type": "code",
   "execution_count": 28,
   "id": "71bdab71",
   "metadata": {},
   "outputs": [
    {
     "data": {
      "text/plain": [
       "platform\n",
       "PS4     392\n",
       "PS3     345\n",
       "PC      189\n",
       "X360    186\n",
       "PSP      67\n",
       "Name: total_sales, dtype: int64"
      ]
     },
     "execution_count": 28,
     "metadata": {},
     "output_type": "execute_result"
    }
   ],
   "source": [
    "valid_period.query('platform in @top10.index').groupby('platform').count()['total_sales'].sort_values(ascending=False)[:5]"
   ]
  },
  {
   "cell_type": "markdown",
   "id": "4a919c3e",
   "metadata": {},
   "source": [
    "Среди популярных платформ больше всего данных представлено по PS4. Её и возьмем для вычисления корреляции между отзывами и продажами:"
   ]
  },
  {
   "cell_type": "code",
   "execution_count": 29,
   "id": "fc20988b",
   "metadata": {},
   "outputs": [
    {
     "data": {
      "image/png": "[encoded data removed]",
      "text/plain": [
       "<Figure size 1080x360 with 2 Axes>"
      ]
     },
     "metadata": {
      "needs_background": "light"
     },
     "output_type": "display_data"
    }
   ],
   "source": [
    "PS4 = valid_period.query('platform == \"PS4\"')\n",
    "f, axs = plt.subplots(1, 2, figsize=(15, 5), gridspec_kw=dict(width_ratios=[5, 5]))\n",
    "sns.scatterplot(data=PS4, x=\"user_score\", y=\"total_sales\", ax=axs[0])\\\n",
    "                .set_title('Влияние пользовательских отзывов на продажи игр на PS4')\n",
    "plt.xlabel('user_score')\n",
    "plt.ylabel('total_sales')\n",
    "\n",
    "sns.scatterplot(data=PS4, x=\"critic_score\", y=\"total_sales\", ax=axs[1])\\\n",
    "                .set_title('Влияние оценок критиков на продажи игр на PS4')\n",
    "plt.xlabel('critic_score')\n",
    "f.tight_layout()"
   ]
  },
  {
   "cell_type": "code",
   "execution_count": 30,
   "id": "36a836a3",
   "metadata": {},
   "outputs": [
    {
     "data": {
      "text/html": [
       "<div>\n",
       "<style scoped>\n",
       "    .dataframe tbody tr th:only-of-type {\n",
       "        vertical-align: middle;\n",
       "    }\n",
       "\n",
       "    .dataframe tbody tr th {\n",
       "        vertical-align: top;\n",
       "    }\n",
       "\n",
       "    .dataframe thead th {\n",
       "        text-align: right;\n",
       "    }\n",
       "</style>\n",
       "<table border=\"1\" class=\"dataframe\">\n",
       "  <thead>\n",
       "    <tr style=\"text-align: right;\">\n",
       "      <th></th>\n",
       "      <th>critic_score</th>\n",
       "      <th>user_score</th>\n",
       "      <th>total_sales</th>\n",
       "    </tr>\n",
       "  </thead>\n",
       "  <tbody>\n",
       "    <tr>\n",
       "      <th>critic_score</th>\n",
       "      <td>1.000000</td>\n",
       "      <td>0.557654</td>\n",
       "      <td>0.406568</td>\n",
       "    </tr>\n",
       "    <tr>\n",
       "      <th>user_score</th>\n",
       "      <td>0.557654</td>\n",
       "      <td>1.000000</td>\n",
       "      <td>-0.031957</td>\n",
       "    </tr>\n",
       "    <tr>\n",
       "      <th>total_sales</th>\n",
       "      <td>0.406568</td>\n",
       "      <td>-0.031957</td>\n",
       "      <td>1.000000</td>\n",
       "    </tr>\n",
       "  </tbody>\n",
       "</table>\n",
       "</div>"
      ],
      "text/plain": [
       "              critic_score  user_score  total_sales\n",
       "critic_score      1.000000    0.557654     0.406568\n",
       "user_score        0.557654    1.000000    -0.031957\n",
       "total_sales       0.406568   -0.031957     1.000000"
      ]
     },
     "execution_count": 30,
     "metadata": {},
     "output_type": "execute_result"
    }
   ],
   "source": [
    "PS4[['critic_score','user_score', 'total_sales']].corr()"
   ]
  },
  {
   "cell_type": "markdown",
   "id": "dc2bc661",
   "metadata": {},
   "source": [
    "Заметим, что коэффициент корреляции между оценками критиков и продажами близко к 0.5, в то время как корреляция между отзывами игроков и продажами отрицательно, что говорит об обратной пропорциональности. Следовательно, оценка критиков оказывает значительно большее влияние на увеличение продаж, чем отзывы самих игроков."
   ]
  },
  {
   "cell_type": "markdown",
   "id": "088d20d8",
   "metadata": {},
   "source": [
    "### Соотнесите выводы с продажами игр на других платформах."
   ]
  },
  {
   "cell_type": "code",
   "execution_count": 31,
   "id": "e91a1021",
   "metadata": {},
   "outputs": [
    {
     "data": {
      "image/png": "[encoded data removed]",
      "text/plain": [
       "<Figure size 1080x360 with 2 Axes>"
      ]
     },
     "metadata": {
      "needs_background": "light"
     },
     "output_type": "display_data"
    }
   ],
   "source": [
    "XOne = valid_period.query('platform == \"XOne\"')\n",
    "f, axs = plt.subplots(1, 2, figsize=(15, 5), gridspec_kw=dict(width_ratios=[5, 5]))\n",
    "sns.scatterplot(data=XOne, x=\"user_score\", y=\"total_sales\", ax=axs[0])\\\n",
    "                .set_title('Влияние пользовательских отзывов на продажи игр на XOne')\n",
    "plt.xlabel('user_score')\n",
    "plt.ylabel('total_sales')\n",
    "sns.scatterplot(data=XOne, x=\"critic_score\", y=\"total_sales\", ax=axs[1])\\\n",
    "                .set_title('Влияние оценок критиков на продажи игр на XOne')\n",
    "plt.xlabel('critic_score')\n",
    "f.tight_layout()"
   ]
  },
  {
   "cell_type": "code",
   "execution_count": 32,
   "id": "16c7acbc",
   "metadata": {},
   "outputs": [
    {
     "data": {
      "text/html": [
       "<div>\n",
       "<style scoped>\n",
       "    .dataframe tbody tr th:only-of-type {\n",
       "        vertical-align: middle;\n",
       "    }\n",
       "\n",
       "    .dataframe tbody tr th {\n",
       "        vertical-align: top;\n",
       "    }\n",
       "\n",
       "    .dataframe thead th {\n",
       "        text-align: right;\n",
       "    }\n",
       "</style>\n",
       "<table border=\"1\" class=\"dataframe\">\n",
       "  <thead>\n",
       "    <tr style=\"text-align: right;\">\n",
       "      <th></th>\n",
       "      <th>critic_score</th>\n",
       "      <th>user_score</th>\n",
       "      <th>total_sales</th>\n",
       "    </tr>\n",
       "  </thead>\n",
       "  <tbody>\n",
       "    <tr>\n",
       "      <th>critic_score</th>\n",
       "      <td>1.000000</td>\n",
       "      <td>0.472462</td>\n",
       "      <td>0.416998</td>\n",
       "    </tr>\n",
       "    <tr>\n",
       "      <th>user_score</th>\n",
       "      <td>0.472462</td>\n",
       "      <td>1.000000</td>\n",
       "      <td>-0.068925</td>\n",
       "    </tr>\n",
       "    <tr>\n",
       "      <th>total_sales</th>\n",
       "      <td>0.416998</td>\n",
       "      <td>-0.068925</td>\n",
       "      <td>1.000000</td>\n",
       "    </tr>\n",
       "  </tbody>\n",
       "</table>\n",
       "</div>"
      ],
      "text/plain": [
       "              critic_score  user_score  total_sales\n",
       "critic_score      1.000000    0.472462     0.416998\n",
       "user_score        0.472462    1.000000    -0.068925\n",
       "total_sales       0.416998   -0.068925     1.000000"
      ]
     },
     "execution_count": 32,
     "metadata": {},
     "output_type": "execute_result"
    }
   ],
   "source": [
    "valid_period.query('platform == \"XOne\"')[['critic_score','user_score', 'total_sales']].corr()"
   ]
  },
  {
   "cell_type": "code",
   "execution_count": 33,
   "id": "e3c0a229",
   "metadata": {},
   "outputs": [
    {
     "data": {
      "image/png": "[encoded data removed]",
      "text/plain": [
       "<Figure size 1080x360 with 2 Axes>"
      ]
     },
     "metadata": {
      "needs_background": "light"
     },
     "output_type": "display_data"
    }
   ],
   "source": [
    "PS3 = valid_period.query('platform == \"PS3\"')\n",
    "f, axs = plt.subplots(1, 2, figsize=(15, 5), gridspec_kw=dict(width_ratios=[5, 5]))\n",
    "sns.scatterplot(data=PS3, x=\"user_score\", y=\"total_sales\", ax=axs[0])\\\n",
    "                .set_title('Влияние пользовательских отзывов на продажи игр на PS3')\n",
    "plt.xlabel('user_score')\n",
    "plt.ylabel('total_sales')\n",
    "sns.scatterplot(data=PS3, x=\"critic_score\", y=\"total_sales\", ax=axs[1])\\\n",
    "                .set_title('Влияние оценок критиков на продажи игр на PS3')\n",
    "plt.xlabel('critic_score')\n",
    "f.tight_layout()"
   ]
  },
  {
   "cell_type": "code",
   "execution_count": 34,
   "id": "499bcadd",
   "metadata": {},
   "outputs": [
    {
     "data": {
      "text/html": [
       "<div>\n",
       "<style scoped>\n",
       "    .dataframe tbody tr th:only-of-type {\n",
       "        vertical-align: middle;\n",
       "    }\n",
       "\n",
       "    .dataframe tbody tr th {\n",
       "        vertical-align: top;\n",
       "    }\n",
       "\n",
       "    .dataframe thead th {\n",
       "        text-align: right;\n",
       "    }\n",
       "</style>\n",
       "<table border=\"1\" class=\"dataframe\">\n",
       "  <thead>\n",
       "    <tr style=\"text-align: right;\">\n",
       "      <th></th>\n",
       "      <th>critic_score</th>\n",
       "      <th>user_score</th>\n",
       "      <th>total_sales</th>\n",
       "    </tr>\n",
       "  </thead>\n",
       "  <tbody>\n",
       "    <tr>\n",
       "      <th>critic_score</th>\n",
       "      <td>1.000000</td>\n",
       "      <td>0.599920</td>\n",
       "      <td>0.334285</td>\n",
       "    </tr>\n",
       "    <tr>\n",
       "      <th>user_score</th>\n",
       "      <td>0.599920</td>\n",
       "      <td>1.000000</td>\n",
       "      <td>0.002394</td>\n",
       "    </tr>\n",
       "    <tr>\n",
       "      <th>total_sales</th>\n",
       "      <td>0.334285</td>\n",
       "      <td>0.002394</td>\n",
       "      <td>1.000000</td>\n",
       "    </tr>\n",
       "  </tbody>\n",
       "</table>\n",
       "</div>"
      ],
      "text/plain": [
       "              critic_score  user_score  total_sales\n",
       "critic_score      1.000000    0.599920     0.334285\n",
       "user_score        0.599920    1.000000     0.002394\n",
       "total_sales       0.334285    0.002394     1.000000"
      ]
     },
     "execution_count": 34,
     "metadata": {},
     "output_type": "execute_result"
    }
   ],
   "source": [
    "valid_period.query('platform == \"PS3\"')[['critic_score','user_score', 'total_sales']].corr()"
   ]
  },
  {
   "cell_type": "code",
   "execution_count": 35,
   "id": "03194bcb",
   "metadata": {},
   "outputs": [
    {
     "data": {
      "image/png": "[encoded data removed]",
      "text/plain": [
       "<Figure size 1080x360 with 2 Axes>"
      ]
     },
     "metadata": {
      "needs_background": "light"
     },
     "output_type": "display_data"
    }
   ],
   "source": [
    "PC = valid_period.query('platform == \"PC\"')\n",
    "f, axs = plt.subplots(1, 2, figsize=(15, 5), gridspec_kw=dict(width_ratios=[5, 5]))\n",
    "sns.scatterplot(data=PC, x=\"user_score\", y=\"total_sales\", ax=axs[0])\\\n",
    "                .set_title('Влияние пользовательских отзывов на продажи игр на PC')\n",
    "plt.xlabel('user_score')\n",
    "plt.ylabel('total_sales')\n",
    "sns.scatterplot(data=PC, x=\"critic_score\", y=\"total_sales\", ax=axs[1])\\\n",
    "                .set_title('Влияние оценок критиков на продажи игр на PC')\n",
    "plt.xlabel('critic_score')\n",
    "f.tight_layout()"
   ]
  },
  {
   "cell_type": "code",
   "execution_count": 36,
   "id": "5e72e1a1",
   "metadata": {},
   "outputs": [
    {
     "data": {
      "text/html": [
       "<div>\n",
       "<style scoped>\n",
       "    .dataframe tbody tr th:only-of-type {\n",
       "        vertical-align: middle;\n",
       "    }\n",
       "\n",
       "    .dataframe tbody tr th {\n",
       "        vertical-align: top;\n",
       "    }\n",
       "\n",
       "    .dataframe thead th {\n",
       "        text-align: right;\n",
       "    }\n",
       "</style>\n",
       "<table border=\"1\" class=\"dataframe\">\n",
       "  <thead>\n",
       "    <tr style=\"text-align: right;\">\n",
       "      <th></th>\n",
       "      <th>critic_score</th>\n",
       "      <th>user_score</th>\n",
       "      <th>total_sales</th>\n",
       "    </tr>\n",
       "  </thead>\n",
       "  <tbody>\n",
       "    <tr>\n",
       "      <th>critic_score</th>\n",
       "      <td>1.000000</td>\n",
       "      <td>0.429562</td>\n",
       "      <td>0.196030</td>\n",
       "    </tr>\n",
       "    <tr>\n",
       "      <th>user_score</th>\n",
       "      <td>0.429562</td>\n",
       "      <td>1.000000</td>\n",
       "      <td>-0.093842</td>\n",
       "    </tr>\n",
       "    <tr>\n",
       "      <th>total_sales</th>\n",
       "      <td>0.196030</td>\n",
       "      <td>-0.093842</td>\n",
       "      <td>1.000000</td>\n",
       "    </tr>\n",
       "  </tbody>\n",
       "</table>\n",
       "</div>"
      ],
      "text/plain": [
       "              critic_score  user_score  total_sales\n",
       "critic_score      1.000000    0.429562     0.196030\n",
       "user_score        0.429562    1.000000    -0.093842\n",
       "total_sales       0.196030   -0.093842     1.000000"
      ]
     },
     "execution_count": 36,
     "metadata": {},
     "output_type": "execute_result"
    }
   ],
   "source": [
    "valid_period.query('platform == \"PC\"')[['critic_score','user_score', 'total_sales']].corr()"
   ]
  },
  {
   "cell_type": "markdown",
   "id": "134cc55c",
   "metadata": {},
   "source": [
    "Платформы XOne, PS3, PC подтверждают предыдущее предположение. Коэффициенты корреляции между оценками критиков и продажами высоки, тогда как коэффициенты корреляции между оценками игроков и продажами принимают отрицательные значения, то есть имеют обратную зависимость. По полученным данным можно однозначно сказать, что оценки критиков влияют на количество продаж, а отзывы игроков покупатели не принимают во внимание."
   ]
  },
  {
   "cell_type": "markdown",
   "id": "513fc5e6",
   "metadata": {},
   "source": [
    "### Посмотрите на общее распределение игр по жанрам. Что можно сказать о самых прибыльных жанрах? Выделяются ли жанры с высокими и низкими продажами?"
   ]
  },
  {
   "cell_type": "code",
   "execution_count": 37,
   "id": "9e5a3efb",
   "metadata": {},
   "outputs": [
    {
     "data": {
      "image/png": "[encoded data removed]",
      "text/plain": [
       "<Figure size 1080x360 with 1 Axes>"
      ]
     },
     "metadata": {
      "needs_background": "light"
     },
     "output_type": "display_data"
    }
   ],
   "source": [
    "genre_data = df.pivot_table(index='genre', values='total_sales', aggfunc='median')\\\n",
    ".sort_values(by='total_sales', ascending=False)\n",
    "ax = sns.barplot(x=genre_data.index, y=genre_data['total_sales'], color='green')\n",
    "ax.figure.set_size_inches(15,5)\n",
    "ax.set_title('Медианные значения продаж по жанрам');"
   ]
  },
  {
   "cell_type": "markdown",
   "id": "e4843fdd",
   "metadata": {},
   "source": [
    "Сравним медианные значения продаж по каждому жанру. Наиболее прибыльным жанром является платформеры, они стабильно показывают высокие продажи. Шутеры и спортивные занимают 2 и 3 места соответственно. Пазлы, Стратегии и Приключенческие игры привлекают меньше всего покупателей, видимо, из-за монотонности игр."
   ]
  },
  {
   "cell_type": "markdown",
   "id": "b0a700e0",
   "metadata": {},
   "source": [
    "### Вывод:\n",
    "- В данной выборке представлены игры, выпущенные в годы с 1980 по 2016, однако актуальной выборкой лучше считать период с 2013 по 2016;\n",
    "- Популярные платформы: PS2, X360, PS3;\n",
    "- Популярные платформы в среднем пользовались спросом не более 10 лет;\n",
    "- Потенциально прибыльные платформы: 3DS, PC, XOne;\n",
    "- Потенциально уйдут с рынка: Wii, X360, PS3;\n",
    "- Оценки критиков влияют на количество продаж, а отзывы игроков покупатели не принимают во внимание;\n",
    "- Platform, Shooter, Sports являются самыми популярными жанрами;\n",
    "- Puzzle, Strategy, Adventure не пользуются спросом."
   ]
  },
  {
   "cell_type": "markdown",
   "id": "9df2a95d",
   "metadata": {},
   "source": [
    "<a id='section4'></a>\n",
    "## Портрет пользователя каждого региона"
   ]
  },
  {
   "cell_type": "markdown",
   "id": "81d66171",
   "metadata": {},
   "source": [
    "### Северная Америка"
   ]
  },
  {
   "cell_type": "code",
   "execution_count": 38,
   "id": "1abea6e7",
   "metadata": {},
   "outputs": [
    {
     "name": "stdout",
     "output_type": "stream",
     "text": [
      "          na_sales\n",
      "platform          \n",
      "PS4         108.74\n",
      "XOne         93.12\n",
      "X360         81.66\n",
      "PS3          63.50\n",
      "3DS          38.20\n"
     ]
    },
    {
     "data": {
      "image/png": "[encoded data removed]",
      "text/plain": [
       "<Figure size 720x360 with 1 Axes>"
      ]
     },
     "metadata": {
      "needs_background": "light"
     },
     "output_type": "display_data"
    }
   ],
   "source": [
    "na_games_sales = valid_period.query('na_sales > 0')\n",
    "\n",
    "print(na_games_sales.pivot_table(index='platform', values='na_sales', aggfunc='sum')\\\n",
    "      .sort_values(by='na_sales', ascending=False)[:5])\n",
    "\n",
    "na_games_sales.pivot_table(index='platform', values='na_sales', aggfunc='sum')\\\n",
    ".sort_values(by='na_sales', ascending=False)[:5]\\\n",
    ".plot(kind='bar', figsize=(10, 5)).set_title('Популярность консолей в Северной Америке')\n",
    "plt.ylabel('na_sales');"
   ]
  },
  {
   "cell_type": "markdown",
   "id": "f9713c61",
   "metadata": {},
   "source": [
    "Отличия в долях: Наиболее распространенной платформой является PS4, показатели которой мало отличаются от остальных платформ. Вторая по популярности платформа XOne отстает на шестую чать от популярности первой. Разница между всеми платформами PS4, XOne, X360, PS3, 3DS составляет примерно 16 единиц и мало отличается. Наименее популярной из пяти представленных платформ является 3DS, рейтинг которой составляет третью часть от рейтинга PS4."
   ]
  },
  {
   "cell_type": "code",
   "execution_count": 39,
   "id": "bd864185",
   "metadata": {},
   "outputs": [
    {
     "name": "stdout",
     "output_type": "stream",
     "text": [
      "              na_sales\n",
      "genre                 \n",
      "Action          126.05\n",
      "Shooter         109.74\n",
      "Sports           65.27\n",
      "Role-Playing     46.40\n",
      "Misc             27.49\n"
     ]
    },
    {
     "data": {
      "image/png": "[encoded data removed]",
      "text/plain": [
       "<Figure size 720x360 with 1 Axes>"
      ]
     },
     "metadata": {
      "needs_background": "light"
     },
     "output_type": "display_data"
    }
   ],
   "source": [
    "print(na_games_sales.pivot_table(index='genre', values='na_sales', aggfunc='sum')\\\n",
    "      .sort_values(by='na_sales', ascending=False)[:5])\n",
    "na_games_sales.pivot_table(index='genre', values='na_sales', aggfunc='sum')\\\n",
    "      .sort_values(by='na_sales', ascending=False).head(5)\\\n",
    "      .plot(kind='bar', figsize=(10, 5)).set_title('Популярность жанров в Северной Америке')\n",
    "plt.ylabel('na_sales');"
   ]
  },
  {
   "cell_type": "markdown",
   "id": "0898256b",
   "metadata": {},
   "source": [
    "Отличия в долях: Наиболее распространенным жанром является Action, показатели которого сильно отличаются от последних 3х жанров из 5. Второй по популярности жанр Shooter отстает на шестую часть, а третий Sports составляет половину от популярности первого. Разница между остальными 3я жанрами Sports, Role-Playing, Misc составляет примерно 16 единиц и мало отличается. Наименее популярным из пяти представленных жанров является Misc, рейтинг которого составляет пятую часть от рейтинга Action.\n",
    "<br> <br>\n",
    "Северная Америка: среднестатистический пользователь играет на платформах PS4, XOne, X360, PS3, 3DS. В основном выбирает жанры Action, Shooter, Sports, Role-Playing, Misc."
   ]
  },
  {
   "cell_type": "markdown",
   "id": "dd9d0c80",
   "metadata": {},
   "source": [
    "### Европа"
   ]
  },
  {
   "cell_type": "code",
   "execution_count": 40,
   "id": "83ef5d4e",
   "metadata": {},
   "outputs": [
    {
     "name": "stdout",
     "output_type": "stream",
     "text": [
      "          eu_sales\n",
      "platform          \n",
      "PS4         141.09\n",
      "PS3          67.81\n",
      "XOne         51.59\n",
      "X360         42.52\n",
      "3DS          30.96\n"
     ]
    },
    {
     "data": {
      "image/png": "[encoded data removed]",
      "text/plain": [
       "<Figure size 720x360 with 1 Axes>"
      ]
     },
     "metadata": {
      "needs_background": "light"
     },
     "output_type": "display_data"
    }
   ],
   "source": [
    "eu_games_sales = valid_period.query('eu_sales > 0')\n",
    "\n",
    "print(eu_games_sales.pivot_table(index='platform', values='eu_sales', aggfunc='sum')\\\n",
    "      .sort_values(by='eu_sales', ascending=False)[:5])\n",
    "\n",
    "eu_games_sales.pivot_table(index='platform', values='eu_sales', aggfunc='sum')\\\n",
    ".sort_values(by='eu_sales', ascending=False)[:5]\\\n",
    ".plot(kind='bar', figsize=(10, 5)).set_title('Популярность консолей в Европе')\n",
    "plt.ylabel('eu_sales');"
   ]
  },
  {
   "cell_type": "markdown",
   "id": "91835274",
   "metadata": {},
   "source": [
    "Отличие в долях: Наиболее распространенной платформой является PS4, показатели которой сильно отличаются от остальных платформ. Вторая по популярности платформа PS3 составляет половину от популярности первой. Разница между стальными 4 платформами PS3, XOne, X360, 3DS составляет примерно 16 единиц и мало отличается. Наименее популярной из пяти представленных платформ является 3DS, рейтинг которой составляет пятую часть от рейтинга PS4."
   ]
  },
  {
   "cell_type": "code",
   "execution_count": 41,
   "id": "2ac2b49f",
   "metadata": {},
   "outputs": [
    {
     "name": "stdout",
     "output_type": "stream",
     "text": [
      "              eu_sales\n",
      "genre                 \n",
      "Action          118.13\n",
      "Shooter          87.86\n",
      "Sports           60.52\n",
      "Role-Playing     36.97\n",
      "Racing           20.19\n"
     ]
    },
    {
     "data": {
      "image/png": "[encoded data removed]",
      "text/plain": [
       "<Figure size 720x360 with 1 Axes>"
      ]
     },
     "metadata": {
      "needs_background": "light"
     },
     "output_type": "display_data"
    }
   ],
   "source": [
    "print(eu_games_sales.pivot_table(index='genre', values='eu_sales', aggfunc='sum')\\\n",
    "      .sort_values(by='eu_sales', ascending=False)[:5])\n",
    "eu_games_sales.pivot_table(index='genre', values='eu_sales', aggfunc='sum')\\\n",
    "      .sort_values(by='eu_sales', ascending=False).head(5)\\\n",
    "      .plot(kind='bar', figsize=(10, 5)).set_title('Популярность жанров в Европе')\n",
    "plt.ylabel('eu_sales');"
   ]
  },
  {
   "cell_type": "markdown",
   "id": "e9971457",
   "metadata": {},
   "source": [
    "Отличия в долях: Наиболее распространенным жанром является Action, показатели которого мало отличаются от остальных жанров. Второй по популярности жанр Shooter отстает на четвертую часть, а третий Sports составляет половину от популярности первого. Разница между всеми жанрами Action, Shooter, Sports, Role-Playing, Racing составляет примерно 35 единиц и мало отличается. Наименее популярным из пяти представленных жанров является Racing, рейтинг которого составляет шестую часть от рейтинга Action.\n",
    "\n",
    "Европа: среднестатистический пользователь играет на платформах PS4, PS3, XOne, X360, 3DS. В основном выбирает жанры Action, Shooter, Sports, Role-Playing, Racing."
   ]
  },
  {
   "cell_type": "markdown",
   "id": "7fa7e445",
   "metadata": {},
   "source": [
    "### Япония"
   ]
  },
  {
   "cell_type": "code",
   "execution_count": 42,
   "id": "2a57009a",
   "metadata": {},
   "outputs": [
    {
     "name": "stdout",
     "output_type": "stream",
     "text": [
      "          jp_sales\n",
      "platform          \n",
      "3DS          67.81\n",
      "PS3          23.35\n",
      "PSV          18.59\n",
      "PS4          15.96\n",
      "WiiU         10.88\n"
     ]
    },
    {
     "data": {
      "image/png": "[encoded data removed]",
      "text/plain": [
       "<Figure size 720x360 with 1 Axes>"
      ]
     },
     "metadata": {
      "needs_background": "light"
     },
     "output_type": "display_data"
    }
   ],
   "source": [
    "jp_games_sales = valid_period.query('jp_sales > 0')\n",
    "\n",
    "print(jp_games_sales.pivot_table(index='platform', values='jp_sales', aggfunc='sum')\\\n",
    "      .sort_values(by='jp_sales', ascending=False)[:5])\n",
    "\n",
    "jp_games_sales.pivot_table(index='platform', values='jp_sales', aggfunc='sum')\\\n",
    ".sort_values(by='jp_sales', ascending=False)[:5]\\\n",
    ".plot(kind='bar', figsize=(10, 5)).set_title('Популярность консолей в Японии')\n",
    "plt.ylabel('jp_sales');"
   ]
  },
  {
   "cell_type": "markdown",
   "id": "55429eb6",
   "metadata": {},
   "source": [
    "Отличие в долях: Наиболее распространенной платформой является 3DS, показатели которой сильно отличаются от остальных платформ. Вторая по популярности платформа PS3 составляет треть от популярности первой. Разница между стальными 4 платформами PS3, PSV, PS4, WiiU составляет примерно 5 единиц и мало отличается. Наименее популярной из пяти представленных платформ является WiiU, рейтинг которой составляет седьмую часть от рейтинга 3DS."
   ]
  },
  {
   "cell_type": "code",
   "execution_count": 43,
   "id": "23a00d30",
   "metadata": {},
   "outputs": [
    {
     "name": "stdout",
     "output_type": "stream",
     "text": [
      "              jp_sales\n",
      "genre                 \n",
      "Role-Playing     51.04\n",
      "Action           40.49\n",
      "Misc              9.20\n",
      "Fighting          7.65\n",
      "Shooter           6.61\n"
     ]
    },
    {
     "data": {
      "image/png": "[encoded data removed]",
      "text/plain": [
       "<Figure size 720x360 with 1 Axes>"
      ]
     },
     "metadata": {
      "needs_background": "light"
     },
     "output_type": "display_data"
    }
   ],
   "source": [
    "print(jp_games_sales.pivot_table(index='genre', values='jp_sales', aggfunc='sum')\\\n",
    "      .sort_values(by='jp_sales', ascending=False)[:5])\n",
    "jp_games_sales.pivot_table(index='genre', values='jp_sales', aggfunc='sum')\\\n",
    "      .sort_values(by='jp_sales', ascending=False).head(5)\\\n",
    "      .plot(kind='bar', figsize=(10, 5)).set_title('Популярность жанров в Японии')\n",
    "plt.ylabel('jp_sales');"
   ]
  },
  {
   "cell_type": "markdown",
   "id": "5ec1571b",
   "metadata": {},
   "source": [
    "Отличия в долях: Наиболее распространенным жанром является Role-Playing, показатели которого мало отличаются от второго по популярности жанра. Второй по популярности жанр Axtion отстает на пятую часть, а третий Misc составляет лишь шестую часть от популярности первого. Разница между оставшимися 3я жанрами Misc, Fighting, Shooter составляет примерно 2 единицы и практически не отличается. Наименее популярным из пяти представленных жанров является Shooter, рейтинг которого составляет восьмую часть от рейтинга Role-Playing.\n",
    "\n",
    "Япония: среднестатистический пользователь играет на платформах 3DS, PS3, PSV, PS4, WiiU. В основном выбирает жанры Role-Playing, Action, Misc, Fighting, Shooter."
   ]
  },
  {
   "cell_type": "code",
   "execution_count": 44,
   "id": "1e9583e1",
   "metadata": {},
   "outputs": [
    {
     "data": {
      "text/html": [
       "<div>\n",
       "<style scoped>\n",
       "    .dataframe tbody tr th:only-of-type {\n",
       "        vertical-align: middle;\n",
       "    }\n",
       "\n",
       "    .dataframe tbody tr th {\n",
       "        vertical-align: top;\n",
       "    }\n",
       "\n",
       "    .dataframe thead th {\n",
       "        text-align: right;\n",
       "    }\n",
       "</style>\n",
       "<table border=\"1\" class=\"dataframe\">\n",
       "  <thead>\n",
       "    <tr style=\"text-align: right;\">\n",
       "      <th></th>\n",
       "      <th>eu_sales</th>\n",
       "      <th>jp_sales</th>\n",
       "      <th>na_sales</th>\n",
       "    </tr>\n",
       "    <tr>\n",
       "      <th>rating</th>\n",
       "      <th></th>\n",
       "      <th></th>\n",
       "      <th></th>\n",
       "    </tr>\n",
       "  </thead>\n",
       "  <tbody>\n",
       "    <tr>\n",
       "      <th>E</th>\n",
       "      <td>83.36</td>\n",
       "      <td>15.14</td>\n",
       "      <td>79.05</td>\n",
       "    </tr>\n",
       "    <tr>\n",
       "      <th>E10+</th>\n",
       "      <td>42.69</td>\n",
       "      <td>5.89</td>\n",
       "      <td>54.24</td>\n",
       "    </tr>\n",
       "    <tr>\n",
       "      <th>M</th>\n",
       "      <td>145.32</td>\n",
       "      <td>14.11</td>\n",
       "      <td>165.21</td>\n",
       "    </tr>\n",
       "    <tr>\n",
       "      <th>T</th>\n",
       "      <td>41.95</td>\n",
       "      <td>20.59</td>\n",
       "      <td>49.79</td>\n",
       "    </tr>\n",
       "  </tbody>\n",
       "</table>\n",
       "</div>"
      ],
      "text/plain": [
       "        eu_sales  jp_sales  na_sales\n",
       "rating                              \n",
       "E          83.36     15.14     79.05\n",
       "E10+       42.69      5.89     54.24\n",
       "M         145.32     14.11    165.21\n",
       "T          41.95     20.59     49.79"
      ]
     },
     "execution_count": 44,
     "metadata": {},
     "output_type": "execute_result"
    }
   ],
   "source": [
    "ESRB = valid_period.pivot_table(index='rating', values=['eu_sales','jp_sales','na_sales'], aggfunc = 'sum')\n",
    "ESRB"
   ]
  },
  {
   "cell_type": "code",
   "execution_count": 45,
   "id": "0ad10a8e",
   "metadata": {},
   "outputs": [
    {
     "data": {
      "image/png": "[encoded data removed]",
      "text/plain": [
       "<Figure size 720x360 with 1 Axes>"
      ]
     },
     "metadata": {
      "needs_background": "light"
     },
     "output_type": "display_data"
    }
   ],
   "source": [
    "ESRB.plot(kind='bar', title='Распределение рейтинга по регионам', ylabel='sales', figsize=(10,5));"
   ]
  },
  {
   "cell_type": "markdown",
   "id": "5559aa5e",
   "metadata": {},
   "source": [
    "Рейтинг возраста влияет по каждому региону. <br>\n",
    "В Америке и Европе схожие ситуации - в первую очередь популярны игры с возрастным рейтингом 6+ и 17+. Это означает, что эти рынки ориентированы на взрослых пользователей. <br>\n",
    "В Японии лидириуют игры с возрастным рейтингом 6+ и 13+. Вероятно, компании хотят распространить свое влияние на новое поколение."
   ]
  },
  {
   "cell_type": "markdown",
   "id": "eb3a3e37",
   "metadata": {},
   "source": [
    "### Вывод:\n",
    "- Рейтинг платформ:\n",
    "    - Топ 5 по Северной Америке: PS4, XOne, X360, PS3, 3DS\n",
    "    - Топ 5 по Европе: PS4, PS3, XOne, X360, 3DS\n",
    "    - Топ 5 по Японии: 3DS, PS3, PSV, PS4, WiiU\n",
    "- Популярность XOne в Америке обусловлена крупным игроком на рынке в регионе - компания Microsoft. В Японии похожее положение занимает компания Nintendo и Sony c двумя продуктами 3DS и PS3. На европейском рыноке преобладают американские и японские модели, так как в данном регионе нет крупных компаний по разработке платформ;\n",
    "- Итоги регионального анализа по жанрам:\n",
    "    - Рейтинг жанров:\n",
    "        - Топ 5 по Северной Америке: Action, Shooter, Sports, Role-Playing, Misc\n",
    "        - Топ 5 по Европе: Action, Shooter, Sports, Role-Playing, Racing\n",
    "        - Топ 5 по Японии: Role-Playing, Action, Misc, Fighting, Shooter\n",
    "    - Американские и европейские игроки имеют схожите тенденции по жанрам в целом, видимо, из-за схожести культур и традиций. Все топ-5 жанры показывают примерно одинаковые рейтинги. \n",
    "    - Японские геймеры отдают предпочтение играм с более спокойным сценарием, значительно преобладает жанры Role-Playing и Action. Видимо, Япония - достаточно специфический рынок, к которому нужен особый подход в плане рекламных кампаний.\n",
    "    - Вне зависимости от региона всегда будут популярны игры экшен, так как многие поколения выросли на этом жанре.\n",
    "- Рейтинг возраста влияет по каждому региону."
   ]
  },
  {
   "cell_type": "markdown",
   "id": "74729307",
   "metadata": {},
   "source": [
    "<a id='section5'></a>\n",
    "## Проверка гипотез"
   ]
  },
  {
   "cell_type": "markdown",
   "id": "5e5ef92b",
   "metadata": {},
   "source": [
    "### Первая гипотеза\n",
    "H_0: Средние пользовательские рейтинги платформ Xbox One и PC одинаковые. <br>\n",
    "H_1: Средние пользовательские рейтинги платформ Xbox One и PC разные. <br>\n",
    "\n",
    "Для проверки гипотезы применим ttest_ind, так как мы проверяем среднее двух независимых выборок."
   ]
  },
  {
   "cell_type": "code",
   "execution_count": 46,
   "id": "27605519",
   "metadata": {},
   "outputs": [],
   "source": [
    "XOne = valid_period[(valid_period['platform'] == 'XOne') & (valid_period['user_score'] > 0)]['user_score']\n",
    "PC = valid_period[(valid_period['platform'] == 'PC') & (valid_period['user_score'] > 0)]['user_score']"
   ]
  },
  {
   "cell_type": "code",
   "execution_count": 47,
   "id": "3ef580ad",
   "metadata": {},
   "outputs": [
    {
     "name": "stdout",
     "output_type": "stream",
     "text": [
      "Средний пользовательский рейтинг платформы Xbox:  6.521428571428572\n",
      "Средний пользовательский рейтинг платформы PC:  6.2696774193548395\n"
     ]
    }
   ],
   "source": [
    "print('Средний пользовательский рейтинг платформы Xbox: ', XOne.mean())\n",
    "print('Средний пользовательский рейтинг платформы PC: ', PC.mean())"
   ]
  },
  {
   "cell_type": "code",
   "execution_count": 48,
   "id": "9f71a0ab",
   "metadata": {},
   "outputs": [
    {
     "name": "stdout",
     "output_type": "stream",
     "text": [
      "p-value: 0.14759594013430463\n",
      "Не получилось отвергнуть нулевую гипотезу\n"
     ]
    }
   ],
   "source": [
    "alpha = 0.01\n",
    "\n",
    "results = st.ttest_ind(XOne, PC, equal_var=False)\n",
    "\n",
    "print('p-value:', results.pvalue)\n",
    "\n",
    "if (results.pvalue < alpha):\n",
    "    print(\"Отвергаем нулевую гипотезу\")\n",
    "else:\n",
    "    print(\"Не получилось отвергнуть нулевую гипотезу\")"
   ]
  },
  {
   "cell_type": "markdown",
   "id": "f9420f8c",
   "metadata": {},
   "source": [
    "Гипотеза подтверждена, значит, средние пользовательские рейтинги платформ Xbox One и PC одинаковые."
   ]
  },
  {
   "cell_type": "markdown",
   "id": "4bcde357",
   "metadata": {},
   "source": [
    "### Вторая гипотеза"
   ]
  },
  {
   "cell_type": "markdown",
   "id": "cc50a229",
   "metadata": {},
   "source": [
    "H_0: Средние пользовательские рейтинги жанров Action (англ. «действие», экшен-игры) и Sports (англ. «спортивные соревнования») разные. <br>\n",
    "H_1: Средние пользовательские рейтинги жанров Action (англ. «действие», экшен-игры) и Sports (англ. «спортивные соревнования») одинаковые. <br>\n",
    "\n",
    "Для проверки применим ttest_ind, так как мы проверяем среднее двух независимых выборок."
   ]
  },
  {
   "cell_type": "code",
   "execution_count": 49,
   "id": "065079e1",
   "metadata": {},
   "outputs": [],
   "source": [
    "Action = valid_period[(valid_period['genre'] == 'Action') & (valid_period['user_score'] > 0)]['user_score']\n",
    "Sports = valid_period[(valid_period['genre'] == 'Sports') & (valid_period['user_score'] > 0)]['user_score']"
   ]
  },
  {
   "cell_type": "code",
   "execution_count": 50,
   "id": "c43cf46a",
   "metadata": {},
   "outputs": [
    {
     "name": "stdout",
     "output_type": "stream",
     "text": [
      "Средний пользовательский рейтинг жанра Action: 6.837532133676092\n",
      "Средний пользовательский рейтинг жанра Sports 5.238124999999999\n"
     ]
    }
   ],
   "source": [
    "print('Средний пользовательский рейтинг жанра Action:', Action.mean())\n",
    "print('Средний пользовательский рейтинг жанра Sports', Sports.mean())"
   ]
  },
  {
   "cell_type": "code",
   "execution_count": 51,
   "id": "e6b80a0d",
   "metadata": {},
   "outputs": [
    {
     "name": "stdout",
     "output_type": "stream",
     "text": [
      "p-value: 1.4460039700704315e-20\n",
      "Отвергаем нулевую гипотезу\n"
     ]
    }
   ],
   "source": [
    "alpha = 0.01\n",
    "\n",
    "results = st.ttest_ind(Action, Sports, equal_var=False)\n",
    "\n",
    "print('p-value:', results.pvalue)\n",
    "\n",
    "if (results.pvalue < alpha):\n",
    "    print(\"Отвергаем нулевую гипотезу\")\n",
    "else:\n",
    "    print(\"Не получилось отвергнуть нулевую гипотезу\")"
   ]
  },
  {
   "cell_type": "markdown",
   "id": "8135c6fd",
   "metadata": {},
   "source": [
    "Гипотеза отвергнута. Значит, cредние пользовательские рейтинги жанров Action (англ. «действие», экшен-игры) и Sports (англ. «спортивные соревнования») одинаковые."
   ]
  },
  {
   "cell_type": "markdown",
   "id": "ccbacf35",
   "metadata": {},
   "source": [
    "<a id='section6'></a>\n",
    "## Итоги"
   ]
  },
  {
   "cell_type": "markdown",
   "id": "b5a3e90b",
   "metadata": {},
   "source": [
    "В ходе проделанной работы было выполнено:\n",
    "- Просмотрены данные, выявлены аномалии и пропущенные значения;\n",
    "- Проведена предобработка данных: замена столбцов, заполнение пропусков, удаление дубликатов;\n",
    "- Проведен анализ по данным и выделен актуальный временной промежуток;\n",
    "- Составлены портреты пользователей для трёх купных регионов продаж;\n",
    "- Выполнены проверки гипотез.\n",
    "\n",
    "Основные выводы:\n",
    "- Продажи компьютерных игр зависят от трех составляющих: компания-создатель, платформа и жанр;\n",
    "- На данный момент популярны компании, которые уже давно разрабатывают игры. Они используют свои любимые жанры и уже накопили аудиторию фанатов;\n",
    "- Платформа определяет технические возможности разработчиков. Жизненный цикл в 5-12 лет обусловлен улучшениями в технологиях процессора, оперативной и видеопамяти;\n",
    "- В данной выборке представлены игры, выпущенные в годы с 1980 по 2016, однако актуальной выборкой лучше считать период с 2013 по 2016;\n",
    "- Популярные платформы в среднем пользовались спросом не более 10 лет;\n",
    "- Оценки критиков влияют на количество продаж, а отзывы игроков покупатели не принимают во внимание;\n",
    "- Platform, Shooter, Sports являются самыми популярными жанрами;\n",
    "- Puzzle, Strategy, Adventure не пользуются спросом;\n",
    "- Cредние пользовательские рейтинги платформ Xbox, XOne и PC одинаковые;\n",
    "- Средние пользовательские рейтинги жанров Action (англ. «действие», экшен-игры) и Sports (англ. «спортивные соревнования») одинаковые.\n",
    "\n",
    "Критерии определяющие успешность игры:\n",
    "- Платформа, которая наиболее распространена в данном регионе;\n",
    "- Жанр;\n",
    "- Рейтинг критиков;\n",
    "- Возрастной рейтинг компьютерных игр.\n",
    "\n",
    "Рекомендации:\n",
    "- Игры, которые будут продаваться в Северной Америке лучше всего:\n",
    "    - ESRB: M, Е, T\n",
    "    - Платформа: PS4, XOne, X360, PS3, 3DS\n",
    "    - Жанр: Action, Shooter, Sports, Role-Playing, Misc\n",
    "\n",
    "- Игры, которые будут продаваться в Европе лучше всего:\n",
    "    - ESRB: M, Е, T\n",
    "    - Платформа: PS4, PS3, XOne, X360, 3DS\n",
    "    - Жанр: Action, Shooter, Sports, Role-Playing, Racing\n",
    "\n",
    "- Игры, которые будут продаваться в Японии лучше всего:\n",
    "    - ESRB: T, Е, M\n",
    "    - Платформа: 3DS, PS3, PSV, PS4, WiiU\n",
    "    - Жанр: Role-Playing, Action, Misc, Fighting, Shooter\n",
    "    \n",
    "- Важно помнить:\n",
    "    - Потенциально прибыльные платформы: PS4, XOne, 3DS;\n",
    "    - Потенциально уйдут с рынка: Wii, PS3, X360."
   ]
  }
 ],
 "metadata": {
  "ExecuteTimeLog": [
   {
    "duration": 812,
    "start_time": "2024-02-29T04:19:58.008Z"
   },
   {
    "duration": 151,
    "start_time": "2024-02-29T04:19:58.822Z"
   },
   {
    "duration": 0,
    "start_time": "2024-02-29T04:19:58.979Z"
   },
   {
    "duration": 0,
    "start_time": "2024-02-29T04:19:58.980Z"
   },
   {
    "duration": 0,
    "start_time": "2024-02-29T04:19:58.982Z"
   },
   {
    "duration": 0,
    "start_time": "2024-02-29T04:19:58.983Z"
   },
   {
    "duration": 0,
    "start_time": "2024-02-29T04:19:58.985Z"
   },
   {
    "duration": 1,
    "start_time": "2024-02-29T04:19:58.986Z"
   },
   {
    "duration": 0,
    "start_time": "2024-02-29T04:19:58.988Z"
   },
   {
    "duration": 0,
    "start_time": "2024-02-29T04:19:58.989Z"
   },
   {
    "duration": 0,
    "start_time": "2024-02-29T04:19:58.991Z"
   },
   {
    "duration": 0,
    "start_time": "2024-02-29T04:19:58.993Z"
   },
   {
    "duration": 0,
    "start_time": "2024-02-29T04:19:58.994Z"
   },
   {
    "duration": 0,
    "start_time": "2024-02-29T04:19:58.995Z"
   },
   {
    "duration": 0,
    "start_time": "2024-02-29T04:19:58.996Z"
   },
   {
    "duration": 0,
    "start_time": "2024-02-29T04:19:58.998Z"
   },
   {
    "duration": 0,
    "start_time": "2024-02-29T04:19:58.998Z"
   },
   {
    "duration": 0,
    "start_time": "2024-02-29T04:19:59.001Z"
   },
   {
    "duration": 0,
    "start_time": "2024-02-29T04:19:59.002Z"
   },
   {
    "duration": 0,
    "start_time": "2024-02-29T04:19:59.002Z"
   },
   {
    "duration": 0,
    "start_time": "2024-02-29T04:19:59.004Z"
   },
   {
    "duration": 0,
    "start_time": "2024-02-29T04:19:59.005Z"
   },
   {
    "duration": 0,
    "start_time": "2024-02-29T04:19:59.006Z"
   },
   {
    "duration": 0,
    "start_time": "2024-02-29T04:19:59.007Z"
   },
   {
    "duration": 0,
    "start_time": "2024-02-29T04:19:59.008Z"
   },
   {
    "duration": 0,
    "start_time": "2024-02-29T04:19:59.009Z"
   },
   {
    "duration": 0,
    "start_time": "2024-02-29T04:19:59.011Z"
   },
   {
    "duration": 0,
    "start_time": "2024-02-29T04:19:59.012Z"
   },
   {
    "duration": 0,
    "start_time": "2024-02-29T04:19:59.013Z"
   },
   {
    "duration": 0,
    "start_time": "2024-02-29T04:19:59.014Z"
   },
   {
    "duration": 0,
    "start_time": "2024-02-29T04:19:59.016Z"
   },
   {
    "duration": 0,
    "start_time": "2024-02-29T04:19:59.065Z"
   },
   {
    "duration": 0,
    "start_time": "2024-02-29T04:19:59.067Z"
   },
   {
    "duration": 0,
    "start_time": "2024-02-29T04:19:59.068Z"
   },
   {
    "duration": 0,
    "start_time": "2024-02-29T04:19:59.069Z"
   },
   {
    "duration": 0,
    "start_time": "2024-02-29T04:19:59.071Z"
   },
   {
    "duration": 0,
    "start_time": "2024-02-29T04:19:59.072Z"
   },
   {
    "duration": 0,
    "start_time": "2024-02-29T04:19:59.073Z"
   },
   {
    "duration": 0,
    "start_time": "2024-02-29T04:19:59.075Z"
   },
   {
    "duration": 0,
    "start_time": "2024-02-29T04:19:59.076Z"
   },
   {
    "duration": 0,
    "start_time": "2024-02-29T04:19:59.078Z"
   },
   {
    "duration": 0,
    "start_time": "2024-02-29T04:19:59.079Z"
   },
   {
    "duration": 0,
    "start_time": "2024-02-29T04:19:59.080Z"
   },
   {
    "duration": 51,
    "start_time": "2024-02-29T09:42:45.052Z"
   },
   {
    "duration": 926,
    "start_time": "2024-02-29T09:42:49.339Z"
   },
   {
    "duration": 131,
    "start_time": "2024-02-29T09:42:51.311Z"
   },
   {
    "duration": 21,
    "start_time": "2024-02-29T09:42:53.337Z"
   },
   {
    "duration": 25,
    "start_time": "2024-02-29T09:42:54.077Z"
   },
   {
    "duration": 66,
    "start_time": "2024-02-29T09:43:17.075Z"
   },
   {
    "duration": 2,
    "start_time": "2024-02-29T09:44:22.619Z"
   },
   {
    "duration": 127,
    "start_time": "2024-02-29T09:44:22.623Z"
   },
   {
    "duration": 14,
    "start_time": "2024-02-29T09:44:22.752Z"
   },
   {
    "duration": 47,
    "start_time": "2024-02-29T09:44:22.768Z"
   },
   {
    "duration": 4,
    "start_time": "2024-02-29T09:44:22.819Z"
   },
   {
    "duration": 20,
    "start_time": "2024-02-29T09:44:22.825Z"
   },
   {
    "duration": 19,
    "start_time": "2024-02-29T09:44:22.847Z"
   },
   {
    "duration": 20,
    "start_time": "2024-02-29T09:44:22.868Z"
   },
   {
    "duration": 17,
    "start_time": "2024-02-29T09:44:22.890Z"
   },
   {
    "duration": 23,
    "start_time": "2024-02-29T09:44:22.909Z"
   },
   {
    "duration": 13,
    "start_time": "2024-02-29T09:44:22.935Z"
   },
   {
    "duration": 23,
    "start_time": "2024-02-29T09:44:22.950Z"
   },
   {
    "duration": 10,
    "start_time": "2024-02-29T09:44:22.974Z"
   },
   {
    "duration": 17,
    "start_time": "2024-02-29T09:44:22.986Z"
   },
   {
    "duration": 9,
    "start_time": "2024-02-29T09:44:23.005Z"
   },
   {
    "duration": 9,
    "start_time": "2024-02-29T09:44:23.016Z"
   },
   {
    "duration": 5,
    "start_time": "2024-02-29T09:44:23.027Z"
   },
   {
    "duration": 21,
    "start_time": "2024-02-29T09:44:23.034Z"
   },
   {
    "duration": 630,
    "start_time": "2024-02-29T09:44:23.056Z"
   },
   {
    "duration": 16,
    "start_time": "2024-02-29T09:44:23.688Z"
   },
   {
    "duration": 2084,
    "start_time": "2024-02-29T09:44:23.714Z"
   },
   {
    "duration": 15,
    "start_time": "2024-02-29T09:44:25.800Z"
   },
   {
    "duration": 290,
    "start_time": "2024-02-29T09:44:25.817Z"
   },
   {
    "duration": 398,
    "start_time": "2024-02-29T09:44:26.108Z"
   },
   {
    "duration": 25,
    "start_time": "2024-02-29T09:44:26.508Z"
   },
   {
    "duration": 15,
    "start_time": "2024-02-29T09:44:26.535Z"
   },
   {
    "duration": 15,
    "start_time": "2024-02-29T09:44:26.552Z"
   },
   {
    "duration": 229,
    "start_time": "2024-02-29T09:44:26.569Z"
   },
   {
    "duration": 16,
    "start_time": "2024-02-29T09:44:26.802Z"
   },
   {
    "duration": 18,
    "start_time": "2024-02-29T09:44:26.820Z"
   },
   {
    "duration": 21,
    "start_time": "2024-02-29T09:44:26.840Z"
   },
   {
    "duration": 12,
    "start_time": "2024-02-29T09:44:26.863Z"
   },
   {
    "duration": 39,
    "start_time": "2024-02-29T09:44:26.877Z"
   },
   {
    "duration": 248,
    "start_time": "2024-02-29T09:44:26.917Z"
   },
   {
    "duration": 230,
    "start_time": "2024-02-29T09:44:27.166Z"
   },
   {
    "duration": 232,
    "start_time": "2024-02-29T09:44:27.398Z"
   },
   {
    "duration": 19,
    "start_time": "2024-02-29T09:44:27.632Z"
   },
   {
    "duration": 7,
    "start_time": "2024-02-29T09:44:27.653Z"
   },
   {
    "duration": 13,
    "start_time": "2024-02-29T09:44:27.661Z"
   },
   {
    "duration": 9,
    "start_time": "2024-02-29T09:44:27.676Z"
   },
   {
    "duration": 33,
    "start_time": "2024-02-29T09:44:27.686Z"
   },
   {
    "duration": 4,
    "start_time": "2024-02-29T09:44:27.720Z"
   },
   {
    "duration": 7,
    "start_time": "2024-02-29T09:44:27.726Z"
   },
   {
    "duration": 813,
    "start_time": "2024-02-29T13:42:04.316Z"
   },
   {
    "duration": 135,
    "start_time": "2024-02-29T13:42:05.131Z"
   },
   {
    "duration": 20,
    "start_time": "2024-02-29T13:42:05.268Z"
   },
   {
    "duration": 17,
    "start_time": "2024-02-29T13:42:05.290Z"
   },
   {
    "duration": 3,
    "start_time": "2024-02-29T13:42:05.308Z"
   },
   {
    "duration": 11,
    "start_time": "2024-02-29T13:42:05.312Z"
   },
   {
    "duration": 4,
    "start_time": "2024-02-29T13:42:05.325Z"
   },
   {
    "duration": 5,
    "start_time": "2024-02-29T13:42:05.331Z"
   },
   {
    "duration": 28,
    "start_time": "2024-02-29T13:42:05.337Z"
   },
   {
    "duration": 5,
    "start_time": "2024-02-29T13:42:05.368Z"
   },
   {
    "duration": 15,
    "start_time": "2024-02-29T13:42:05.374Z"
   },
   {
    "duration": 17,
    "start_time": "2024-02-29T13:42:05.390Z"
   },
   {
    "duration": 8,
    "start_time": "2024-02-29T13:42:05.409Z"
   },
   {
    "duration": 20,
    "start_time": "2024-02-29T13:42:05.418Z"
   },
   {
    "duration": 8,
    "start_time": "2024-02-29T13:42:05.439Z"
   },
   {
    "duration": 28,
    "start_time": "2024-02-29T13:42:05.448Z"
   },
   {
    "duration": 12,
    "start_time": "2024-02-29T13:42:05.477Z"
   },
   {
    "duration": 14,
    "start_time": "2024-02-29T13:42:05.490Z"
   },
   {
    "duration": 420,
    "start_time": "2024-02-29T13:42:05.505Z"
   },
   {
    "duration": 16,
    "start_time": "2024-02-29T13:42:05.926Z"
   },
   {
    "duration": 1863,
    "start_time": "2024-02-29T13:42:05.944Z"
   },
   {
    "duration": 7,
    "start_time": "2024-02-29T13:42:07.809Z"
   },
   {
    "duration": 298,
    "start_time": "2024-02-29T13:42:07.818Z"
   },
   {
    "duration": 278,
    "start_time": "2024-02-29T13:42:08.117Z"
   },
   {
    "duration": 13,
    "start_time": "2024-02-29T13:42:08.397Z"
   },
   {
    "duration": 14,
    "start_time": "2024-02-29T13:42:08.412Z"
   },
   {
    "duration": 13,
    "start_time": "2024-02-29T13:42:08.427Z"
   },
   {
    "duration": 231,
    "start_time": "2024-02-29T13:42:08.465Z"
   },
   {
    "duration": 10,
    "start_time": "2024-02-29T13:42:08.698Z"
   },
   {
    "duration": 13,
    "start_time": "2024-02-29T13:42:08.709Z"
   },
   {
    "duration": 12,
    "start_time": "2024-02-29T13:42:08.723Z"
   },
   {
    "duration": 35,
    "start_time": "2024-02-29T13:42:08.737Z"
   },
   {
    "duration": 12,
    "start_time": "2024-02-29T13:42:08.774Z"
   },
   {
    "duration": 253,
    "start_time": "2024-02-29T13:42:08.788Z"
   },
   {
    "duration": 222,
    "start_time": "2024-02-29T13:42:09.043Z"
   },
   {
    "duration": 212,
    "start_time": "2024-02-29T13:42:09.266Z"
   },
   {
    "duration": 16,
    "start_time": "2024-02-29T13:42:09.479Z"
   },
   {
    "duration": 11,
    "start_time": "2024-02-29T13:42:09.496Z"
   },
   {
    "duration": 13,
    "start_time": "2024-02-29T13:42:09.508Z"
   },
   {
    "duration": 8,
    "start_time": "2024-02-29T13:42:09.523Z"
   },
   {
    "duration": 8,
    "start_time": "2024-02-29T13:42:09.532Z"
   },
   {
    "duration": 24,
    "start_time": "2024-02-29T13:42:09.542Z"
   },
   {
    "duration": 5,
    "start_time": "2024-02-29T13:42:09.567Z"
   },
   {
    "duration": 896,
    "start_time": "2024-02-29T19:56:53.307Z"
   },
   {
    "duration": 123,
    "start_time": "2024-02-29T19:56:54.206Z"
   },
   {
    "duration": 29,
    "start_time": "2024-02-29T19:56:54.330Z"
   },
   {
    "duration": 15,
    "start_time": "2024-02-29T19:56:54.361Z"
   },
   {
    "duration": 15,
    "start_time": "2024-02-29T19:56:54.378Z"
   },
   {
    "duration": 8,
    "start_time": "2024-02-29T19:56:54.394Z"
   },
   {
    "duration": 6,
    "start_time": "2024-02-29T19:56:54.403Z"
   },
   {
    "duration": 15,
    "start_time": "2024-02-29T19:56:54.410Z"
   },
   {
    "duration": 9,
    "start_time": "2024-02-29T19:56:54.426Z"
   },
   {
    "duration": 6,
    "start_time": "2024-02-29T19:56:54.436Z"
   },
   {
    "duration": 11,
    "start_time": "2024-02-29T19:56:54.444Z"
   },
   {
    "duration": 20,
    "start_time": "2024-02-29T19:56:54.457Z"
   },
   {
    "duration": 11,
    "start_time": "2024-02-29T19:56:54.478Z"
   },
   {
    "duration": 42,
    "start_time": "2024-02-29T19:56:54.492Z"
   },
   {
    "duration": 8,
    "start_time": "2024-02-29T19:56:54.536Z"
   },
   {
    "duration": 10,
    "start_time": "2024-02-29T19:56:54.545Z"
   },
   {
    "duration": 5,
    "start_time": "2024-02-29T19:56:54.556Z"
   },
   {
    "duration": 19,
    "start_time": "2024-02-29T19:56:54.563Z"
   },
   {
    "duration": 692,
    "start_time": "2024-02-29T19:56:54.584Z"
   },
   {
    "duration": 18,
    "start_time": "2024-02-29T19:56:55.278Z"
   },
   {
    "duration": 2080,
    "start_time": "2024-02-29T19:56:55.297Z"
   },
   {
    "duration": 7,
    "start_time": "2024-02-29T19:56:57.379Z"
   },
   {
    "duration": 307,
    "start_time": "2024-02-29T19:56:57.387Z"
   },
   {
    "duration": 419,
    "start_time": "2024-02-29T19:56:57.696Z"
   },
   {
    "duration": 15,
    "start_time": "2024-02-29T19:56:58.122Z"
   },
   {
    "duration": 25,
    "start_time": "2024-02-29T19:56:58.138Z"
   },
   {
    "duration": 17,
    "start_time": "2024-02-29T19:56:58.164Z"
   },
   {
    "duration": 163,
    "start_time": "2024-02-29T19:56:58.183Z"
   },
   {
    "duration": 10,
    "start_time": "2024-02-29T19:56:58.347Z"
   },
   {
    "duration": 13,
    "start_time": "2024-02-29T19:56:58.359Z"
   },
   {
    "duration": 13,
    "start_time": "2024-02-29T19:56:58.373Z"
   },
   {
    "duration": 42,
    "start_time": "2024-02-29T19:56:58.387Z"
   },
   {
    "duration": 15,
    "start_time": "2024-02-29T19:56:58.430Z"
   },
   {
    "duration": 230,
    "start_time": "2024-02-29T19:56:58.446Z"
   },
   {
    "duration": 238,
    "start_time": "2024-02-29T19:56:58.678Z"
   },
   {
    "duration": 242,
    "start_time": "2024-02-29T19:56:58.918Z"
   },
   {
    "duration": 17,
    "start_time": "2024-02-29T19:56:59.162Z"
   },
   {
    "duration": 7,
    "start_time": "2024-02-29T19:56:59.181Z"
   },
   {
    "duration": 16,
    "start_time": "2024-02-29T19:56:59.190Z"
   },
   {
    "duration": 11,
    "start_time": "2024-02-29T19:56:59.222Z"
   },
   {
    "duration": 14,
    "start_time": "2024-02-29T19:56:59.236Z"
   },
   {
    "duration": 5,
    "start_time": "2024-02-29T19:56:59.252Z"
   },
   {
    "duration": 8,
    "start_time": "2024-02-29T19:56:59.259Z"
   },
   {
    "duration": 115,
    "start_time": "2024-03-01T06:38:05.979Z"
   },
   {
    "duration": 44,
    "start_time": "2024-03-01T06:40:46.113Z"
   },
   {
    "duration": 855,
    "start_time": "2024-03-01T06:40:50.182Z"
   },
   {
    "duration": 237,
    "start_time": "2024-03-01T06:40:51.039Z"
   },
   {
    "duration": 19,
    "start_time": "2024-03-01T06:40:51.278Z"
   },
   {
    "duration": 30,
    "start_time": "2024-03-01T06:40:51.299Z"
   },
   {
    "duration": 7,
    "start_time": "2024-03-01T06:40:51.331Z"
   },
   {
    "duration": 24,
    "start_time": "2024-03-01T06:40:51.339Z"
   },
   {
    "duration": 21,
    "start_time": "2024-03-01T06:40:51.364Z"
   },
   {
    "duration": 40,
    "start_time": "2024-03-01T06:40:51.386Z"
   },
   {
    "duration": 16,
    "start_time": "2024-03-01T06:40:51.428Z"
   },
   {
    "duration": 41,
    "start_time": "2024-03-01T06:40:51.446Z"
   },
   {
    "duration": 20,
    "start_time": "2024-03-01T06:40:51.489Z"
   },
   {
    "duration": 39,
    "start_time": "2024-03-01T06:40:51.511Z"
   },
   {
    "duration": 37,
    "start_time": "2024-03-01T06:40:51.551Z"
   },
   {
    "duration": 26,
    "start_time": "2024-03-01T06:40:51.589Z"
   },
   {
    "duration": 58,
    "start_time": "2024-03-01T06:40:51.617Z"
   },
   {
    "duration": 15,
    "start_time": "2024-03-01T06:40:51.676Z"
   },
   {
    "duration": 28,
    "start_time": "2024-03-01T06:40:51.692Z"
   },
   {
    "duration": 28,
    "start_time": "2024-03-01T06:40:51.722Z"
   },
   {
    "duration": 52,
    "start_time": "2024-03-01T06:40:51.751Z"
   },
   {
    "duration": 634,
    "start_time": "2024-03-01T06:40:51.804Z"
   },
   {
    "duration": 16,
    "start_time": "2024-03-01T06:40:52.440Z"
   },
   {
    "duration": 1942,
    "start_time": "2024-03-01T06:40:52.457Z"
   },
   {
    "duration": 7,
    "start_time": "2024-03-01T06:40:54.401Z"
   },
   {
    "duration": 281,
    "start_time": "2024-03-01T06:40:54.409Z"
   },
   {
    "duration": 380,
    "start_time": "2024-03-01T06:40:54.692Z"
   },
   {
    "duration": 20,
    "start_time": "2024-03-01T06:40:55.074Z"
   },
   {
    "duration": 18,
    "start_time": "2024-03-01T06:40:55.095Z"
   },
   {
    "duration": 16,
    "start_time": "2024-03-01T06:40:55.116Z"
   },
   {
    "duration": 149,
    "start_time": "2024-03-01T06:40:55.134Z"
   },
   {
    "duration": 16,
    "start_time": "2024-03-01T06:40:55.285Z"
   },
   {
    "duration": 35,
    "start_time": "2024-03-01T06:40:55.303Z"
   },
   {
    "duration": 19,
    "start_time": "2024-03-01T06:40:55.340Z"
   },
   {
    "duration": 30,
    "start_time": "2024-03-01T06:40:55.361Z"
   },
   {
    "duration": 28,
    "start_time": "2024-03-01T06:40:55.392Z"
   },
   {
    "duration": 247,
    "start_time": "2024-03-01T06:40:55.422Z"
   },
   {
    "duration": 201,
    "start_time": "2024-03-01T06:40:55.671Z"
   },
   {
    "duration": 212,
    "start_time": "2024-03-01T06:40:55.873Z"
   },
   {
    "duration": 19,
    "start_time": "2024-03-01T06:40:56.087Z"
   },
   {
    "duration": 9,
    "start_time": "2024-03-01T06:40:56.107Z"
   },
   {
    "duration": 20,
    "start_time": "2024-03-01T06:40:56.117Z"
   },
   {
    "duration": 8,
    "start_time": "2024-03-01T06:40:56.138Z"
   },
   {
    "duration": 36,
    "start_time": "2024-03-01T06:40:56.148Z"
   },
   {
    "duration": 21,
    "start_time": "2024-03-01T06:40:56.185Z"
   },
   {
    "duration": 25,
    "start_time": "2024-03-01T06:40:56.207Z"
   },
   {
    "duration": 19,
    "start_time": "2024-03-01T06:41:55.675Z"
   },
   {
    "duration": 17,
    "start_time": "2024-03-01T06:42:01.320Z"
   },
   {
    "duration": 128,
    "start_time": "2024-03-01T06:43:05.566Z"
   },
   {
    "duration": 58,
    "start_time": "2024-03-01T06:50:28.154Z"
   },
   {
    "duration": 805,
    "start_time": "2024-03-01T07:04:15.294Z"
   },
   {
    "duration": 88,
    "start_time": "2024-03-01T07:05:36.877Z"
   },
   {
    "duration": 30,
    "start_time": "2024-03-01T07:06:17.419Z"
   },
   {
    "duration": 19,
    "start_time": "2024-03-01T07:08:07.398Z"
   },
   {
    "duration": 19,
    "start_time": "2024-03-01T07:08:53.406Z"
   },
   {
    "duration": 21,
    "start_time": "2024-03-01T07:09:06.688Z"
   },
   {
    "duration": 346,
    "start_time": "2024-03-01T07:09:25.708Z"
   },
   {
    "duration": 130,
    "start_time": "2024-03-01T07:09:39.491Z"
   },
   {
    "duration": 215,
    "start_time": "2024-03-01T07:10:39.391Z"
   },
   {
    "duration": 352,
    "start_time": "2024-03-01T07:10:53.877Z"
   },
   {
    "duration": 369,
    "start_time": "2024-03-01T07:11:53.322Z"
   },
   {
    "duration": 514,
    "start_time": "2024-03-01T07:12:22.567Z"
   },
   {
    "duration": 435,
    "start_time": "2024-03-01T07:12:27.900Z"
   },
   {
    "duration": 504,
    "start_time": "2024-03-01T07:12:31.737Z"
   },
   {
    "duration": 523,
    "start_time": "2024-03-01T07:12:37.043Z"
   },
   {
    "duration": 429,
    "start_time": "2024-03-01T07:13:18.165Z"
   },
   {
    "duration": 451,
    "start_time": "2024-03-01T07:13:39.551Z"
   },
   {
    "duration": 2,
    "start_time": "2024-03-01T07:14:25.360Z"
   },
   {
    "duration": 142,
    "start_time": "2024-03-01T07:14:25.364Z"
   },
   {
    "duration": 14,
    "start_time": "2024-03-01T07:14:25.508Z"
   },
   {
    "duration": 50,
    "start_time": "2024-03-01T07:14:25.524Z"
   },
   {
    "duration": 52,
    "start_time": "2024-03-01T07:14:25.576Z"
   },
   {
    "duration": 86,
    "start_time": "2024-03-01T07:14:25.629Z"
   },
   {
    "duration": 53,
    "start_time": "2024-03-01T07:14:25.717Z"
   },
   {
    "duration": 46,
    "start_time": "2024-03-01T07:14:25.771Z"
   },
   {
    "duration": 51,
    "start_time": "2024-03-01T07:14:25.819Z"
   },
   {
    "duration": 36,
    "start_time": "2024-03-01T07:14:25.871Z"
   },
   {
    "duration": 37,
    "start_time": "2024-03-01T07:14:25.910Z"
   },
   {
    "duration": 43,
    "start_time": "2024-03-01T07:14:25.949Z"
   },
   {
    "duration": 76,
    "start_time": "2024-03-01T07:14:25.993Z"
   },
   {
    "duration": 53,
    "start_time": "2024-03-01T07:14:26.071Z"
   },
   {
    "duration": 43,
    "start_time": "2024-03-01T07:14:26.125Z"
   },
   {
    "duration": 20,
    "start_time": "2024-03-01T07:14:26.169Z"
   },
   {
    "duration": 48,
    "start_time": "2024-03-01T07:14:26.191Z"
   },
   {
    "duration": 71,
    "start_time": "2024-03-01T07:14:26.241Z"
   },
   {
    "duration": 84,
    "start_time": "2024-03-01T07:14:26.314Z"
   },
   {
    "duration": 496,
    "start_time": "2024-03-01T07:14:26.400Z"
   },
   {
    "duration": 17,
    "start_time": "2024-03-01T07:14:26.899Z"
   },
   {
    "duration": 2220,
    "start_time": "2024-03-01T07:14:26.918Z"
   },
   {
    "duration": 6,
    "start_time": "2024-03-01T07:14:29.139Z"
   },
   {
    "duration": 292,
    "start_time": "2024-03-01T07:14:29.147Z"
   },
   {
    "duration": 333,
    "start_time": "2024-03-01T07:14:29.441Z"
   },
   {
    "duration": 24,
    "start_time": "2024-03-01T07:14:29.775Z"
   },
   {
    "duration": 16,
    "start_time": "2024-03-01T07:14:29.801Z"
   },
   {
    "duration": 13,
    "start_time": "2024-03-01T07:14:29.820Z"
   },
   {
    "duration": 185,
    "start_time": "2024-03-01T07:14:29.834Z"
   },
   {
    "duration": 10,
    "start_time": "2024-03-01T07:14:30.021Z"
   },
   {
    "duration": 50,
    "start_time": "2024-03-01T07:14:30.033Z"
   },
   {
    "duration": 90,
    "start_time": "2024-03-01T07:14:30.085Z"
   },
   {
    "duration": 87,
    "start_time": "2024-03-01T07:14:30.177Z"
   },
   {
    "duration": 69,
    "start_time": "2024-03-01T07:14:30.266Z"
   },
   {
    "duration": 369,
    "start_time": "2024-03-01T07:14:30.337Z"
   },
   {
    "duration": 229,
    "start_time": "2024-03-01T07:14:30.708Z"
   },
   {
    "duration": 238,
    "start_time": "2024-03-01T07:14:30.939Z"
   },
   {
    "duration": 28,
    "start_time": "2024-03-01T07:14:31.179Z"
   },
   {
    "duration": 103,
    "start_time": "2024-03-01T07:14:31.209Z"
   },
   {
    "duration": 154,
    "start_time": "2024-03-01T07:14:31.313Z"
   },
   {
    "duration": 176,
    "start_time": "2024-03-01T07:14:31.469Z"
   },
   {
    "duration": 60,
    "start_time": "2024-03-01T07:14:31.647Z"
   },
   {
    "duration": 101,
    "start_time": "2024-03-01T07:14:31.709Z"
   },
   {
    "duration": 41,
    "start_time": "2024-03-01T07:14:31.811Z"
   },
   {
    "duration": 546,
    "start_time": "2024-03-01T07:14:56.378Z"
   },
   {
    "duration": 424,
    "start_time": "2024-03-01T07:15:11.308Z"
   },
   {
    "duration": 105,
    "start_time": "2024-03-01T07:16:34.438Z"
   },
   {
    "duration": 6,
    "start_time": "2024-03-01T07:18:29.114Z"
   },
   {
    "duration": 203,
    "start_time": "2024-03-01T07:18:51.684Z"
   },
   {
    "duration": 236,
    "start_time": "2024-03-01T07:18:57.603Z"
   },
   {
    "duration": 3,
    "start_time": "2024-03-01T07:19:04.155Z"
   },
   {
    "duration": 181,
    "start_time": "2024-03-01T07:19:04.161Z"
   },
   {
    "duration": 17,
    "start_time": "2024-03-01T07:19:04.345Z"
   },
   {
    "duration": 53,
    "start_time": "2024-03-01T07:19:04.363Z"
   },
   {
    "duration": 26,
    "start_time": "2024-03-01T07:19:04.419Z"
   },
   {
    "duration": 39,
    "start_time": "2024-03-01T07:19:04.447Z"
   },
   {
    "duration": 37,
    "start_time": "2024-03-01T07:19:04.488Z"
   },
   {
    "duration": 35,
    "start_time": "2024-03-01T07:19:04.527Z"
   },
   {
    "duration": 59,
    "start_time": "2024-03-01T07:19:04.563Z"
   },
   {
    "duration": 42,
    "start_time": "2024-03-01T07:19:04.623Z"
   },
   {
    "duration": 84,
    "start_time": "2024-03-01T07:19:04.667Z"
   },
   {
    "duration": 50,
    "start_time": "2024-03-01T07:19:04.753Z"
   },
   {
    "duration": 43,
    "start_time": "2024-03-01T07:19:04.805Z"
   },
   {
    "duration": 32,
    "start_time": "2024-03-01T07:19:04.849Z"
   },
   {
    "duration": 41,
    "start_time": "2024-03-01T07:19:04.882Z"
   },
   {
    "duration": 40,
    "start_time": "2024-03-01T07:19:04.925Z"
   },
   {
    "duration": 36,
    "start_time": "2024-03-01T07:19:04.966Z"
   },
   {
    "duration": 33,
    "start_time": "2024-03-01T07:19:05.003Z"
   },
   {
    "duration": 40,
    "start_time": "2024-03-01T07:19:05.037Z"
   },
   {
    "duration": 429,
    "start_time": "2024-03-01T07:19:05.079Z"
   },
   {
    "duration": 20,
    "start_time": "2024-03-01T07:19:05.510Z"
   },
   {
    "duration": 2033,
    "start_time": "2024-03-01T07:19:05.531Z"
   },
   {
    "duration": 6,
    "start_time": "2024-03-01T07:19:07.565Z"
   },
   {
    "duration": 264,
    "start_time": "2024-03-01T07:19:07.573Z"
   },
   {
    "duration": 244,
    "start_time": "2024-03-01T07:19:07.838Z"
   },
   {
    "duration": 19,
    "start_time": "2024-03-01T07:19:08.084Z"
   },
   {
    "duration": 33,
    "start_time": "2024-03-01T07:19:08.104Z"
   },
   {
    "duration": 28,
    "start_time": "2024-03-01T07:19:08.139Z"
   },
   {
    "duration": 140,
    "start_time": "2024-03-01T07:19:08.171Z"
   },
   {
    "duration": 10,
    "start_time": "2024-03-01T07:19:08.312Z"
   },
   {
    "duration": 54,
    "start_time": "2024-03-01T07:19:08.323Z"
   },
   {
    "duration": 114,
    "start_time": "2024-03-01T07:19:08.379Z"
   },
   {
    "duration": 29,
    "start_time": "2024-03-01T07:19:08.495Z"
   },
   {
    "duration": 23,
    "start_time": "2024-03-01T07:19:08.527Z"
   },
   {
    "duration": 195,
    "start_time": "2024-03-01T07:19:08.552Z"
   },
   {
    "duration": 214,
    "start_time": "2024-03-01T07:19:08.749Z"
   },
   {
    "duration": 235,
    "start_time": "2024-03-01T07:19:08.965Z"
   },
   {
    "duration": 15,
    "start_time": "2024-03-01T07:19:09.202Z"
   },
   {
    "duration": 37,
    "start_time": "2024-03-01T07:19:09.219Z"
   },
   {
    "duration": 18,
    "start_time": "2024-03-01T07:19:09.258Z"
   },
   {
    "duration": 18,
    "start_time": "2024-03-01T07:19:09.278Z"
   },
   {
    "duration": 24,
    "start_time": "2024-03-01T07:19:09.297Z"
   },
   {
    "duration": 9,
    "start_time": "2024-03-01T07:19:09.322Z"
   },
   {
    "duration": 29,
    "start_time": "2024-03-01T07:19:09.332Z"
   },
   {
    "duration": 279,
    "start_time": "2024-03-01T07:19:24.852Z"
   },
   {
    "duration": 27,
    "start_time": "2024-03-01T07:22:29.184Z"
   },
   {
    "duration": 31,
    "start_time": "2024-03-01T07:23:27.425Z"
   },
   {
    "duration": 19,
    "start_time": "2024-03-01T07:23:53.823Z"
   },
   {
    "duration": 28,
    "start_time": "2024-03-01T07:25:00.476Z"
   },
   {
    "duration": 272,
    "start_time": "2024-03-01T07:26:08.870Z"
   },
   {
    "duration": 279,
    "start_time": "2024-03-01T07:28:15.837Z"
   },
   {
    "duration": 357,
    "start_time": "2024-03-01T07:28:33.389Z"
   },
   {
    "duration": 466,
    "start_time": "2024-03-01T07:28:46.335Z"
   },
   {
    "duration": 304,
    "start_time": "2024-03-01T07:28:55.477Z"
   },
   {
    "duration": 376,
    "start_time": "2024-03-01T07:28:59.342Z"
   },
   {
    "duration": 310,
    "start_time": "2024-03-01T07:29:03.285Z"
   },
   {
    "duration": 314,
    "start_time": "2024-03-01T07:29:11.598Z"
   },
   {
    "duration": 303,
    "start_time": "2024-03-01T07:33:57.667Z"
   },
   {
    "duration": 295,
    "start_time": "2024-03-01T07:34:04.716Z"
   },
   {
    "duration": 313,
    "start_time": "2024-03-01T07:34:20.476Z"
   },
   {
    "duration": 255,
    "start_time": "2024-03-01T07:36:08.400Z"
   },
   {
    "duration": 430,
    "start_time": "2024-03-01T07:36:15.061Z"
   },
   {
    "duration": 106,
    "start_time": "2024-03-01T08:16:23.536Z"
   },
   {
    "duration": 301,
    "start_time": "2024-03-01T08:17:09.395Z"
   },
   {
    "duration": 281,
    "start_time": "2024-03-01T08:17:23.158Z"
   },
   {
    "duration": 276,
    "start_time": "2024-03-01T08:17:43.322Z"
   },
   {
    "duration": 294,
    "start_time": "2024-03-01T08:19:25.447Z"
   },
   {
    "duration": 287,
    "start_time": "2024-03-01T08:19:41.984Z"
   },
   {
    "duration": 283,
    "start_time": "2024-03-01T08:19:46.784Z"
   },
   {
    "duration": 12,
    "start_time": "2024-03-01T08:20:29.153Z"
   },
   {
    "duration": 11,
    "start_time": "2024-03-01T08:20:30.189Z"
   },
   {
    "duration": 10,
    "start_time": "2024-03-01T08:20:35.193Z"
   },
   {
    "duration": 149,
    "start_time": "2024-03-01T08:20:53.941Z"
   },
   {
    "duration": 323,
    "start_time": "2024-03-01T08:21:20.932Z"
   },
   {
    "duration": 175,
    "start_time": "2024-03-01T08:21:26.623Z"
   },
   {
    "duration": 117,
    "start_time": "2024-03-01T08:21:53.822Z"
   },
   {
    "duration": 1769,
    "start_time": "2024-03-01T08:22:40.506Z"
   },
   {
    "duration": 157,
    "start_time": "2024-03-01T08:22:51.458Z"
   },
   {
    "duration": 157,
    "start_time": "2024-03-01T08:23:06.604Z"
   },
   {
    "duration": 155,
    "start_time": "2024-03-01T08:23:35.331Z"
   },
   {
    "duration": 151,
    "start_time": "2024-03-01T08:23:55.531Z"
   },
   {
    "duration": 162,
    "start_time": "2024-03-01T08:24:09.034Z"
   },
   {
    "duration": 151,
    "start_time": "2024-03-01T08:24:20.338Z"
   },
   {
    "duration": 275,
    "start_time": "2024-03-01T08:24:51.684Z"
   },
   {
    "duration": 15,
    "start_time": "2024-03-01T08:26:40.775Z"
   },
   {
    "duration": 9,
    "start_time": "2024-03-01T08:27:06.766Z"
   },
   {
    "duration": 103,
    "start_time": "2024-03-01T08:28:20.874Z"
   },
   {
    "duration": 3,
    "start_time": "2024-03-01T08:28:26.977Z"
   },
   {
    "duration": 416,
    "start_time": "2024-03-01T08:28:37.736Z"
   },
   {
    "duration": 350,
    "start_time": "2024-03-01T08:28:43.694Z"
   },
   {
    "duration": 185,
    "start_time": "2024-03-01T08:29:17.373Z"
   },
   {
    "duration": 187,
    "start_time": "2024-03-01T08:29:47.709Z"
   },
   {
    "duration": 222,
    "start_time": "2024-03-01T08:30:38.077Z"
   },
   {
    "duration": 224,
    "start_time": "2024-03-01T08:30:44.723Z"
   },
   {
    "duration": 335,
    "start_time": "2024-03-01T08:30:51.671Z"
   },
   {
    "duration": 479,
    "start_time": "2024-03-01T08:31:10.643Z"
   },
   {
    "duration": 407,
    "start_time": "2024-03-01T08:31:38.742Z"
   },
   {
    "duration": 403,
    "start_time": "2024-03-01T08:31:52.809Z"
   },
   {
    "duration": 232,
    "start_time": "2024-03-01T08:34:15.781Z"
   },
   {
    "duration": 439,
    "start_time": "2024-03-01T08:34:25.511Z"
   },
   {
    "duration": 98,
    "start_time": "2024-03-01T08:36:02.130Z"
   },
   {
    "duration": 186,
    "start_time": "2024-03-01T08:36:08.291Z"
   },
   {
    "duration": 181,
    "start_time": "2024-03-01T08:36:39.224Z"
   },
   {
    "duration": 219,
    "start_time": "2024-03-01T08:36:47.860Z"
   },
   {
    "duration": 395,
    "start_time": "2024-03-01T08:36:52.770Z"
   },
   {
    "duration": 207,
    "start_time": "2024-03-01T08:37:20.270Z"
   },
   {
    "duration": 256,
    "start_time": "2024-03-01T08:37:38.897Z"
   },
   {
    "duration": 664,
    "start_time": "2024-03-01T08:37:58.497Z"
   },
   {
    "duration": 385,
    "start_time": "2024-03-01T08:38:06.395Z"
   },
   {
    "duration": 425,
    "start_time": "2024-03-01T08:38:21.209Z"
   },
   {
    "duration": 388,
    "start_time": "2024-03-01T08:38:29.786Z"
   },
   {
    "duration": 10,
    "start_time": "2024-03-01T08:39:16.691Z"
   },
   {
    "duration": 429,
    "start_time": "2024-03-01T08:43:06.712Z"
   },
   {
    "duration": 398,
    "start_time": "2024-03-01T08:43:29.163Z"
   },
   {
    "duration": 428,
    "start_time": "2024-03-01T08:43:38.412Z"
   },
   {
    "duration": 443,
    "start_time": "2024-03-01T08:44:04.508Z"
   },
   {
    "duration": 407,
    "start_time": "2024-03-01T08:44:11.953Z"
   },
   {
    "duration": 473,
    "start_time": "2024-03-01T08:44:14.861Z"
   },
   {
    "duration": 483,
    "start_time": "2024-03-01T08:44:29.820Z"
   },
   {
    "duration": 459,
    "start_time": "2024-03-01T08:44:39.420Z"
   },
   {
    "duration": 576,
    "start_time": "2024-03-01T08:44:48.936Z"
   },
   {
    "duration": 13,
    "start_time": "2024-03-01T08:45:56.187Z"
   },
   {
    "duration": 419,
    "start_time": "2024-03-01T08:46:49.435Z"
   },
   {
    "duration": 425,
    "start_time": "2024-03-01T08:47:04.157Z"
   },
   {
    "duration": 382,
    "start_time": "2024-03-01T08:47:33.147Z"
   },
   {
    "duration": 437,
    "start_time": "2024-03-01T08:47:59.214Z"
   },
   {
    "duration": 115,
    "start_time": "2024-03-01T08:48:38.547Z"
   },
   {
    "duration": 26,
    "start_time": "2024-03-01T08:51:04.976Z"
   },
   {
    "duration": 4,
    "start_time": "2024-03-01T08:52:02.417Z"
   },
   {
    "duration": 4,
    "start_time": "2024-03-01T08:52:09.544Z"
   },
   {
    "duration": 4,
    "start_time": "2024-03-01T08:52:39.711Z"
   },
   {
    "duration": 5,
    "start_time": "2024-03-01T08:52:48.381Z"
   },
   {
    "duration": 16,
    "start_time": "2024-03-01T08:53:18.233Z"
   },
   {
    "duration": 4,
    "start_time": "2024-03-01T08:53:32.217Z"
   },
   {
    "duration": 21,
    "start_time": "2024-03-01T08:53:43.338Z"
   },
   {
    "duration": 4,
    "start_time": "2024-03-01T08:54:04.014Z"
   },
   {
    "duration": 12,
    "start_time": "2024-03-01T08:54:12.400Z"
   },
   {
    "duration": 132,
    "start_time": "2024-03-01T08:54:22.201Z"
   },
   {
    "duration": 4,
    "start_time": "2024-03-01T08:54:26.004Z"
   },
   {
    "duration": 20,
    "start_time": "2024-03-01T09:08:46.975Z"
   },
   {
    "duration": 18,
    "start_time": "2024-03-01T09:08:51.546Z"
   },
   {
    "duration": 7,
    "start_time": "2024-03-01T09:09:13.620Z"
   },
   {
    "duration": 4,
    "start_time": "2024-03-01T09:09:18.964Z"
   },
   {
    "duration": 5,
    "start_time": "2024-03-01T09:09:23.906Z"
   },
   {
    "duration": 19,
    "start_time": "2024-03-01T09:36:20.306Z"
   },
   {
    "duration": 10,
    "start_time": "2024-03-01T09:36:31.288Z"
   },
   {
    "duration": 14,
    "start_time": "2024-03-01T09:36:38.797Z"
   },
   {
    "duration": 142,
    "start_time": "2024-03-01T09:38:04.499Z"
   },
   {
    "duration": 14,
    "start_time": "2024-03-01T09:38:10.473Z"
   },
   {
    "duration": 171,
    "start_time": "2024-03-01T09:39:02.941Z"
   },
   {
    "duration": 241,
    "start_time": "2024-03-01T09:39:55.686Z"
   },
   {
    "duration": 195,
    "start_time": "2024-03-01T09:40:00.222Z"
   },
   {
    "duration": 209,
    "start_time": "2024-03-01T09:40:08.974Z"
   },
   {
    "duration": 17,
    "start_time": "2024-03-01T09:42:07.839Z"
   },
   {
    "duration": 17,
    "start_time": "2024-03-01T09:42:16.449Z"
   },
   {
    "duration": 214,
    "start_time": "2024-03-01T09:42:20.866Z"
   },
   {
    "duration": 198,
    "start_time": "2024-03-01T09:42:27.769Z"
   },
   {
    "duration": 196,
    "start_time": "2024-03-01T09:42:33.447Z"
   },
   {
    "duration": 605,
    "start_time": "2024-03-01T09:42:54.413Z"
   },
   {
    "duration": 188,
    "start_time": "2024-03-01T09:57:51.831Z"
   },
   {
    "duration": 184,
    "start_time": "2024-03-01T09:58:20.345Z"
   },
   {
    "duration": 183,
    "start_time": "2024-03-01T09:58:54.427Z"
   },
   {
    "duration": 112,
    "start_time": "2024-03-01T09:59:50.361Z"
   },
   {
    "duration": 157,
    "start_time": "2024-03-01T10:19:21.914Z"
   },
   {
    "duration": 155,
    "start_time": "2024-03-01T10:19:47.850Z"
   },
   {
    "duration": 147,
    "start_time": "2024-03-01T10:19:50.060Z"
   },
   {
    "duration": 15,
    "start_time": "2024-03-01T10:29:26.211Z"
   },
   {
    "duration": 24,
    "start_time": "2024-03-01T10:29:56.965Z"
   },
   {
    "duration": 21,
    "start_time": "2024-03-01T10:30:01.071Z"
   },
   {
    "duration": 18,
    "start_time": "2024-03-01T10:30:12.231Z"
   },
   {
    "duration": 14,
    "start_time": "2024-03-01T10:30:23.491Z"
   },
   {
    "duration": 25,
    "start_time": "2024-03-01T10:30:26.512Z"
   },
   {
    "duration": 26,
    "start_time": "2024-03-01T10:31:04.137Z"
   },
   {
    "duration": 14,
    "start_time": "2024-03-01T10:31:44.838Z"
   },
   {
    "duration": 172,
    "start_time": "2024-03-01T10:32:05.350Z"
   },
   {
    "duration": 15,
    "start_time": "2024-03-01T10:32:32.509Z"
   },
   {
    "duration": 124,
    "start_time": "2024-03-01T10:33:31.188Z"
   },
   {
    "duration": 22,
    "start_time": "2024-03-01T10:33:36.266Z"
   },
   {
    "duration": 109,
    "start_time": "2024-03-01T10:33:48.002Z"
   },
   {
    "duration": 282,
    "start_time": "2024-03-01T10:34:19.256Z"
   },
   {
    "duration": 149,
    "start_time": "2024-03-01T10:34:27.812Z"
   },
   {
    "duration": 161,
    "start_time": "2024-03-01T10:34:34.365Z"
   },
   {
    "duration": 163,
    "start_time": "2024-03-01T10:34:47.018Z"
   },
   {
    "duration": 306,
    "start_time": "2024-03-01T10:35:00.420Z"
   },
   {
    "duration": 166,
    "start_time": "2024-03-01T10:35:21.537Z"
   },
   {
    "duration": 9,
    "start_time": "2024-03-01T10:35:40.104Z"
   },
   {
    "duration": 168,
    "start_time": "2024-03-01T10:35:49.149Z"
   },
   {
    "duration": 198,
    "start_time": "2024-03-01T10:36:05.654Z"
   },
   {
    "duration": 174,
    "start_time": "2024-03-01T10:36:10.323Z"
   },
   {
    "duration": 16,
    "start_time": "2024-03-01T10:36:39.482Z"
   },
   {
    "duration": 170,
    "start_time": "2024-03-01T10:36:42.533Z"
   },
   {
    "duration": 195,
    "start_time": "2024-03-01T10:36:45.876Z"
   },
   {
    "duration": 100,
    "start_time": "2024-03-01T10:37:09.393Z"
   },
   {
    "duration": 98,
    "start_time": "2024-03-01T10:50:34.403Z"
   },
   {
    "duration": 96,
    "start_time": "2024-03-01T10:57:06.591Z"
   },
   {
    "duration": 146,
    "start_time": "2024-03-01T10:59:32.451Z"
   },
   {
    "duration": 1540,
    "start_time": "2024-03-02T05:22:33.137Z"
   },
   {
    "duration": 240,
    "start_time": "2024-03-02T05:22:34.681Z"
   },
   {
    "duration": 22,
    "start_time": "2024-03-02T05:22:34.922Z"
   },
   {
    "duration": 23,
    "start_time": "2024-03-02T05:22:34.946Z"
   },
   {
    "duration": 14,
    "start_time": "2024-03-02T05:22:34.972Z"
   },
   {
    "duration": 13,
    "start_time": "2024-03-02T05:22:34.988Z"
   },
   {
    "duration": 22,
    "start_time": "2024-03-02T05:22:35.003Z"
   },
   {
    "duration": 5,
    "start_time": "2024-03-02T05:22:35.026Z"
   },
   {
    "duration": 10,
    "start_time": "2024-03-02T05:22:35.033Z"
   },
   {
    "duration": 9,
    "start_time": "2024-03-02T05:22:35.045Z"
   },
   {
    "duration": 36,
    "start_time": "2024-03-02T05:22:35.056Z"
   },
   {
    "duration": 16,
    "start_time": "2024-03-02T05:22:35.094Z"
   },
   {
    "duration": 23,
    "start_time": "2024-03-02T05:22:35.112Z"
   },
   {
    "duration": 9,
    "start_time": "2024-03-02T05:22:35.138Z"
   },
   {
    "duration": 41,
    "start_time": "2024-03-02T05:22:35.149Z"
   },
   {
    "duration": 14,
    "start_time": "2024-03-02T05:22:35.192Z"
   },
   {
    "duration": 11,
    "start_time": "2024-03-02T05:22:35.207Z"
   },
   {
    "duration": 19,
    "start_time": "2024-03-02T05:22:35.221Z"
   },
   {
    "duration": 20,
    "start_time": "2024-03-02T05:22:35.242Z"
   },
   {
    "duration": 542,
    "start_time": "2024-03-02T05:22:35.263Z"
   },
   {
    "duration": 16,
    "start_time": "2024-03-02T05:22:35.806Z"
   },
   {
    "duration": 2329,
    "start_time": "2024-03-02T05:22:35.824Z"
   },
   {
    "duration": 7,
    "start_time": "2024-03-02T05:22:38.155Z"
   },
   {
    "duration": 471,
    "start_time": "2024-03-02T05:22:38.163Z"
   },
   {
    "duration": 387,
    "start_time": "2024-03-02T05:22:38.636Z"
   },
   {
    "duration": 13,
    "start_time": "2024-03-02T05:22:39.025Z"
   },
   {
    "duration": 33,
    "start_time": "2024-03-02T05:22:39.040Z"
   },
   {
    "duration": 23,
    "start_time": "2024-03-02T05:22:39.075Z"
   },
   {
    "duration": 503,
    "start_time": "2024-03-02T05:22:39.099Z"
   },
   {
    "duration": 10,
    "start_time": "2024-03-02T05:22:39.604Z"
   },
   {
    "duration": 457,
    "start_time": "2024-03-02T05:22:39.616Z"
   },
   {
    "duration": 21,
    "start_time": "2024-03-02T05:22:40.074Z"
   },
   {
    "duration": 454,
    "start_time": "2024-03-02T05:22:40.097Z"
   },
   {
    "duration": 12,
    "start_time": "2024-03-02T05:22:40.553Z"
   },
   {
    "duration": 463,
    "start_time": "2024-03-02T05:22:40.567Z"
   },
   {
    "duration": 15,
    "start_time": "2024-03-02T05:22:41.031Z"
   },
   {
    "duration": 244,
    "start_time": "2024-03-02T05:22:41.048Z"
   },
   {
    "duration": 210,
    "start_time": "2024-03-02T05:22:41.295Z"
   },
   {
    "duration": 249,
    "start_time": "2024-03-02T05:22:41.507Z"
   },
   {
    "duration": 364,
    "start_time": "2024-03-02T05:22:41.758Z"
   },
   {
    "duration": 22,
    "start_time": "2024-03-02T05:22:42.127Z"
   },
   {
    "duration": 220,
    "start_time": "2024-03-02T05:22:42.152Z"
   },
   {
    "duration": 13,
    "start_time": "2024-03-02T05:22:42.374Z"
   },
   {
    "duration": 6,
    "start_time": "2024-03-02T05:22:42.389Z"
   },
   {
    "duration": 9,
    "start_time": "2024-03-02T05:22:42.397Z"
   },
   {
    "duration": 8,
    "start_time": "2024-03-02T05:22:42.408Z"
   },
   {
    "duration": 16,
    "start_time": "2024-03-02T05:22:42.417Z"
   },
   {
    "duration": 13,
    "start_time": "2024-03-02T05:22:42.435Z"
   },
   {
    "duration": 1266,
    "start_time": "2024-03-02T06:43:06.893Z"
   },
   {
    "duration": 118,
    "start_time": "2024-03-02T06:43:08.162Z"
   },
   {
    "duration": 19,
    "start_time": "2024-03-02T06:43:08.282Z"
   },
   {
    "duration": 17,
    "start_time": "2024-03-02T06:43:08.304Z"
   },
   {
    "duration": 3,
    "start_time": "2024-03-02T06:43:08.323Z"
   },
   {
    "duration": 6,
    "start_time": "2024-03-02T06:43:08.328Z"
   },
   {
    "duration": 10,
    "start_time": "2024-03-02T06:43:08.336Z"
   },
   {
    "duration": 11,
    "start_time": "2024-03-02T06:43:08.348Z"
   },
   {
    "duration": 31,
    "start_time": "2024-03-02T06:43:08.361Z"
   },
   {
    "duration": 8,
    "start_time": "2024-03-02T06:43:08.395Z"
   },
   {
    "duration": 17,
    "start_time": "2024-03-02T06:43:08.405Z"
   },
   {
    "duration": 16,
    "start_time": "2024-03-02T06:43:08.424Z"
   },
   {
    "duration": 35,
    "start_time": "2024-03-02T06:43:08.442Z"
   },
   {
    "duration": 35,
    "start_time": "2024-03-02T06:43:08.479Z"
   },
   {
    "duration": 71,
    "start_time": "2024-03-02T06:43:08.515Z"
   },
   {
    "duration": 25,
    "start_time": "2024-03-02T06:43:08.587Z"
   },
   {
    "duration": 18,
    "start_time": "2024-03-02T06:43:08.614Z"
   },
   {
    "duration": 7,
    "start_time": "2024-03-02T06:43:08.634Z"
   },
   {
    "duration": 19,
    "start_time": "2024-03-02T06:43:08.644Z"
   },
   {
    "duration": 457,
    "start_time": "2024-03-02T06:43:08.665Z"
   },
   {
    "duration": 16,
    "start_time": "2024-03-02T06:43:09.123Z"
   },
   {
    "duration": 2142,
    "start_time": "2024-03-02T06:43:09.141Z"
   },
   {
    "duration": 7,
    "start_time": "2024-03-02T06:43:11.285Z"
   },
   {
    "duration": 463,
    "start_time": "2024-03-02T06:43:11.294Z"
   },
   {
    "duration": 303,
    "start_time": "2024-03-02T06:43:11.760Z"
   },
   {
    "duration": 20,
    "start_time": "2024-03-02T06:43:12.065Z"
   },
   {
    "duration": 48,
    "start_time": "2024-03-02T06:43:12.087Z"
   },
   {
    "duration": 58,
    "start_time": "2024-03-02T06:43:12.139Z"
   },
   {
    "duration": 463,
    "start_time": "2024-03-02T06:43:12.199Z"
   },
   {
    "duration": 18,
    "start_time": "2024-03-02T06:43:12.664Z"
   },
   {
    "duration": 455,
    "start_time": "2024-03-02T06:43:12.683Z"
   },
   {
    "duration": 12,
    "start_time": "2024-03-02T06:43:13.140Z"
   },
   {
    "duration": 393,
    "start_time": "2024-03-02T06:43:13.153Z"
   },
   {
    "duration": 13,
    "start_time": "2024-03-02T06:43:13.549Z"
   },
   {
    "duration": 462,
    "start_time": "2024-03-02T06:43:13.564Z"
   },
   {
    "duration": 13,
    "start_time": "2024-03-02T06:43:14.028Z"
   },
   {
    "duration": 214,
    "start_time": "2024-03-02T06:43:14.043Z"
   },
   {
    "duration": 196,
    "start_time": "2024-03-02T06:43:14.258Z"
   },
   {
    "duration": 231,
    "start_time": "2024-03-02T06:43:14.455Z"
   },
   {
    "duration": 195,
    "start_time": "2024-03-02T06:43:14.687Z"
   },
   {
    "duration": 17,
    "start_time": "2024-03-02T06:43:14.884Z"
   },
   {
    "duration": 325,
    "start_time": "2024-03-02T06:43:14.903Z"
   },
   {
    "duration": 7,
    "start_time": "2024-03-02T06:43:15.230Z"
   },
   {
    "duration": 46,
    "start_time": "2024-03-02T06:43:15.239Z"
   },
   {
    "duration": 39,
    "start_time": "2024-03-02T06:43:15.287Z"
   },
   {
    "duration": 73,
    "start_time": "2024-03-02T06:43:15.328Z"
   },
   {
    "duration": 42,
    "start_time": "2024-03-02T06:43:15.403Z"
   },
   {
    "duration": 13,
    "start_time": "2024-03-02T06:43:15.447Z"
   },
   {
    "duration": 48,
    "start_time": "2024-03-02T08:09:16.774Z"
   },
   {
    "duration": 1367,
    "start_time": "2024-03-02T08:09:21.726Z"
   },
   {
    "duration": 234,
    "start_time": "2024-03-02T08:09:23.096Z"
   },
   {
    "duration": 17,
    "start_time": "2024-03-02T08:09:23.331Z"
   },
   {
    "duration": 13,
    "start_time": "2024-03-02T08:09:23.350Z"
   },
   {
    "duration": 12,
    "start_time": "2024-03-02T08:09:23.365Z"
   },
   {
    "duration": 20,
    "start_time": "2024-03-02T08:09:23.378Z"
   },
   {
    "duration": 15,
    "start_time": "2024-03-02T08:09:23.399Z"
   },
   {
    "duration": 5,
    "start_time": "2024-03-02T08:09:23.415Z"
   },
   {
    "duration": 9,
    "start_time": "2024-03-02T08:09:23.421Z"
   },
   {
    "duration": 23,
    "start_time": "2024-03-02T08:09:23.432Z"
   },
   {
    "duration": 8,
    "start_time": "2024-03-02T08:09:23.456Z"
   },
   {
    "duration": 13,
    "start_time": "2024-03-02T08:09:23.466Z"
   },
   {
    "duration": 18,
    "start_time": "2024-03-02T08:09:23.481Z"
   },
   {
    "duration": 9,
    "start_time": "2024-03-02T08:09:23.500Z"
   },
   {
    "duration": 15,
    "start_time": "2024-03-02T08:09:23.510Z"
   },
   {
    "duration": 13,
    "start_time": "2024-03-02T08:09:23.526Z"
   },
   {
    "duration": 12,
    "start_time": "2024-03-02T08:09:23.540Z"
   },
   {
    "duration": 8,
    "start_time": "2024-03-02T08:09:23.554Z"
   },
   {
    "duration": 27,
    "start_time": "2024-03-02T08:09:23.563Z"
   },
   {
    "duration": 425,
    "start_time": "2024-03-02T08:09:23.591Z"
   },
   {
    "duration": 13,
    "start_time": "2024-03-02T08:09:24.018Z"
   },
   {
    "duration": 1906,
    "start_time": "2024-03-02T08:09:24.033Z"
   },
   {
    "duration": 6,
    "start_time": "2024-03-02T08:09:25.940Z"
   },
   {
    "duration": 420,
    "start_time": "2024-03-02T08:09:25.948Z"
   },
   {
    "duration": 262,
    "start_time": "2024-03-02T08:09:26.369Z"
   },
   {
    "duration": 10,
    "start_time": "2024-03-02T08:09:26.632Z"
   },
   {
    "duration": 9,
    "start_time": "2024-03-02T08:09:26.643Z"
   },
   {
    "duration": 8,
    "start_time": "2024-03-02T08:09:26.655Z"
   },
   {
    "duration": 453,
    "start_time": "2024-03-02T08:09:26.664Z"
   },
   {
    "duration": 9,
    "start_time": "2024-03-02T08:09:27.118Z"
   },
   {
    "duration": 421,
    "start_time": "2024-03-02T08:09:27.129Z"
   },
   {
    "duration": 11,
    "start_time": "2024-03-02T08:09:27.552Z"
   },
   {
    "duration": 350,
    "start_time": "2024-03-02T08:09:27.565Z"
   },
   {
    "duration": 11,
    "start_time": "2024-03-02T08:09:27.916Z"
   },
   {
    "duration": 409,
    "start_time": "2024-03-02T08:09:27.929Z"
   },
   {
    "duration": 11,
    "start_time": "2024-03-02T08:09:28.339Z"
   },
   {
    "duration": 200,
    "start_time": "2024-03-02T08:09:28.351Z"
   },
   {
    "duration": 172,
    "start_time": "2024-03-02T08:09:28.552Z"
   },
   {
    "duration": 188,
    "start_time": "2024-03-02T08:09:28.725Z"
   },
   {
    "duration": 164,
    "start_time": "2024-03-02T08:09:28.915Z"
   },
   {
    "duration": 18,
    "start_time": "2024-03-02T08:09:29.081Z"
   },
   {
    "duration": 305,
    "start_time": "2024-03-02T08:09:29.101Z"
   },
   {
    "duration": 7,
    "start_time": "2024-03-02T08:09:29.408Z"
   },
   {
    "duration": 5,
    "start_time": "2024-03-02T08:09:29.417Z"
   },
   {
    "duration": 16,
    "start_time": "2024-03-02T08:09:29.423Z"
   },
   {
    "duration": 16,
    "start_time": "2024-03-02T08:09:29.441Z"
   },
   {
    "duration": 24,
    "start_time": "2024-03-02T08:09:29.459Z"
   },
   {
    "duration": 16,
    "start_time": "2024-03-02T08:09:29.485Z"
   },
   {
    "duration": 148,
    "start_time": "2024-03-02T08:10:10.422Z"
   },
   {
    "duration": 155,
    "start_time": "2024-03-02T08:10:36.357Z"
   },
   {
    "duration": 138,
    "start_time": "2024-03-02T08:10:54.658Z"
   },
   {
    "duration": 140,
    "start_time": "2024-03-02T08:11:01.320Z"
   },
   {
    "duration": 142,
    "start_time": "2024-03-02T08:11:10.819Z"
   },
   {
    "duration": 426,
    "start_time": "2024-03-02T08:13:22.314Z"
   },
   {
    "duration": 425,
    "start_time": "2024-03-02T08:14:17.736Z"
   },
   {
    "duration": 428,
    "start_time": "2024-03-02T08:16:37.455Z"
   },
   {
    "duration": 9,
    "start_time": "2024-03-02T08:16:52.442Z"
   },
   {
    "duration": 442,
    "start_time": "2024-03-02T08:16:54.714Z"
   },
   {
    "duration": 11,
    "start_time": "2024-03-02T08:16:56.284Z"
   },
   {
    "duration": 396,
    "start_time": "2024-03-02T08:16:56.734Z"
   },
   {
    "duration": 12,
    "start_time": "2024-03-02T08:16:58.173Z"
   },
   {
    "duration": 505,
    "start_time": "2024-03-02T08:16:58.909Z"
   },
   {
    "duration": 12,
    "start_time": "2024-03-02T08:17:00.209Z"
   },
   {
    "duration": 140,
    "start_time": "2024-03-02T08:21:41.505Z"
   },
   {
    "duration": 13,
    "start_time": "2024-03-02T08:31:51.723Z"
   },
   {
    "duration": 12,
    "start_time": "2024-03-02T08:32:12.848Z"
   },
   {
    "duration": 71,
    "start_time": "2024-03-02T08:33:20.080Z"
   },
   {
    "duration": 13,
    "start_time": "2024-03-02T08:33:23.640Z"
   },
   {
    "duration": 12,
    "start_time": "2024-03-02T08:33:35.534Z"
   },
   {
    "duration": 146,
    "start_time": "2024-03-02T08:33:45.513Z"
   },
   {
    "duration": 169,
    "start_time": "2024-03-02T08:38:29.183Z"
   },
   {
    "duration": 13,
    "start_time": "2024-03-02T08:42:25.194Z"
   },
   {
    "duration": 101,
    "start_time": "2024-03-02T08:48:28.397Z"
   },
   {
    "duration": 105,
    "start_time": "2024-03-02T08:49:31.587Z"
   },
   {
    "duration": 137,
    "start_time": "2024-03-02T08:59:09.328Z"
   },
   {
    "duration": 158,
    "start_time": "2024-03-02T08:59:36.082Z"
   },
   {
    "duration": 153,
    "start_time": "2024-03-02T09:00:15.913Z"
   },
   {
    "duration": 153,
    "start_time": "2024-03-02T09:00:27.252Z"
   },
   {
    "duration": 152,
    "start_time": "2024-03-02T09:01:03.650Z"
   },
   {
    "duration": 148,
    "start_time": "2024-03-02T09:01:06.940Z"
   },
   {
    "duration": 150,
    "start_time": "2024-03-02T09:01:48.251Z"
   },
   {
    "duration": 229,
    "start_time": "2024-03-02T09:01:56.136Z"
   },
   {
    "duration": 151,
    "start_time": "2024-03-02T09:02:27.289Z"
   },
   {
    "duration": 166,
    "start_time": "2024-03-02T09:02:42.500Z"
   },
   {
    "duration": 158,
    "start_time": "2024-03-02T09:02:58.033Z"
   },
   {
    "duration": 160,
    "start_time": "2024-03-02T09:03:04.139Z"
   },
   {
    "duration": 161,
    "start_time": "2024-03-02T09:03:18.702Z"
   },
   {
    "duration": 144,
    "start_time": "2024-03-02T09:03:27.700Z"
   },
   {
    "duration": 1115,
    "start_time": "2024-03-02T20:27:37.339Z"
   },
   {
    "duration": 233,
    "start_time": "2024-03-02T20:27:38.456Z"
   },
   {
    "duration": 18,
    "start_time": "2024-03-02T20:27:38.691Z"
   },
   {
    "duration": 25,
    "start_time": "2024-03-02T20:27:38.712Z"
   },
   {
    "duration": 32,
    "start_time": "2024-03-02T20:27:38.739Z"
   },
   {
    "duration": 32,
    "start_time": "2024-03-02T20:27:38.773Z"
   },
   {
    "duration": 19,
    "start_time": "2024-03-02T20:27:38.807Z"
   },
   {
    "duration": 5,
    "start_time": "2024-03-02T20:27:38.828Z"
   },
   {
    "duration": 22,
    "start_time": "2024-03-02T20:27:38.835Z"
   },
   {
    "duration": 13,
    "start_time": "2024-03-02T20:27:38.860Z"
   },
   {
    "duration": 23,
    "start_time": "2024-03-02T20:27:38.874Z"
   },
   {
    "duration": 13,
    "start_time": "2024-03-02T20:27:38.898Z"
   },
   {
    "duration": 24,
    "start_time": "2024-03-02T20:27:38.913Z"
   },
   {
    "duration": 8,
    "start_time": "2024-03-02T20:27:38.939Z"
   },
   {
    "duration": 25,
    "start_time": "2024-03-02T20:27:38.948Z"
   },
   {
    "duration": 10,
    "start_time": "2024-03-02T20:27:38.975Z"
   },
   {
    "duration": 10,
    "start_time": "2024-03-02T20:27:38.993Z"
   },
   {
    "duration": 6,
    "start_time": "2024-03-02T20:27:39.005Z"
   },
   {
    "duration": 20,
    "start_time": "2024-03-02T20:27:39.013Z"
   },
   {
    "duration": 413,
    "start_time": "2024-03-02T20:27:39.034Z"
   },
   {
    "duration": 14,
    "start_time": "2024-03-02T20:27:39.449Z"
   },
   {
    "duration": 1830,
    "start_time": "2024-03-02T20:27:39.464Z"
   },
   {
    "duration": 6,
    "start_time": "2024-03-02T20:27:41.295Z"
   },
   {
    "duration": 431,
    "start_time": "2024-03-02T20:27:41.303Z"
   },
   {
    "duration": 287,
    "start_time": "2024-03-02T20:27:41.736Z"
   },
   {
    "duration": 14,
    "start_time": "2024-03-02T20:27:42.025Z"
   },
   {
    "duration": 9,
    "start_time": "2024-03-02T20:27:42.041Z"
   },
   {
    "duration": 14,
    "start_time": "2024-03-02T20:27:42.053Z"
   },
   {
    "duration": 450,
    "start_time": "2024-03-02T20:27:42.069Z"
   },
   {
    "duration": 10,
    "start_time": "2024-03-02T20:27:42.521Z"
   },
   {
    "duration": 441,
    "start_time": "2024-03-02T20:27:42.532Z"
   },
   {
    "duration": 19,
    "start_time": "2024-03-02T20:27:42.975Z"
   },
   {
    "duration": 464,
    "start_time": "2024-03-02T20:27:42.996Z"
   },
   {
    "duration": 13,
    "start_time": "2024-03-02T20:27:43.462Z"
   },
   {
    "duration": 436,
    "start_time": "2024-03-02T20:27:43.477Z"
   },
   {
    "duration": 11,
    "start_time": "2024-03-02T20:27:43.915Z"
   },
   {
    "duration": 195,
    "start_time": "2024-03-02T20:27:43.927Z"
   },
   {
    "duration": 159,
    "start_time": "2024-03-02T20:27:44.124Z"
   },
   {
    "duration": 173,
    "start_time": "2024-03-02T20:27:44.286Z"
   },
   {
    "duration": 164,
    "start_time": "2024-03-02T20:27:44.461Z"
   },
   {
    "duration": 249,
    "start_time": "2024-03-02T20:27:44.627Z"
   },
   {
    "duration": 171,
    "start_time": "2024-03-02T20:27:44.878Z"
   },
   {
    "duration": 165,
    "start_time": "2024-03-02T20:27:45.051Z"
   },
   {
    "duration": 45,
    "start_time": "2024-03-02T20:27:45.218Z"
   },
   {
    "duration": 218,
    "start_time": "2024-03-02T20:27:45.265Z"
   },
   {
    "duration": 7,
    "start_time": "2024-03-02T20:27:45.486Z"
   },
   {
    "duration": 33,
    "start_time": "2024-03-02T20:27:45.495Z"
   },
   {
    "duration": 36,
    "start_time": "2024-03-02T20:27:45.530Z"
   },
   {
    "duration": 39,
    "start_time": "2024-03-02T20:27:45.568Z"
   },
   {
    "duration": 65,
    "start_time": "2024-03-02T20:27:45.609Z"
   },
   {
    "duration": 28,
    "start_time": "2024-03-02T20:27:45.675Z"
   },
   {
    "duration": 1116,
    "start_time": "2024-03-02T20:35:37.441Z"
   },
   {
    "duration": 112,
    "start_time": "2024-03-02T20:35:38.560Z"
   },
   {
    "duration": 17,
    "start_time": "2024-03-02T20:35:38.673Z"
   },
   {
    "duration": 37,
    "start_time": "2024-03-02T20:35:38.691Z"
   },
   {
    "duration": 37,
    "start_time": "2024-03-02T20:35:38.730Z"
   },
   {
    "duration": 43,
    "start_time": "2024-03-02T20:35:38.768Z"
   },
   {
    "duration": 34,
    "start_time": "2024-03-02T20:35:38.812Z"
   },
   {
    "duration": 15,
    "start_time": "2024-03-02T20:35:38.847Z"
   },
   {
    "duration": 20,
    "start_time": "2024-03-02T20:35:38.863Z"
   },
   {
    "duration": 21,
    "start_time": "2024-03-02T20:35:38.884Z"
   },
   {
    "duration": 24,
    "start_time": "2024-03-02T20:35:38.906Z"
   },
   {
    "duration": 20,
    "start_time": "2024-03-02T20:35:38.931Z"
   },
   {
    "duration": 36,
    "start_time": "2024-03-02T20:35:38.953Z"
   },
   {
    "duration": 21,
    "start_time": "2024-03-02T20:35:38.992Z"
   },
   {
    "duration": 38,
    "start_time": "2024-03-02T20:35:39.015Z"
   },
   {
    "duration": 34,
    "start_time": "2024-03-02T20:35:39.054Z"
   },
   {
    "duration": 26,
    "start_time": "2024-03-02T20:35:39.089Z"
   },
   {
    "duration": 25,
    "start_time": "2024-03-02T20:35:39.117Z"
   },
   {
    "duration": 29,
    "start_time": "2024-03-02T20:35:39.144Z"
   },
   {
    "duration": 407,
    "start_time": "2024-03-02T20:35:39.174Z"
   },
   {
    "duration": 18,
    "start_time": "2024-03-02T20:35:39.582Z"
   },
   {
    "duration": 1807,
    "start_time": "2024-03-02T20:35:39.602Z"
   },
   {
    "duration": 6,
    "start_time": "2024-03-02T20:35:41.410Z"
   },
   {
    "duration": 380,
    "start_time": "2024-03-02T20:35:41.418Z"
   },
   {
    "duration": 269,
    "start_time": "2024-03-02T20:35:41.799Z"
   },
   {
    "duration": 26,
    "start_time": "2024-03-02T20:35:42.069Z"
   },
   {
    "duration": 21,
    "start_time": "2024-03-02T20:35:42.097Z"
   },
   {
    "duration": 41,
    "start_time": "2024-03-02T20:35:42.119Z"
   },
   {
    "duration": 486,
    "start_time": "2024-03-02T20:35:42.162Z"
   },
   {
    "duration": 9,
    "start_time": "2024-03-02T20:35:42.650Z"
   },
   {
    "duration": 409,
    "start_time": "2024-03-02T20:35:42.661Z"
   },
   {
    "duration": 12,
    "start_time": "2024-03-02T20:35:43.072Z"
   },
   {
    "duration": 474,
    "start_time": "2024-03-02T20:35:43.094Z"
   },
   {
    "duration": 12,
    "start_time": "2024-03-02T20:35:43.570Z"
   },
   {
    "duration": 459,
    "start_time": "2024-03-02T20:35:43.583Z"
   },
   {
    "duration": 10,
    "start_time": "2024-03-02T20:35:44.044Z"
   },
   {
    "duration": 192,
    "start_time": "2024-03-02T20:35:44.056Z"
   },
   {
    "duration": 151,
    "start_time": "2024-03-02T20:35:44.249Z"
   },
   {
    "duration": 160,
    "start_time": "2024-03-02T20:35:44.401Z"
   },
   {
    "duration": 240,
    "start_time": "2024-03-02T20:35:44.563Z"
   },
   {
    "duration": 162,
    "start_time": "2024-03-02T20:35:44.806Z"
   },
   {
    "duration": 169,
    "start_time": "2024-03-02T20:35:44.969Z"
   },
   {
    "duration": 156,
    "start_time": "2024-03-02T20:35:45.139Z"
   },
   {
    "duration": 119,
    "start_time": "2024-03-02T20:35:45.297Z"
   },
   {
    "duration": 192,
    "start_time": "2024-03-02T20:35:45.418Z"
   },
   {
    "duration": 7,
    "start_time": "2024-03-02T20:35:45.612Z"
   },
   {
    "duration": 30,
    "start_time": "2024-03-02T20:35:45.621Z"
   },
   {
    "duration": 31,
    "start_time": "2024-03-02T20:35:45.653Z"
   },
   {
    "duration": 24,
    "start_time": "2024-03-02T20:35:45.685Z"
   },
   {
    "duration": 22,
    "start_time": "2024-03-02T20:35:45.710Z"
   },
   {
    "duration": 47,
    "start_time": "2024-03-02T20:35:45.733Z"
   },
   {
    "duration": 1200,
    "start_time": "2024-03-02T20:36:15.678Z"
   },
   {
    "duration": 200,
    "start_time": "2024-03-02T20:36:16.880Z"
   },
   {
    "duration": 16,
    "start_time": "2024-03-02T20:36:17.082Z"
   },
   {
    "duration": 19,
    "start_time": "2024-03-02T20:36:17.099Z"
   },
   {
    "duration": 4,
    "start_time": "2024-03-02T20:36:17.120Z"
   },
   {
    "duration": 17,
    "start_time": "2024-03-02T20:36:17.126Z"
   },
   {
    "duration": 9,
    "start_time": "2024-03-02T20:36:17.145Z"
   },
   {
    "duration": 15,
    "start_time": "2024-03-02T20:36:17.156Z"
   },
   {
    "duration": 17,
    "start_time": "2024-03-02T20:36:17.172Z"
   },
   {
    "duration": 6,
    "start_time": "2024-03-02T20:36:17.191Z"
   },
   {
    "duration": 20,
    "start_time": "2024-03-02T20:36:17.198Z"
   },
   {
    "duration": 26,
    "start_time": "2024-03-02T20:36:17.219Z"
   },
   {
    "duration": 20,
    "start_time": "2024-03-02T20:36:17.247Z"
   },
   {
    "duration": 9,
    "start_time": "2024-03-02T20:36:17.271Z"
   },
   {
    "duration": 23,
    "start_time": "2024-03-02T20:36:17.282Z"
   },
   {
    "duration": 24,
    "start_time": "2024-03-02T20:36:17.306Z"
   },
   {
    "duration": 41,
    "start_time": "2024-03-02T20:36:17.331Z"
   },
   {
    "duration": 15,
    "start_time": "2024-03-02T20:36:17.373Z"
   },
   {
    "duration": 17,
    "start_time": "2024-03-02T20:36:17.389Z"
   },
   {
    "duration": 406,
    "start_time": "2024-03-02T20:36:17.408Z"
   },
   {
    "duration": 13,
    "start_time": "2024-03-02T20:36:17.816Z"
   },
   {
    "duration": 1834,
    "start_time": "2024-03-02T20:36:17.830Z"
   },
   {
    "duration": 5,
    "start_time": "2024-03-02T20:36:19.666Z"
   },
   {
    "duration": 373,
    "start_time": "2024-03-02T20:36:19.673Z"
   },
   {
    "duration": 269,
    "start_time": "2024-03-02T20:36:20.048Z"
   },
   {
    "duration": 11,
    "start_time": "2024-03-02T20:36:20.319Z"
   },
   {
    "duration": 17,
    "start_time": "2024-03-02T20:36:20.332Z"
   },
   {
    "duration": 21,
    "start_time": "2024-03-02T20:36:20.351Z"
   },
   {
    "duration": 463,
    "start_time": "2024-03-02T20:36:20.373Z"
   },
   {
    "duration": 9,
    "start_time": "2024-03-02T20:36:20.837Z"
   },
   {
    "duration": 458,
    "start_time": "2024-03-02T20:36:20.847Z"
   },
   {
    "duration": 15,
    "start_time": "2024-03-02T20:36:21.306Z"
   },
   {
    "duration": 476,
    "start_time": "2024-03-02T20:36:21.323Z"
   },
   {
    "duration": 12,
    "start_time": "2024-03-02T20:36:21.800Z"
   },
   {
    "duration": 479,
    "start_time": "2024-03-02T20:36:21.814Z"
   },
   {
    "duration": 11,
    "start_time": "2024-03-02T20:36:22.294Z"
   },
   {
    "duration": 190,
    "start_time": "2024-03-02T20:36:22.307Z"
   },
   {
    "duration": 167,
    "start_time": "2024-03-02T20:36:22.499Z"
   },
   {
    "duration": 173,
    "start_time": "2024-03-02T20:36:22.668Z"
   },
   {
    "duration": 236,
    "start_time": "2024-03-02T20:36:22.842Z"
   },
   {
    "duration": 151,
    "start_time": "2024-03-02T20:36:23.082Z"
   },
   {
    "duration": 154,
    "start_time": "2024-03-02T20:36:23.235Z"
   },
   {
    "duration": 157,
    "start_time": "2024-03-02T20:36:23.393Z"
   },
   {
    "duration": 14,
    "start_time": "2024-03-02T20:36:23.551Z"
   },
   {
    "duration": 172,
    "start_time": "2024-03-02T20:36:23.566Z"
   },
   {
    "duration": 6,
    "start_time": "2024-03-02T20:36:23.739Z"
   },
   {
    "duration": 23,
    "start_time": "2024-03-02T20:36:23.747Z"
   },
   {
    "duration": 6,
    "start_time": "2024-03-02T20:36:23.772Z"
   },
   {
    "duration": 12,
    "start_time": "2024-03-02T20:36:23.779Z"
   },
   {
    "duration": 19,
    "start_time": "2024-03-02T20:36:23.792Z"
   },
   {
    "duration": 19,
    "start_time": "2024-03-02T20:36:23.813Z"
   }
  ],
  "kernelspec": {
   "display_name": "Python 3 (ipykernel)",
   "language": "python",
   "name": "python3"
  },
  "language_info": {
   "codemirror_mode": {
    "name": "ipython",
    "version": 3
   },
   "file_extension": ".py",
   "mimetype": "text/x-python",
   "name": "python",
   "nbconvert_exporter": "python",
   "pygments_lexer": "ipython3",
   "version": "3.11.3"
  },
  "toc": {
   "base_numbering": 1,
   "nav_menu": {},
   "number_sections": true,
   "sideBar": true,
   "skip_h1_title": true,
   "title_cell": "Table of Contents",
   "title_sidebar": "Contents",
   "toc_cell": false,
   "toc_position": {},
   "toc_section_display": true,
   "toc_window_display": false
  }
 },
 "nbformat": 4,
 "nbformat_minor": 5
}
