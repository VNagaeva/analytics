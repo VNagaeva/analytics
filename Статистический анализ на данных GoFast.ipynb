{
 "cells": [
  {
   "cell_type": "markdown",
   "id": "94cc84a8",
   "metadata": {},
   "source": [
    "# Статистический анализ на данных GoFast"
   ]
  },
  {
   "cell_type": "markdown",
   "id": "1b5578a8",
   "metadata": {},
   "source": [
    "Работа с данными о некоторых пользователях из нескольких городов, а также об их поездках. Необходимо проанализировать данные и проверить некоторые гипотезы, которые могут помочь бизнесу вырасти.\n",
    "Чтобы совершать поездки по городу, пользователи сервиса GoFast пользуются мобильным приложением. <br>\n",
    "Сервисом можно пользоваться:\n",
    "- без подписки:\n",
    "    - абонентская плата отсутствует;\n",
    "    - стоимость одной минуты поездки — 8 рублей;\n",
    "    - стоимость старта (начала поездки) — 50 рублей;\n",
    "- с подпиской Ultra:\n",
    "    - абонентская плата — 199 рублей в месяц;\n",
    "    - стоимость одной минуты поездки — 6 рублей;\n",
    "    - стоимость старта — бесплатно."
   ]
  },
  {
   "cell_type": "code",
   "execution_count": 2,
   "id": "22c70beb",
   "metadata": {},
   "outputs": [],
   "source": [
    "import pandas as pd\n",
    "import matplotlib.pyplot as plt\n",
    "import seaborn as sns\n",
    "import numpy as np\n",
    "from scipy import stats as st"
   ]
  },
  {
   "cell_type": "markdown",
   "id": "c42cbe00",
   "metadata": {},
   "source": [
    "### Загрузка данных"
   ]
  },
  {
   "cell_type": "code",
   "execution_count": 3,
   "id": "eff9f206",
   "metadata": {},
   "outputs": [],
   "source": [
    "users_df = pd.read_csv('/datasets/users_go.csv')\n",
    "rides_df = pd.read_csv('/datasets/rides_go.csv')\n",
    "subs_df = pd.read_csv('/datasets/subscriptions_go.csv')"
   ]
  },
  {
   "cell_type": "code",
   "execution_count": 4,
   "id": "d5523df0",
   "metadata": {},
   "outputs": [
    {
     "data": {
      "text/html": [
       "<div>\n",
       "<style scoped>\n",
       "    .dataframe tbody tr th:only-of-type {\n",
       "        vertical-align: middle;\n",
       "    }\n",
       "\n",
       "    .dataframe tbody tr th {\n",
       "        vertical-align: top;\n",
       "    }\n",
       "\n",
       "    .dataframe thead th {\n",
       "        text-align: right;\n",
       "    }\n",
       "</style>\n",
       "<table border=\"1\" class=\"dataframe\">\n",
       "  <thead>\n",
       "    <tr style=\"text-align: right;\">\n",
       "      <th></th>\n",
       "      <th>user_id</th>\n",
       "      <th>name</th>\n",
       "      <th>age</th>\n",
       "      <th>city</th>\n",
       "      <th>subscription_type</th>\n",
       "    </tr>\n",
       "  </thead>\n",
       "  <tbody>\n",
       "    <tr>\n",
       "      <th>0</th>\n",
       "      <td>1</td>\n",
       "      <td>Кира</td>\n",
       "      <td>22</td>\n",
       "      <td>Тюмень</td>\n",
       "      <td>ultra</td>\n",
       "    </tr>\n",
       "    <tr>\n",
       "      <th>1</th>\n",
       "      <td>2</td>\n",
       "      <td>Станислав</td>\n",
       "      <td>31</td>\n",
       "      <td>Омск</td>\n",
       "      <td>ultra</td>\n",
       "    </tr>\n",
       "    <tr>\n",
       "      <th>2</th>\n",
       "      <td>3</td>\n",
       "      <td>Алексей</td>\n",
       "      <td>20</td>\n",
       "      <td>Москва</td>\n",
       "      <td>ultra</td>\n",
       "    </tr>\n",
       "    <tr>\n",
       "      <th>3</th>\n",
       "      <td>4</td>\n",
       "      <td>Константин</td>\n",
       "      <td>26</td>\n",
       "      <td>Ростов-на-Дону</td>\n",
       "      <td>ultra</td>\n",
       "    </tr>\n",
       "    <tr>\n",
       "      <th>4</th>\n",
       "      <td>5</td>\n",
       "      <td>Адель</td>\n",
       "      <td>28</td>\n",
       "      <td>Омск</td>\n",
       "      <td>ultra</td>\n",
       "    </tr>\n",
       "  </tbody>\n",
       "</table>\n",
       "</div>"
      ],
      "text/plain": [
       "   user_id        name  age            city subscription_type\n",
       "0        1        Кира   22          Тюмень             ultra\n",
       "1        2   Станислав   31            Омск             ultra\n",
       "2        3     Алексей   20          Москва             ultra\n",
       "3        4  Константин   26  Ростов-на-Дону             ultra\n",
       "4        5       Адель   28            Омск             ultra"
      ]
     },
     "execution_count": 4,
     "metadata": {},
     "output_type": "execute_result"
    }
   ],
   "source": [
    "users_df.head()"
   ]
  },
  {
   "cell_type": "code",
   "execution_count": 5,
   "id": "7959dcb5",
   "metadata": {},
   "outputs": [
    {
     "name": "stdout",
     "output_type": "stream",
     "text": [
      "<class 'pandas.core.frame.DataFrame'>\n",
      "RangeIndex: 1565 entries, 0 to 1564\n",
      "Data columns (total 5 columns):\n",
      " #   Column             Non-Null Count  Dtype \n",
      "---  ------             --------------  ----- \n",
      " 0   user_id            1565 non-null   int64 \n",
      " 1   name               1565 non-null   object\n",
      " 2   age                1565 non-null   int64 \n",
      " 3   city               1565 non-null   object\n",
      " 4   subscription_type  1565 non-null   object\n",
      "dtypes: int64(2), object(3)\n",
      "memory usage: 61.3+ KB\n"
     ]
    }
   ],
   "source": [
    "users_df.info()"
   ]
  },
  {
   "cell_type": "markdown",
   "id": "cd0b8e97",
   "metadata": {},
   "source": [
    "#### Описание данных пользователей (users_df):\n",
    "user_id - уникальный идентификатор пользователя (int64) <br>\n",
    "name - имя пользователя (object) <br>\n",
    "age - возраст (int64) <br>\n",
    "city - город (object) <br>\n",
    "subscription_type - тип подписки (free, ultra) (object)"
   ]
  },
  {
   "cell_type": "code",
   "execution_count": 6,
   "id": "5cac3e78",
   "metadata": {},
   "outputs": [
    {
     "data": {
      "text/html": [
       "<div>\n",
       "<style scoped>\n",
       "    .dataframe tbody tr th:only-of-type {\n",
       "        vertical-align: middle;\n",
       "    }\n",
       "\n",
       "    .dataframe tbody tr th {\n",
       "        vertical-align: top;\n",
       "    }\n",
       "\n",
       "    .dataframe thead th {\n",
       "        text-align: right;\n",
       "    }\n",
       "</style>\n",
       "<table border=\"1\" class=\"dataframe\">\n",
       "  <thead>\n",
       "    <tr style=\"text-align: right;\">\n",
       "      <th></th>\n",
       "      <th>user_id</th>\n",
       "      <th>distance</th>\n",
       "      <th>duration</th>\n",
       "      <th>date</th>\n",
       "    </tr>\n",
       "  </thead>\n",
       "  <tbody>\n",
       "    <tr>\n",
       "      <th>0</th>\n",
       "      <td>1</td>\n",
       "      <td>4409.919140</td>\n",
       "      <td>25.599769</td>\n",
       "      <td>2021-01-01</td>\n",
       "    </tr>\n",
       "    <tr>\n",
       "      <th>1</th>\n",
       "      <td>1</td>\n",
       "      <td>2617.592153</td>\n",
       "      <td>15.816871</td>\n",
       "      <td>2021-01-18</td>\n",
       "    </tr>\n",
       "    <tr>\n",
       "      <th>2</th>\n",
       "      <td>1</td>\n",
       "      <td>754.159807</td>\n",
       "      <td>6.232113</td>\n",
       "      <td>2021-04-20</td>\n",
       "    </tr>\n",
       "    <tr>\n",
       "      <th>3</th>\n",
       "      <td>1</td>\n",
       "      <td>2694.783254</td>\n",
       "      <td>18.511000</td>\n",
       "      <td>2021-08-11</td>\n",
       "    </tr>\n",
       "    <tr>\n",
       "      <th>4</th>\n",
       "      <td>1</td>\n",
       "      <td>4028.687306</td>\n",
       "      <td>26.265803</td>\n",
       "      <td>2021-08-28</td>\n",
       "    </tr>\n",
       "  </tbody>\n",
       "</table>\n",
       "</div>"
      ],
      "text/plain": [
       "   user_id     distance   duration        date\n",
       "0        1  4409.919140  25.599769  2021-01-01\n",
       "1        1  2617.592153  15.816871  2021-01-18\n",
       "2        1   754.159807   6.232113  2021-04-20\n",
       "3        1  2694.783254  18.511000  2021-08-11\n",
       "4        1  4028.687306  26.265803  2021-08-28"
      ]
     },
     "execution_count": 6,
     "metadata": {},
     "output_type": "execute_result"
    }
   ],
   "source": [
    "rides_df.head()"
   ]
  },
  {
   "cell_type": "code",
   "execution_count": 7,
   "id": "969d01b4",
   "metadata": {},
   "outputs": [
    {
     "name": "stdout",
     "output_type": "stream",
     "text": [
      "<class 'pandas.core.frame.DataFrame'>\n",
      "RangeIndex: 18068 entries, 0 to 18067\n",
      "Data columns (total 4 columns):\n",
      " #   Column    Non-Null Count  Dtype  \n",
      "---  ------    --------------  -----  \n",
      " 0   user_id   18068 non-null  int64  \n",
      " 1   distance  18068 non-null  float64\n",
      " 2   duration  18068 non-null  float64\n",
      " 3   date      18068 non-null  object \n",
      "dtypes: float64(2), int64(1), object(1)\n",
      "memory usage: 564.8+ KB\n"
     ]
    }
   ],
   "source": [
    "rides_df.info()"
   ]
  },
  {
   "cell_type": "markdown",
   "id": "eb5b53b8",
   "metadata": {},
   "source": [
    "#### Описание данных поездок (rides_df):\n",
    "user_id - уникальный идентификатор пользователя (int64) <br>\n",
    "distance - расстояние, которое пользователь проехал в текущей сессии (в метрах) (float64) <br>\n",
    "duration - продолжительность сессии (в минутах) — время с того момента, как пользователь нажал кнопку «Начать поездку» до момента, как он нажал кнопку «Завершить поездку» (float64) <br>\n",
    "date - дата совершения поездки (object)"
   ]
  },
  {
   "cell_type": "code",
   "execution_count": 8,
   "id": "1b04acdf",
   "metadata": {},
   "outputs": [
    {
     "data": {
      "text/html": [
       "<div>\n",
       "<style scoped>\n",
       "    .dataframe tbody tr th:only-of-type {\n",
       "        vertical-align: middle;\n",
       "    }\n",
       "\n",
       "    .dataframe tbody tr th {\n",
       "        vertical-align: top;\n",
       "    }\n",
       "\n",
       "    .dataframe thead th {\n",
       "        text-align: right;\n",
       "    }\n",
       "</style>\n",
       "<table border=\"1\" class=\"dataframe\">\n",
       "  <thead>\n",
       "    <tr style=\"text-align: right;\">\n",
       "      <th></th>\n",
       "      <th>subscription_type</th>\n",
       "      <th>minute_price</th>\n",
       "      <th>start_ride_price</th>\n",
       "      <th>subscription_fee</th>\n",
       "    </tr>\n",
       "  </thead>\n",
       "  <tbody>\n",
       "    <tr>\n",
       "      <th>0</th>\n",
       "      <td>free</td>\n",
       "      <td>8</td>\n",
       "      <td>50</td>\n",
       "      <td>0</td>\n",
       "    </tr>\n",
       "    <tr>\n",
       "      <th>1</th>\n",
       "      <td>ultra</td>\n",
       "      <td>6</td>\n",
       "      <td>0</td>\n",
       "      <td>199</td>\n",
       "    </tr>\n",
       "  </tbody>\n",
       "</table>\n",
       "</div>"
      ],
      "text/plain": [
       "  subscription_type  minute_price  start_ride_price  subscription_fee\n",
       "0              free             8                50                 0\n",
       "1             ultra             6                 0               199"
      ]
     },
     "execution_count": 8,
     "metadata": {},
     "output_type": "execute_result"
    }
   ],
   "source": [
    "subs_df.head()"
   ]
  },
  {
   "cell_type": "code",
   "execution_count": 9,
   "id": "1c08b77a",
   "metadata": {},
   "outputs": [
    {
     "name": "stdout",
     "output_type": "stream",
     "text": [
      "<class 'pandas.core.frame.DataFrame'>\n",
      "RangeIndex: 2 entries, 0 to 1\n",
      "Data columns (total 4 columns):\n",
      " #   Column             Non-Null Count  Dtype \n",
      "---  ------             --------------  ----- \n",
      " 0   subscription_type  2 non-null      object\n",
      " 1   minute_price       2 non-null      int64 \n",
      " 2   start_ride_price   2 non-null      int64 \n",
      " 3   subscription_fee   2 non-null      int64 \n",
      "dtypes: int64(3), object(1)\n",
      "memory usage: 192.0+ bytes\n"
     ]
    }
   ],
   "source": [
    "subs_df.info()"
   ]
  },
  {
   "cell_type": "markdown",
   "id": "bbbbb864",
   "metadata": {},
   "source": [
    "#### Описание данных подписок (subs_df):\n",
    "subscription_type - тип подписки (object) <br>\n",
    "minute_price - стоимость одной минуты поездки по данной подписке (int64) <br>\n",
    "start_ride_price - стоимость начала поездки (int64) <br>\n",
    "subscription_fee - стоимость ежемесячного платежа (int64)"
   ]
  },
  {
   "cell_type": "markdown",
   "id": "e95ebca7",
   "metadata": {},
   "source": [
    "### Предобработка данных"
   ]
  },
  {
   "cell_type": "markdown",
   "id": "d6a4a048",
   "metadata": {},
   "source": [
    "#### Приведем столбец date к типу даты pandas"
   ]
  },
  {
   "cell_type": "code",
   "execution_count": 10,
   "id": "cd759c09",
   "metadata": {},
   "outputs": [],
   "source": [
    "try:\n",
    "    rides_df['date'] = pd.to_datetime(rides_df['date'], format = '%Y-%m-%d')\n",
    "except:\n",
    "    print('Date convertion is failed.')"
   ]
  },
  {
   "cell_type": "code",
   "execution_count": 11,
   "id": "d76df56e",
   "metadata": {},
   "outputs": [
    {
     "name": "stdout",
     "output_type": "stream",
     "text": [
      "<class 'pandas.core.frame.DataFrame'>\n",
      "RangeIndex: 18068 entries, 0 to 18067\n",
      "Data columns (total 4 columns):\n",
      " #   Column    Non-Null Count  Dtype         \n",
      "---  ------    --------------  -----         \n",
      " 0   user_id   18068 non-null  int64         \n",
      " 1   distance  18068 non-null  float64       \n",
      " 2   duration  18068 non-null  float64       \n",
      " 3   date      18068 non-null  datetime64[ns]\n",
      "dtypes: datetime64[ns](1), float64(2), int64(1)\n",
      "memory usage: 564.8 KB\n"
     ]
    }
   ],
   "source": [
    "rides_df.info()"
   ]
  },
  {
   "cell_type": "markdown",
   "id": "5b38cc0a",
   "metadata": {},
   "source": [
    "#### Создайте новый столбец с номером месяца на основе столбца date"
   ]
  },
  {
   "cell_type": "code",
   "execution_count": 12,
   "id": "84c8fd06",
   "metadata": {},
   "outputs": [],
   "source": [
    "rides_df['month'] = rides_df['date'].dt.month"
   ]
  },
  {
   "cell_type": "code",
   "execution_count": 13,
   "id": "1b9d7506",
   "metadata": {},
   "outputs": [
    {
     "data": {
      "text/html": [
       "<div>\n",
       "<style scoped>\n",
       "    .dataframe tbody tr th:only-of-type {\n",
       "        vertical-align: middle;\n",
       "    }\n",
       "\n",
       "    .dataframe tbody tr th {\n",
       "        vertical-align: top;\n",
       "    }\n",
       "\n",
       "    .dataframe thead th {\n",
       "        text-align: right;\n",
       "    }\n",
       "</style>\n",
       "<table border=\"1\" class=\"dataframe\">\n",
       "  <thead>\n",
       "    <tr style=\"text-align: right;\">\n",
       "      <th></th>\n",
       "      <th>user_id</th>\n",
       "      <th>distance</th>\n",
       "      <th>duration</th>\n",
       "      <th>date</th>\n",
       "      <th>month</th>\n",
       "    </tr>\n",
       "  </thead>\n",
       "  <tbody>\n",
       "    <tr>\n",
       "      <th>0</th>\n",
       "      <td>1</td>\n",
       "      <td>4409.919140</td>\n",
       "      <td>25.599769</td>\n",
       "      <td>2021-01-01</td>\n",
       "      <td>1</td>\n",
       "    </tr>\n",
       "    <tr>\n",
       "      <th>1</th>\n",
       "      <td>1</td>\n",
       "      <td>2617.592153</td>\n",
       "      <td>15.816871</td>\n",
       "      <td>2021-01-18</td>\n",
       "      <td>1</td>\n",
       "    </tr>\n",
       "    <tr>\n",
       "      <th>2</th>\n",
       "      <td>1</td>\n",
       "      <td>754.159807</td>\n",
       "      <td>6.232113</td>\n",
       "      <td>2021-04-20</td>\n",
       "      <td>4</td>\n",
       "    </tr>\n",
       "    <tr>\n",
       "      <th>3</th>\n",
       "      <td>1</td>\n",
       "      <td>2694.783254</td>\n",
       "      <td>18.511000</td>\n",
       "      <td>2021-08-11</td>\n",
       "      <td>8</td>\n",
       "    </tr>\n",
       "    <tr>\n",
       "      <th>4</th>\n",
       "      <td>1</td>\n",
       "      <td>4028.687306</td>\n",
       "      <td>26.265803</td>\n",
       "      <td>2021-08-28</td>\n",
       "      <td>8</td>\n",
       "    </tr>\n",
       "  </tbody>\n",
       "</table>\n",
       "</div>"
      ],
      "text/plain": [
       "   user_id     distance   duration       date  month\n",
       "0        1  4409.919140  25.599769 2021-01-01      1\n",
       "1        1  2617.592153  15.816871 2021-01-18      1\n",
       "2        1   754.159807   6.232113 2021-04-20      4\n",
       "3        1  2694.783254  18.511000 2021-08-11      8\n",
       "4        1  4028.687306  26.265803 2021-08-28      8"
      ]
     },
     "execution_count": 13,
     "metadata": {},
     "output_type": "execute_result"
    }
   ],
   "source": [
    "rides_df.head()"
   ]
  },
  {
   "cell_type": "markdown",
   "id": "11e0b636",
   "metadata": {},
   "source": [
    "#### Проверка и обработка пропущенных значений и дубликатов в датафреймах"
   ]
  },
  {
   "cell_type": "code",
   "execution_count": 14,
   "id": "aa69ff72",
   "metadata": {},
   "outputs": [
    {
     "data": {
      "text/plain": [
       "user_id              0\n",
       "name                 0\n",
       "age                  0\n",
       "city                 0\n",
       "subscription_type    0\n",
       "dtype: int64"
      ]
     },
     "execution_count": 14,
     "metadata": {},
     "output_type": "execute_result"
    }
   ],
   "source": [
    "users_df.isna().sum()"
   ]
  },
  {
   "cell_type": "code",
   "execution_count": 15,
   "id": "8654aee0",
   "metadata": {},
   "outputs": [
    {
     "data": {
      "text/plain": [
       "user_id     0\n",
       "distance    0\n",
       "duration    0\n",
       "date        0\n",
       "month       0\n",
       "dtype: int64"
      ]
     },
     "execution_count": 15,
     "metadata": {},
     "output_type": "execute_result"
    }
   ],
   "source": [
    "rides_df.isna().sum()"
   ]
  },
  {
   "cell_type": "code",
   "execution_count": 16,
   "id": "3398c7bb",
   "metadata": {},
   "outputs": [
    {
     "data": {
      "text/plain": [
       "subscription_type    0\n",
       "minute_price         0\n",
       "start_ride_price     0\n",
       "subscription_fee     0\n",
       "dtype: int64"
      ]
     },
     "execution_count": 16,
     "metadata": {},
     "output_type": "execute_result"
    }
   ],
   "source": [
    "subs_df.isna().sum()"
   ]
  },
  {
   "cell_type": "code",
   "execution_count": 17,
   "id": "ef4d481c",
   "metadata": {},
   "outputs": [
    {
     "data": {
      "text/plain": [
       "31"
      ]
     },
     "execution_count": 17,
     "metadata": {},
     "output_type": "execute_result"
    }
   ],
   "source": [
    "users_df.duplicated().sum()"
   ]
  },
  {
   "cell_type": "code",
   "execution_count": 18,
   "id": "673e1725",
   "metadata": {},
   "outputs": [],
   "source": [
    "users_df.drop_duplicates(inplace=True)"
   ]
  },
  {
   "cell_type": "code",
   "execution_count": 19,
   "id": "6ad697d4",
   "metadata": {},
   "outputs": [
    {
     "data": {
      "text/plain": [
       "0"
      ]
     },
     "execution_count": 19,
     "metadata": {},
     "output_type": "execute_result"
    }
   ],
   "source": [
    "users_df.duplicated().sum()"
   ]
  },
  {
   "cell_type": "code",
   "execution_count": 20,
   "id": "af32b547",
   "metadata": {},
   "outputs": [
    {
     "data": {
      "text/plain": [
       "0"
      ]
     },
     "execution_count": 20,
     "metadata": {},
     "output_type": "execute_result"
    }
   ],
   "source": [
    "rides_df.duplicated().sum()"
   ]
  },
  {
   "cell_type": "code",
   "execution_count": 21,
   "id": "be0b5cdd",
   "metadata": {},
   "outputs": [
    {
     "data": {
      "text/plain": [
       "0"
      ]
     },
     "execution_count": 21,
     "metadata": {},
     "output_type": "execute_result"
    }
   ],
   "source": [
    "subs_df.duplicated().sum()"
   ]
  },
  {
   "cell_type": "markdown",
   "id": "172f361c",
   "metadata": {},
   "source": [
    "#### Выводы предобработки данных:\n",
    "- Столбец date переведен к типу datetime64;\n",
    "- В датафрейме rides_df создан новый столбец (Месяц совершения поездки);\n",
    "- Пропущенные значения ни в одном датасете найдены не были;\n",
    "- Выявлены и удалены 31 дубликат в users_df;\n",
    "- В rides_df subs_df дубликаты отсутствуют.\n"
   ]
  },
  {
   "cell_type": "markdown",
   "id": "212593c7",
   "metadata": {},
   "source": [
    "### Исследовательский анализ данных"
   ]
  },
  {
   "cell_type": "markdown",
   "id": "b448f864",
   "metadata": {},
   "source": [
    "#### Частота встречаемости городов"
   ]
  },
  {
   "cell_type": "code",
   "execution_count": 22,
   "id": "9377b830",
   "metadata": {},
   "outputs": [
    {
     "name": "stdout",
     "output_type": "stream",
     "text": [
      "Пятигорск         219\n",
      "Екатеринбург      204\n",
      "Ростов-на-Дону    198\n",
      "Краснодар         193\n",
      "Сочи              189\n",
      "Омск              183\n",
      "Тюмень            180\n",
      "Москва            168\n",
      "Name: city, dtype: int64\n"
     ]
    },
    {
     "data": {
      "image/png": "[encoded data removed]",
      "text/plain": [
       "<Figure size 432x288 with 1 Axes>"
      ]
     },
     "metadata": {
      "needs_background": "light"
     },
     "output_type": "display_data"
    }
   ],
   "source": [
    "freq_city = users_df['city'].value_counts()\n",
    "print(freq_city)\n",
    "ax = sns.barplot(x=freq_city, y=freq_city.index);\n",
    "ax.set_title('Частота встречаемости городов');\n",
    "ax.set_xlabel('Частота');"
   ]
  },
  {
   "cell_type": "markdown",
   "id": "a78a7259",
   "metadata": {},
   "source": [
    "#### Соотношение пользователей с подпиской и без подписки"
   ]
  },
  {
   "cell_type": "code",
   "execution_count": 23,
   "id": "2f4e979e",
   "metadata": {},
   "outputs": [
    {
     "name": "stdout",
     "output_type": "stream",
     "text": [
      "free     835\n",
      "ultra    699\n",
      "Name: subscription_type, dtype: int64\n"
     ]
    },
    {
     "data": {
      "image/png": "[encoded data removed]",
      "text/plain": [
       "<Figure size 360x360 with 1 Axes>"
      ]
     },
     "metadata": {},
     "output_type": "display_data"
    }
   ],
   "source": [
    "print(users_df['subscription_type'].value_counts())\n",
    "users_df['subscription_type'].value_counts().plot(y=users_df['subscription_type'].value_counts(), kind = 'pie', \n",
    "                                                  autopct='%1.0f%%', figsize=(5,5), \n",
    "                                                  title='Процентное соотношение пользователей по тарифу');"
   ]
  },
  {
   "cell_type": "markdown",
   "id": "fb12e5ee",
   "metadata": {},
   "source": [
    "#### Возраст пользователей"
   ]
  },
  {
   "cell_type": "code",
   "execution_count": 24,
   "id": "9d081a2c",
   "metadata": {},
   "outputs": [
    {
     "data": {
      "image/png": "[encoded data removed]",
      "text/plain": [
       "<Figure size 432x288 with 1 Axes>"
      ]
     },
     "metadata": {
      "needs_background": "light"
     },
     "output_type": "display_data"
    }
   ],
   "source": [
    "plt.hist(users_df['age'], bins=10)\n",
    "plt.xlabel('Возраст')\n",
    "plt.ylabel('Люди')\n",
    "plt.title('Возраст пользователей')\n",
    "plt.grid()"
   ]
  },
  {
   "cell_type": "markdown",
   "id": "a6b54114",
   "metadata": {},
   "source": [
    "#### Расстояние, которое пользователь преодолел за одну поездку"
   ]
  },
  {
   "cell_type": "code",
   "execution_count": 25,
   "id": "bc8be13e",
   "metadata": {},
   "outputs": [
    {
     "name": "stdout",
     "output_type": "stream",
     "text": [
      "count    18068.000000\n",
      "mean      3070.659976\n",
      "std       1116.831209\n",
      "min          0.855683\n",
      "25%       2543.226360\n",
      "50%       3133.609994\n",
      "75%       3776.222735\n",
      "max       7211.007745\n",
      "Name: distance, dtype: float64\n"
     ]
    },
    {
     "data": {
      "image/png": "[encoded data removed]",
      "text/plain": [
       "<Figure size 432x288 with 1 Axes>"
      ]
     },
     "metadata": {
      "needs_background": "light"
     },
     "output_type": "display_data"
    }
   ],
   "source": [
    "print(rides_df['distance'].describe())\n",
    "sns.boxplot(x=rides_df['distance']).set_title('Расстояние за одну поездку');"
   ]
  },
  {
   "cell_type": "markdown",
   "id": "2f1ac9b7",
   "metadata": {},
   "source": [
    "#### Продолжительность поездок"
   ]
  },
  {
   "cell_type": "code",
   "execution_count": 26,
   "id": "033ee5c5",
   "metadata": {},
   "outputs": [
    {
     "name": "stdout",
     "output_type": "stream",
     "text": [
      "count    18068.000000\n",
      "mean        17.805011\n",
      "std          6.091051\n",
      "min          0.500000\n",
      "25%         13.597563\n",
      "50%         17.678395\n",
      "75%         21.724800\n",
      "max         40.823963\n",
      "Name: duration, dtype: float64\n"
     ]
    },
    {
     "data": {
      "image/png": "[encoded data removed]",
      "text/plain": [
       "<Figure size 432x288 with 1 Axes>"
      ]
     },
     "metadata": {
      "needs_background": "light"
     },
     "output_type": "display_data"
    }
   ],
   "source": [
    "print(rides_df['duration'].describe())\n",
    "sns.boxplot(x=rides_df['duration'], color='green').set_title('Длительность поездок');"
   ]
  },
  {
   "cell_type": "markdown",
   "id": "064b67bb",
   "metadata": {},
   "source": [
    "#### Выводы исследовательского анализа:\n",
    "- ТОП-3 городов, в которых больше всего распространены поездки GoFast: Пятигорск, Екатеринбург и Ростов-на-Дону. В Москве сервис распространен меньше всего, видимо, из-за наличия других крупных компаний и высокой конкуренции;\n",
    "- Пользователей, оформивших подписку Ultra, почти на треть меньше, чем тех, кто предпочитает использовать сервис без подписки;\n",
    "- Большинству пользователей 20-25 лет;\n",
    "- В среднем, пользователи проезжают от 2.5 до 3.5км. Рекордное значение - 7.2км;\n",
    "- Чаще всего поездки занимают от 15 до 20мин. Рекордное значение - 40мин."
   ]
  },
  {
   "cell_type": "markdown",
   "id": "4ef51331",
   "metadata": {},
   "source": [
    "### Объединение данных"
   ]
  },
  {
   "cell_type": "markdown",
   "id": "8a0ccc9c",
   "metadata": {},
   "source": [
    "#### Объединение данных о пользователях, поездках и подписках в один датафрейм"
   ]
  },
  {
   "cell_type": "code",
   "execution_count": 27,
   "id": "19a92c57",
   "metadata": {},
   "outputs": [
    {
     "name": "stdout",
     "output_type": "stream",
     "text": [
      "(1534, 5)\n"
     ]
    },
    {
     "data": {
      "text/plain": [
       "(18068, 12)"
      ]
     },
     "execution_count": 27,
     "metadata": {},
     "output_type": "execute_result"
    }
   ],
   "source": [
    "print(users_df.shape)\n",
    "df = users_df.merge(rides_df)\n",
    "df = df.merge(subs_df)\n",
    "df.shape"
   ]
  },
  {
   "cell_type": "code",
   "execution_count": 28,
   "id": "d89fe518",
   "metadata": {},
   "outputs": [
    {
     "data": {
      "text/html": [
       "<div>\n",
       "<style scoped>\n",
       "    .dataframe tbody tr th:only-of-type {\n",
       "        vertical-align: middle;\n",
       "    }\n",
       "\n",
       "    .dataframe tbody tr th {\n",
       "        vertical-align: top;\n",
       "    }\n",
       "\n",
       "    .dataframe thead th {\n",
       "        text-align: right;\n",
       "    }\n",
       "</style>\n",
       "<table border=\"1\" class=\"dataframe\">\n",
       "  <thead>\n",
       "    <tr style=\"text-align: right;\">\n",
       "      <th></th>\n",
       "      <th>user_id</th>\n",
       "      <th>name</th>\n",
       "      <th>age</th>\n",
       "      <th>city</th>\n",
       "      <th>subscription_type</th>\n",
       "      <th>distance</th>\n",
       "      <th>duration</th>\n",
       "      <th>date</th>\n",
       "      <th>month</th>\n",
       "      <th>minute_price</th>\n",
       "      <th>start_ride_price</th>\n",
       "      <th>subscription_fee</th>\n",
       "    </tr>\n",
       "  </thead>\n",
       "  <tbody>\n",
       "    <tr>\n",
       "      <th>0</th>\n",
       "      <td>1</td>\n",
       "      <td>Кира</td>\n",
       "      <td>22</td>\n",
       "      <td>Тюмень</td>\n",
       "      <td>ultra</td>\n",
       "      <td>4409.919140</td>\n",
       "      <td>25.599769</td>\n",
       "      <td>2021-01-01</td>\n",
       "      <td>1</td>\n",
       "      <td>6</td>\n",
       "      <td>0</td>\n",
       "      <td>199</td>\n",
       "    </tr>\n",
       "    <tr>\n",
       "      <th>1</th>\n",
       "      <td>1</td>\n",
       "      <td>Кира</td>\n",
       "      <td>22</td>\n",
       "      <td>Тюмень</td>\n",
       "      <td>ultra</td>\n",
       "      <td>2617.592153</td>\n",
       "      <td>15.816871</td>\n",
       "      <td>2021-01-18</td>\n",
       "      <td>1</td>\n",
       "      <td>6</td>\n",
       "      <td>0</td>\n",
       "      <td>199</td>\n",
       "    </tr>\n",
       "    <tr>\n",
       "      <th>2</th>\n",
       "      <td>1</td>\n",
       "      <td>Кира</td>\n",
       "      <td>22</td>\n",
       "      <td>Тюмень</td>\n",
       "      <td>ultra</td>\n",
       "      <td>754.159807</td>\n",
       "      <td>6.232113</td>\n",
       "      <td>2021-04-20</td>\n",
       "      <td>4</td>\n",
       "      <td>6</td>\n",
       "      <td>0</td>\n",
       "      <td>199</td>\n",
       "    </tr>\n",
       "    <tr>\n",
       "      <th>3</th>\n",
       "      <td>1</td>\n",
       "      <td>Кира</td>\n",
       "      <td>22</td>\n",
       "      <td>Тюмень</td>\n",
       "      <td>ultra</td>\n",
       "      <td>2694.783254</td>\n",
       "      <td>18.511000</td>\n",
       "      <td>2021-08-11</td>\n",
       "      <td>8</td>\n",
       "      <td>6</td>\n",
       "      <td>0</td>\n",
       "      <td>199</td>\n",
       "    </tr>\n",
       "    <tr>\n",
       "      <th>4</th>\n",
       "      <td>1</td>\n",
       "      <td>Кира</td>\n",
       "      <td>22</td>\n",
       "      <td>Тюмень</td>\n",
       "      <td>ultra</td>\n",
       "      <td>4028.687306</td>\n",
       "      <td>26.265803</td>\n",
       "      <td>2021-08-28</td>\n",
       "      <td>8</td>\n",
       "      <td>6</td>\n",
       "      <td>0</td>\n",
       "      <td>199</td>\n",
       "    </tr>\n",
       "  </tbody>\n",
       "</table>\n",
       "</div>"
      ],
      "text/plain": [
       "   user_id  name  age    city subscription_type     distance   duration  \\\n",
       "0        1  Кира   22  Тюмень             ultra  4409.919140  25.599769   \n",
       "1        1  Кира   22  Тюмень             ultra  2617.592153  15.816871   \n",
       "2        1  Кира   22  Тюмень             ultra   754.159807   6.232113   \n",
       "3        1  Кира   22  Тюмень             ultra  2694.783254  18.511000   \n",
       "4        1  Кира   22  Тюмень             ultra  4028.687306  26.265803   \n",
       "\n",
       "        date  month  minute_price  start_ride_price  subscription_fee  \n",
       "0 2021-01-01      1             6                 0               199  \n",
       "1 2021-01-18      1             6                 0               199  \n",
       "2 2021-04-20      4             6                 0               199  \n",
       "3 2021-08-11      8             6                 0               199  \n",
       "4 2021-08-28      8             6                 0               199  "
      ]
     },
     "execution_count": 28,
     "metadata": {},
     "output_type": "execute_result"
    }
   ],
   "source": [
    "df.head()"
   ]
  },
  {
   "cell_type": "markdown",
   "id": "b44758ce",
   "metadata": {},
   "source": [
    "#### Создание двух датафреймов из основного df:\n",
    "- С данными о пользователях без подписки;\n",
    "- С данными о пользователях с подпиской."
   ]
  },
  {
   "cell_type": "code",
   "execution_count": 29,
   "id": "4568aae9",
   "metadata": {},
   "outputs": [
    {
     "data": {
      "text/html": [
       "<div>\n",
       "<style scoped>\n",
       "    .dataframe tbody tr th:only-of-type {\n",
       "        vertical-align: middle;\n",
       "    }\n",
       "\n",
       "    .dataframe tbody tr th {\n",
       "        vertical-align: top;\n",
       "    }\n",
       "\n",
       "    .dataframe thead th {\n",
       "        text-align: right;\n",
       "    }\n",
       "</style>\n",
       "<table border=\"1\" class=\"dataframe\">\n",
       "  <thead>\n",
       "    <tr style=\"text-align: right;\">\n",
       "      <th></th>\n",
       "      <th>user_id</th>\n",
       "      <th>name</th>\n",
       "      <th>age</th>\n",
       "      <th>city</th>\n",
       "      <th>subscription_type</th>\n",
       "      <th>distance</th>\n",
       "      <th>duration</th>\n",
       "      <th>date</th>\n",
       "      <th>month</th>\n",
       "      <th>minute_price</th>\n",
       "      <th>start_ride_price</th>\n",
       "      <th>subscription_fee</th>\n",
       "    </tr>\n",
       "  </thead>\n",
       "  <tbody>\n",
       "    <tr>\n",
       "      <th>0</th>\n",
       "      <td>700</td>\n",
       "      <td>Айдар</td>\n",
       "      <td>22</td>\n",
       "      <td>Омск</td>\n",
       "      <td>free</td>\n",
       "      <td>2515.690719</td>\n",
       "      <td>14.944286</td>\n",
       "      <td>2021-01-02</td>\n",
       "      <td>1</td>\n",
       "      <td>8</td>\n",
       "      <td>50</td>\n",
       "      <td>0</td>\n",
       "    </tr>\n",
       "    <tr>\n",
       "      <th>1</th>\n",
       "      <td>700</td>\n",
       "      <td>Айдар</td>\n",
       "      <td>22</td>\n",
       "      <td>Омск</td>\n",
       "      <td>free</td>\n",
       "      <td>846.932642</td>\n",
       "      <td>16.234663</td>\n",
       "      <td>2021-02-01</td>\n",
       "      <td>2</td>\n",
       "      <td>8</td>\n",
       "      <td>50</td>\n",
       "      <td>0</td>\n",
       "    </tr>\n",
       "    <tr>\n",
       "      <th>2</th>\n",
       "      <td>700</td>\n",
       "      <td>Айдар</td>\n",
       "      <td>22</td>\n",
       "      <td>Омск</td>\n",
       "      <td>free</td>\n",
       "      <td>4004.434142</td>\n",
       "      <td>20.016628</td>\n",
       "      <td>2021-02-04</td>\n",
       "      <td>2</td>\n",
       "      <td>8</td>\n",
       "      <td>50</td>\n",
       "      <td>0</td>\n",
       "    </tr>\n",
       "    <tr>\n",
       "      <th>3</th>\n",
       "      <td>700</td>\n",
       "      <td>Айдар</td>\n",
       "      <td>22</td>\n",
       "      <td>Омск</td>\n",
       "      <td>free</td>\n",
       "      <td>1205.911290</td>\n",
       "      <td>9.782872</td>\n",
       "      <td>2021-02-10</td>\n",
       "      <td>2</td>\n",
       "      <td>8</td>\n",
       "      <td>50</td>\n",
       "      <td>0</td>\n",
       "    </tr>\n",
       "    <tr>\n",
       "      <th>4</th>\n",
       "      <td>700</td>\n",
       "      <td>Айдар</td>\n",
       "      <td>22</td>\n",
       "      <td>Омск</td>\n",
       "      <td>free</td>\n",
       "      <td>3047.379435</td>\n",
       "      <td>17.427673</td>\n",
       "      <td>2021-02-14</td>\n",
       "      <td>2</td>\n",
       "      <td>8</td>\n",
       "      <td>50</td>\n",
       "      <td>0</td>\n",
       "    </tr>\n",
       "    <tr>\n",
       "      <th>5</th>\n",
       "      <td>700</td>\n",
       "      <td>Айдар</td>\n",
       "      <td>22</td>\n",
       "      <td>Омск</td>\n",
       "      <td>free</td>\n",
       "      <td>4342.002254</td>\n",
       "      <td>22.368009</td>\n",
       "      <td>2021-02-23</td>\n",
       "      <td>2</td>\n",
       "      <td>8</td>\n",
       "      <td>50</td>\n",
       "      <td>0</td>\n",
       "    </tr>\n",
       "    <tr>\n",
       "      <th>6</th>\n",
       "      <td>700</td>\n",
       "      <td>Айдар</td>\n",
       "      <td>22</td>\n",
       "      <td>Омск</td>\n",
       "      <td>free</td>\n",
       "      <td>3798.334905</td>\n",
       "      <td>18.243756</td>\n",
       "      <td>2021-03-03</td>\n",
       "      <td>3</td>\n",
       "      <td>8</td>\n",
       "      <td>50</td>\n",
       "      <td>0</td>\n",
       "    </tr>\n",
       "    <tr>\n",
       "      <th>7</th>\n",
       "      <td>700</td>\n",
       "      <td>Айдар</td>\n",
       "      <td>22</td>\n",
       "      <td>Омск</td>\n",
       "      <td>free</td>\n",
       "      <td>2984.551206</td>\n",
       "      <td>15.424899</td>\n",
       "      <td>2021-04-09</td>\n",
       "      <td>4</td>\n",
       "      <td>8</td>\n",
       "      <td>50</td>\n",
       "      <td>0</td>\n",
       "    </tr>\n",
       "    <tr>\n",
       "      <th>8</th>\n",
       "      <td>700</td>\n",
       "      <td>Айдар</td>\n",
       "      <td>22</td>\n",
       "      <td>Омск</td>\n",
       "      <td>free</td>\n",
       "      <td>3360.107141</td>\n",
       "      <td>16.765497</td>\n",
       "      <td>2021-06-12</td>\n",
       "      <td>6</td>\n",
       "      <td>8</td>\n",
       "      <td>50</td>\n",
       "      <td>0</td>\n",
       "    </tr>\n",
       "    <tr>\n",
       "      <th>9</th>\n",
       "      <td>700</td>\n",
       "      <td>Айдар</td>\n",
       "      <td>22</td>\n",
       "      <td>Омск</td>\n",
       "      <td>free</td>\n",
       "      <td>2567.543847</td>\n",
       "      <td>11.312160</td>\n",
       "      <td>2021-06-23</td>\n",
       "      <td>6</td>\n",
       "      <td>8</td>\n",
       "      <td>50</td>\n",
       "      <td>0</td>\n",
       "    </tr>\n",
       "  </tbody>\n",
       "</table>\n",
       "</div>"
      ],
      "text/plain": [
       "   user_id   name  age  city subscription_type     distance   duration  \\\n",
       "0      700  Айдар   22  Омск              free  2515.690719  14.944286   \n",
       "1      700  Айдар   22  Омск              free   846.932642  16.234663   \n",
       "2      700  Айдар   22  Омск              free  4004.434142  20.016628   \n",
       "3      700  Айдар   22  Омск              free  1205.911290   9.782872   \n",
       "4      700  Айдар   22  Омск              free  3047.379435  17.427673   \n",
       "5      700  Айдар   22  Омск              free  4342.002254  22.368009   \n",
       "6      700  Айдар   22  Омск              free  3798.334905  18.243756   \n",
       "7      700  Айдар   22  Омск              free  2984.551206  15.424899   \n",
       "8      700  Айдар   22  Омск              free  3360.107141  16.765497   \n",
       "9      700  Айдар   22  Омск              free  2567.543847  11.312160   \n",
       "\n",
       "        date  month  minute_price  start_ride_price  subscription_fee  \n",
       "0 2021-01-02      1             8                50                 0  \n",
       "1 2021-02-01      2             8                50                 0  \n",
       "2 2021-02-04      2             8                50                 0  \n",
       "3 2021-02-10      2             8                50                 0  \n",
       "4 2021-02-14      2             8                50                 0  \n",
       "5 2021-02-23      2             8                50                 0  \n",
       "6 2021-03-03      3             8                50                 0  \n",
       "7 2021-04-09      4             8                50                 0  \n",
       "8 2021-06-12      6             8                50                 0  \n",
       "9 2021-06-23      6             8                50                 0  "
      ]
     },
     "execution_count": 29,
     "metadata": {},
     "output_type": "execute_result"
    }
   ],
   "source": [
    "df_free = df.query(\"subscription_type == 'free'\")\n",
    "df_free.reset_index(inplace=True, drop=True)\n",
    "df_free.head(10)"
   ]
  },
  {
   "cell_type": "code",
   "execution_count": 30,
   "id": "c581983b",
   "metadata": {},
   "outputs": [
    {
     "data": {
      "text/html": [
       "<div>\n",
       "<style scoped>\n",
       "    .dataframe tbody tr th:only-of-type {\n",
       "        vertical-align: middle;\n",
       "    }\n",
       "\n",
       "    .dataframe tbody tr th {\n",
       "        vertical-align: top;\n",
       "    }\n",
       "\n",
       "    .dataframe thead th {\n",
       "        text-align: right;\n",
       "    }\n",
       "</style>\n",
       "<table border=\"1\" class=\"dataframe\">\n",
       "  <thead>\n",
       "    <tr style=\"text-align: right;\">\n",
       "      <th></th>\n",
       "      <th>user_id</th>\n",
       "      <th>name</th>\n",
       "      <th>age</th>\n",
       "      <th>city</th>\n",
       "      <th>subscription_type</th>\n",
       "      <th>distance</th>\n",
       "      <th>duration</th>\n",
       "      <th>date</th>\n",
       "      <th>month</th>\n",
       "      <th>minute_price</th>\n",
       "      <th>start_ride_price</th>\n",
       "      <th>subscription_fee</th>\n",
       "    </tr>\n",
       "  </thead>\n",
       "  <tbody>\n",
       "    <tr>\n",
       "      <th>0</th>\n",
       "      <td>1</td>\n",
       "      <td>Кира</td>\n",
       "      <td>22</td>\n",
       "      <td>Тюмень</td>\n",
       "      <td>ultra</td>\n",
       "      <td>4409.919140</td>\n",
       "      <td>25.599769</td>\n",
       "      <td>2021-01-01</td>\n",
       "      <td>1</td>\n",
       "      <td>6</td>\n",
       "      <td>0</td>\n",
       "      <td>199</td>\n",
       "    </tr>\n",
       "    <tr>\n",
       "      <th>1</th>\n",
       "      <td>1</td>\n",
       "      <td>Кира</td>\n",
       "      <td>22</td>\n",
       "      <td>Тюмень</td>\n",
       "      <td>ultra</td>\n",
       "      <td>2617.592153</td>\n",
       "      <td>15.816871</td>\n",
       "      <td>2021-01-18</td>\n",
       "      <td>1</td>\n",
       "      <td>6</td>\n",
       "      <td>0</td>\n",
       "      <td>199</td>\n",
       "    </tr>\n",
       "    <tr>\n",
       "      <th>2</th>\n",
       "      <td>1</td>\n",
       "      <td>Кира</td>\n",
       "      <td>22</td>\n",
       "      <td>Тюмень</td>\n",
       "      <td>ultra</td>\n",
       "      <td>754.159807</td>\n",
       "      <td>6.232113</td>\n",
       "      <td>2021-04-20</td>\n",
       "      <td>4</td>\n",
       "      <td>6</td>\n",
       "      <td>0</td>\n",
       "      <td>199</td>\n",
       "    </tr>\n",
       "    <tr>\n",
       "      <th>3</th>\n",
       "      <td>1</td>\n",
       "      <td>Кира</td>\n",
       "      <td>22</td>\n",
       "      <td>Тюмень</td>\n",
       "      <td>ultra</td>\n",
       "      <td>2694.783254</td>\n",
       "      <td>18.511000</td>\n",
       "      <td>2021-08-11</td>\n",
       "      <td>8</td>\n",
       "      <td>6</td>\n",
       "      <td>0</td>\n",
       "      <td>199</td>\n",
       "    </tr>\n",
       "    <tr>\n",
       "      <th>4</th>\n",
       "      <td>1</td>\n",
       "      <td>Кира</td>\n",
       "      <td>22</td>\n",
       "      <td>Тюмень</td>\n",
       "      <td>ultra</td>\n",
       "      <td>4028.687306</td>\n",
       "      <td>26.265803</td>\n",
       "      <td>2021-08-28</td>\n",
       "      <td>8</td>\n",
       "      <td>6</td>\n",
       "      <td>0</td>\n",
       "      <td>199</td>\n",
       "    </tr>\n",
       "    <tr>\n",
       "      <th>5</th>\n",
       "      <td>1</td>\n",
       "      <td>Кира</td>\n",
       "      <td>22</td>\n",
       "      <td>Тюмень</td>\n",
       "      <td>ultra</td>\n",
       "      <td>2770.890808</td>\n",
       "      <td>16.650138</td>\n",
       "      <td>2021-10-09</td>\n",
       "      <td>10</td>\n",
       "      <td>6</td>\n",
       "      <td>0</td>\n",
       "      <td>199</td>\n",
       "    </tr>\n",
       "    <tr>\n",
       "      <th>6</th>\n",
       "      <td>1</td>\n",
       "      <td>Кира</td>\n",
       "      <td>22</td>\n",
       "      <td>Тюмень</td>\n",
       "      <td>ultra</td>\n",
       "      <td>3039.020292</td>\n",
       "      <td>14.927879</td>\n",
       "      <td>2021-10-19</td>\n",
       "      <td>10</td>\n",
       "      <td>6</td>\n",
       "      <td>0</td>\n",
       "      <td>199</td>\n",
       "    </tr>\n",
       "    <tr>\n",
       "      <th>7</th>\n",
       "      <td>1</td>\n",
       "      <td>Кира</td>\n",
       "      <td>22</td>\n",
       "      <td>Тюмень</td>\n",
       "      <td>ultra</td>\n",
       "      <td>2842.118050</td>\n",
       "      <td>23.117468</td>\n",
       "      <td>2021-11-06</td>\n",
       "      <td>11</td>\n",
       "      <td>6</td>\n",
       "      <td>0</td>\n",
       "      <td>199</td>\n",
       "    </tr>\n",
       "    <tr>\n",
       "      <th>8</th>\n",
       "      <td>1</td>\n",
       "      <td>Кира</td>\n",
       "      <td>22</td>\n",
       "      <td>Тюмень</td>\n",
       "      <td>ultra</td>\n",
       "      <td>3412.690668</td>\n",
       "      <td>15.238072</td>\n",
       "      <td>2021-11-14</td>\n",
       "      <td>11</td>\n",
       "      <td>6</td>\n",
       "      <td>0</td>\n",
       "      <td>199</td>\n",
       "    </tr>\n",
       "    <tr>\n",
       "      <th>9</th>\n",
       "      <td>1</td>\n",
       "      <td>Кира</td>\n",
       "      <td>22</td>\n",
       "      <td>Тюмень</td>\n",
       "      <td>ultra</td>\n",
       "      <td>748.690645</td>\n",
       "      <td>15.041884</td>\n",
       "      <td>2021-11-22</td>\n",
       "      <td>11</td>\n",
       "      <td>6</td>\n",
       "      <td>0</td>\n",
       "      <td>199</td>\n",
       "    </tr>\n",
       "  </tbody>\n",
       "</table>\n",
       "</div>"
      ],
      "text/plain": [
       "   user_id  name  age    city subscription_type     distance   duration  \\\n",
       "0        1  Кира   22  Тюмень             ultra  4409.919140  25.599769   \n",
       "1        1  Кира   22  Тюмень             ultra  2617.592153  15.816871   \n",
       "2        1  Кира   22  Тюмень             ultra   754.159807   6.232113   \n",
       "3        1  Кира   22  Тюмень             ultra  2694.783254  18.511000   \n",
       "4        1  Кира   22  Тюмень             ultra  4028.687306  26.265803   \n",
       "5        1  Кира   22  Тюмень             ultra  2770.890808  16.650138   \n",
       "6        1  Кира   22  Тюмень             ultra  3039.020292  14.927879   \n",
       "7        1  Кира   22  Тюмень             ultra  2842.118050  23.117468   \n",
       "8        1  Кира   22  Тюмень             ultra  3412.690668  15.238072   \n",
       "9        1  Кира   22  Тюмень             ultra   748.690645  15.041884   \n",
       "\n",
       "        date  month  minute_price  start_ride_price  subscription_fee  \n",
       "0 2021-01-01      1             6                 0               199  \n",
       "1 2021-01-18      1             6                 0               199  \n",
       "2 2021-04-20      4             6                 0               199  \n",
       "3 2021-08-11      8             6                 0               199  \n",
       "4 2021-08-28      8             6                 0               199  \n",
       "5 2021-10-09     10             6                 0               199  \n",
       "6 2021-10-19     10             6                 0               199  \n",
       "7 2021-11-06     11             6                 0               199  \n",
       "8 2021-11-14     11             6                 0               199  \n",
       "9 2021-11-22     11             6                 0               199  "
      ]
     },
     "execution_count": 30,
     "metadata": {},
     "output_type": "execute_result"
    }
   ],
   "source": [
    "df_ultra = df.query(\"subscription_type == 'ultra'\")\n",
    "df_ultra.reset_index(inplace=True, drop=True)\n",
    "df_ultra.head(10)"
   ]
  },
  {
   "cell_type": "markdown",
   "id": "2aa56adc",
   "metadata": {},
   "source": [
    "#### Визуализация информации о расстоянии и времени поездок для пользователей обеих категорий"
   ]
  },
  {
   "cell_type": "code",
   "execution_count": 31,
   "id": "816b3df0",
   "metadata": {},
   "outputs": [
    {
     "data": {
      "image/png": "[encoded data removed]",
      "text/plain": [
       "<Figure size 432x288 with 1 Axes>"
      ]
     },
     "metadata": {
      "needs_background": "light"
     },
     "output_type": "display_data"
    }
   ],
   "source": [
    "plt.hist(df_ultra['distance'], bins=100, range = (0, 6000))\n",
    "plt.title('Расстояние, платный тариф')\n",
    "plt.xlabel('Расстояние, м')\n",
    "plt.ylabel('Количество поездок')\n",
    "plt.grid()\n",
    "plt.show()"
   ]
  },
  {
   "cell_type": "code",
   "execution_count": 32,
   "id": "b7523212",
   "metadata": {},
   "outputs": [
    {
     "data": {
      "image/png": "[encoded data removed]",
      "text/plain": [
       "<Figure size 432x288 with 1 Axes>"
      ]
     },
     "metadata": {
      "needs_background": "light"
     },
     "output_type": "display_data"
    }
   ],
   "source": [
    "plt.hist(df_free['distance'], bins=100, range = (0, 6000))\n",
    "plt.title('Расстояние, бесплатный тариф')\n",
    "plt.xlabel('Расстояние, м')\n",
    "plt.ylabel('Количество поездок')\n",
    "plt.grid()\n",
    "plt.show()"
   ]
  },
  {
   "cell_type": "code",
   "execution_count": 33,
   "id": "a0f9f9a0",
   "metadata": {},
   "outputs": [
    {
     "data": {
      "image/png": "[encoded data removed]",
      "text/plain": [
       "<Figure size 432x288 with 1 Axes>"
      ]
     },
     "metadata": {
      "needs_background": "light"
     },
     "output_type": "display_data"
    }
   ],
   "source": [
    "plt.hist(df_ultra['duration'], bins=100)\n",
    "plt.title('Продолжительность поездок, платный тариф')\n",
    "plt.xlabel('Время, мин')\n",
    "plt.ylabel('Количество поездок')\n",
    "plt.grid()\n",
    "plt.show()"
   ]
  },
  {
   "cell_type": "code",
   "execution_count": 34,
   "id": "05a5ab19",
   "metadata": {},
   "outputs": [
    {
     "data": {
      "image/png": "[encoded data removed]",
      "text/plain": [
       "<Figure size 432x288 with 1 Axes>"
      ]
     },
     "metadata": {
      "needs_background": "light"
     },
     "output_type": "display_data"
    }
   ],
   "source": [
    "plt.hist(df_free['duration'], bins=100)\n",
    "plt.title('Продолжительность поездок, бесплатный тариф')\n",
    "plt.xlabel('Время, мин')\n",
    "plt.ylabel('Количество поездок')\n",
    "plt.grid()\n",
    "plt.show()"
   ]
  },
  {
   "cell_type": "markdown",
   "id": "0c8852a1",
   "metadata": {},
   "source": [
    "#### Выводы объединения данных:\n",
    "- Три исходных датафрейма были объединены в один df;\n",
    "- На основе единого датафрейма было создано два новых датасета: пользователи с подпиской (df_ultra), пользователи без неё (df_free);\n",
    "- Итоги визуализации: \n",
    "    - Для бесплатного тарифа: среднее время поездки составляет от 15 до 25 минут, среднее расстояние - от 2 до 4 км; \n",
    "    - Для платного тарифа: среднее время поездки составляет от 15 до 20 минут, среднее расстояние - от 2.5 до 3.5 км;\n",
    "    - Можно заметить, что пользователи с бесплатным тарифом совершают более долгие поездки, а также проезжают бОльшее расстояние, чем пользователи с платным тарифом."
   ]
  },
  {
   "cell_type": "markdown",
   "id": "402d620f",
   "metadata": {},
   "source": [
    "### Подсчёт выручки"
   ]
  },
  {
   "cell_type": "markdown",
   "id": "c98f7c3b",
   "metadata": {},
   "source": [
    "#### Создать датафрейм с агрегированными данными о поездках на основе датафрейма с объединёнными данными: найти суммарное расстояние, количество поездок и суммарное время для каждого пользователя за каждый месяц."
   ]
  },
  {
   "cell_type": "code",
   "execution_count": null,
   "id": "27d8ca5a",
   "metadata": {},
   "outputs": [],
   "source": [
    "df['duration'] = np.ceil(df['duration'])"
   ]
  },
  {
   "cell_type": "code",
   "execution_count": 35,
   "id": "d7330e9c",
   "metadata": {},
   "outputs": [],
   "source": [
    "df_agg = pd.pivot_table(df, index=['month', 'user_id'],\n",
    "                            values=['distance', 'duration', 'name', 'subscription_type'],\n",
    "                            aggfunc={'distance': sum, 'duration': sum, 'name': len, 'subscription_type': min})"
   ]
  },
  {
   "cell_type": "code",
   "execution_count": 36,
   "id": "afc82dd0",
   "metadata": {},
   "outputs": [],
   "source": [
    "df_agg.rename(columns={'name': 'count_trips'}, inplace = True)"
   ]
  },
  {
   "cell_type": "code",
   "execution_count": 37,
   "id": "d9e7a89b",
   "metadata": {
    "scrolled": true
   },
   "outputs": [],
   "source": [
    "df_agg = df_agg.sort_values(by='month')"
   ]
  },
  {
   "cell_type": "code",
   "execution_count": 38,
   "id": "a3f7403f",
   "metadata": {
    "scrolled": true
   },
   "outputs": [
    {
     "data": {
      "text/html": [
       "<div>\n",
       "<style scoped>\n",
       "    .dataframe tbody tr th:only-of-type {\n",
       "        vertical-align: middle;\n",
       "    }\n",
       "\n",
       "    .dataframe tbody tr th {\n",
       "        vertical-align: top;\n",
       "    }\n",
       "\n",
       "    .dataframe thead th {\n",
       "        text-align: right;\n",
       "    }\n",
       "</style>\n",
       "<table border=\"1\" class=\"dataframe\">\n",
       "  <thead>\n",
       "    <tr style=\"text-align: right;\">\n",
       "      <th></th>\n",
       "      <th></th>\n",
       "      <th>distance</th>\n",
       "      <th>duration</th>\n",
       "      <th>count_trips</th>\n",
       "      <th>subscription_type</th>\n",
       "    </tr>\n",
       "    <tr>\n",
       "      <th>month</th>\n",
       "      <th>user_id</th>\n",
       "      <th></th>\n",
       "      <th></th>\n",
       "      <th></th>\n",
       "      <th></th>\n",
       "    </tr>\n",
       "  </thead>\n",
       "  <tbody>\n",
       "    <tr>\n",
       "      <th>1</th>\n",
       "      <th>13</th>\n",
       "      <td>6687.987446</td>\n",
       "      <td>41.848947</td>\n",
       "      <td>2</td>\n",
       "      <td>ultra</td>\n",
       "    </tr>\n",
       "    <tr>\n",
       "      <th>4</th>\n",
       "      <th>13</th>\n",
       "      <td>2809.392221</td>\n",
       "      <td>21.915502</td>\n",
       "      <td>1</td>\n",
       "      <td>ultra</td>\n",
       "    </tr>\n",
       "    <tr>\n",
       "      <th>8</th>\n",
       "      <th>13</th>\n",
       "      <td>7450.704663</td>\n",
       "      <td>41.406100</td>\n",
       "      <td>2</td>\n",
       "      <td>ultra</td>\n",
       "    </tr>\n",
       "    <tr>\n",
       "      <th>9</th>\n",
       "      <th>13</th>\n",
       "      <td>10170.782925</td>\n",
       "      <td>58.096172</td>\n",
       "      <td>3</td>\n",
       "      <td>ultra</td>\n",
       "    </tr>\n",
       "    <tr>\n",
       "      <th>10</th>\n",
       "      <th>13</th>\n",
       "      <td>8950.914857</td>\n",
       "      <td>49.241581</td>\n",
       "      <td>3</td>\n",
       "      <td>ultra</td>\n",
       "    </tr>\n",
       "    <tr>\n",
       "      <th>11</th>\n",
       "      <th>13</th>\n",
       "      <td>7274.062022</td>\n",
       "      <td>29.856555</td>\n",
       "      <td>2</td>\n",
       "      <td>ultra</td>\n",
       "    </tr>\n",
       "    <tr>\n",
       "      <th>12</th>\n",
       "      <th>13</th>\n",
       "      <td>3504.594002</td>\n",
       "      <td>22.681980</td>\n",
       "      <td>1</td>\n",
       "      <td>ultra</td>\n",
       "    </tr>\n",
       "  </tbody>\n",
       "</table>\n",
       "</div>"
      ],
      "text/plain": [
       "                   distance   duration  count_trips subscription_type\n",
       "month user_id                                                        \n",
       "1     13        6687.987446  41.848947            2             ultra\n",
       "4     13        2809.392221  21.915502            1             ultra\n",
       "8     13        7450.704663  41.406100            2             ultra\n",
       "9     13       10170.782925  58.096172            3             ultra\n",
       "10    13        8950.914857  49.241581            3             ultra\n",
       "11    13        7274.062022  29.856555            2             ultra\n",
       "12    13        3504.594002  22.681980            1             ultra"
      ]
     },
     "execution_count": 38,
     "metadata": {},
     "output_type": "execute_result"
    }
   ],
   "source": [
    "df_agg.query('user_id == 13')"
   ]
  },
  {
   "cell_type": "markdown",
   "id": "1a4fc852",
   "metadata": {},
   "source": [
    "#### В этот же датафрейм добавить столбец с помесячной выручкой, которую принёс каждый пользователь. Для этого обратимся к информации об условиях оплаты для подписчиков и тех, у кого нет подписки. Продолжительность каждой поездки в каждой строке исходного датафрейма для подсчёта стоимости округлить до следующего целого числа."
   ]
  },
  {
   "cell_type": "code",
   "execution_count": 40,
   "id": "8a446976",
   "metadata": {},
   "outputs": [],
   "source": [
    "def revenue(row):\n",
    "    if row['subscription_type'] == 'ultra':\n",
    "        return 6 * row['duration'] + 199\n",
    "    elif row['subscription_type'] == 'free':\n",
    "        return 8 * row['duration'] + 50 * row['count_trips']\n",
    "    else:\n",
    "        return 'Not such sub'"
   ]
  },
  {
   "cell_type": "code",
   "execution_count": null,
   "id": "4888a726",
   "metadata": {},
   "outputs": [],
   "source": [
    "я"
   ]
  },
  {
   "cell_type": "code",
   "execution_count": 41,
   "id": "f30fcfb6",
   "metadata": {},
   "outputs": [],
   "source": [
    "df_agg['revenue_per_month'] = df_agg.apply(revenue, axis=1)"
   ]
  },
  {
   "cell_type": "code",
   "execution_count": 42,
   "id": "19117137",
   "metadata": {
    "scrolled": false
   },
   "outputs": [
    {
     "data": {
      "text/html": [
       "<div>\n",
       "<style scoped>\n",
       "    .dataframe tbody tr th:only-of-type {\n",
       "        vertical-align: middle;\n",
       "    }\n",
       "\n",
       "    .dataframe tbody tr th {\n",
       "        vertical-align: top;\n",
       "    }\n",
       "\n",
       "    .dataframe thead th {\n",
       "        text-align: right;\n",
       "    }\n",
       "</style>\n",
       "<table border=\"1\" class=\"dataframe\">\n",
       "  <thead>\n",
       "    <tr style=\"text-align: right;\">\n",
       "      <th></th>\n",
       "      <th></th>\n",
       "      <th>distance</th>\n",
       "      <th>duration</th>\n",
       "      <th>count_trips</th>\n",
       "      <th>subscription_type</th>\n",
       "      <th>revenue_per_month</th>\n",
       "    </tr>\n",
       "    <tr>\n",
       "      <th>month</th>\n",
       "      <th>user_id</th>\n",
       "      <th></th>\n",
       "      <th></th>\n",
       "      <th></th>\n",
       "      <th></th>\n",
       "      <th></th>\n",
       "    </tr>\n",
       "  </thead>\n",
       "  <tbody>\n",
       "    <tr>\n",
       "      <th>1</th>\n",
       "      <th>13</th>\n",
       "      <td>6687.987446</td>\n",
       "      <td>42.0</td>\n",
       "      <td>2</td>\n",
       "      <td>ultra</td>\n",
       "      <td>451.0</td>\n",
       "    </tr>\n",
       "    <tr>\n",
       "      <th>4</th>\n",
       "      <th>13</th>\n",
       "      <td>2809.392221</td>\n",
       "      <td>22.0</td>\n",
       "      <td>1</td>\n",
       "      <td>ultra</td>\n",
       "      <td>331.0</td>\n",
       "    </tr>\n",
       "    <tr>\n",
       "      <th>8</th>\n",
       "      <th>13</th>\n",
       "      <td>7450.704663</td>\n",
       "      <td>42.0</td>\n",
       "      <td>2</td>\n",
       "      <td>ultra</td>\n",
       "      <td>451.0</td>\n",
       "    </tr>\n",
       "    <tr>\n",
       "      <th>9</th>\n",
       "      <th>13</th>\n",
       "      <td>10170.782925</td>\n",
       "      <td>59.0</td>\n",
       "      <td>3</td>\n",
       "      <td>ultra</td>\n",
       "      <td>553.0</td>\n",
       "    </tr>\n",
       "    <tr>\n",
       "      <th>10</th>\n",
       "      <th>13</th>\n",
       "      <td>8950.914857</td>\n",
       "      <td>50.0</td>\n",
       "      <td>3</td>\n",
       "      <td>ultra</td>\n",
       "      <td>499.0</td>\n",
       "    </tr>\n",
       "    <tr>\n",
       "      <th>11</th>\n",
       "      <th>13</th>\n",
       "      <td>7274.062022</td>\n",
       "      <td>30.0</td>\n",
       "      <td>2</td>\n",
       "      <td>ultra</td>\n",
       "      <td>379.0</td>\n",
       "    </tr>\n",
       "    <tr>\n",
       "      <th>12</th>\n",
       "      <th>13</th>\n",
       "      <td>3504.594002</td>\n",
       "      <td>23.0</td>\n",
       "      <td>1</td>\n",
       "      <td>ultra</td>\n",
       "      <td>337.0</td>\n",
       "    </tr>\n",
       "  </tbody>\n",
       "</table>\n",
       "</div>"
      ],
      "text/plain": [
       "                   distance  duration  count_trips subscription_type  \\\n",
       "month user_id                                                          \n",
       "1     13        6687.987446      42.0            2             ultra   \n",
       "4     13        2809.392221      22.0            1             ultra   \n",
       "8     13        7450.704663      42.0            2             ultra   \n",
       "9     13       10170.782925      59.0            3             ultra   \n",
       "10    13        8950.914857      50.0            3             ultra   \n",
       "11    13        7274.062022      30.0            2             ultra   \n",
       "12    13        3504.594002      23.0            1             ultra   \n",
       "\n",
       "               revenue_per_month  \n",
       "month user_id                     \n",
       "1     13                   451.0  \n",
       "4     13                   331.0  \n",
       "8     13                   451.0  \n",
       "9     13                   553.0  \n",
       "10    13                   499.0  \n",
       "11    13                   379.0  \n",
       "12    13                   337.0  "
      ]
     },
     "execution_count": 42,
     "metadata": {},
     "output_type": "execute_result"
    }
   ],
   "source": [
    "df_agg.query('user_id == 13')"
   ]
  },
  {
   "cell_type": "markdown",
   "id": "1444e229",
   "metadata": {},
   "source": [
    "#### Выводы подсчёта выручки"
   ]
  },
  {
   "cell_type": "markdown",
   "id": "89950603",
   "metadata": {},
   "source": [
    "- Создан новый датафрейм с агрегированными данными(df_agg) на основе датафрейма с объединенными данными(df);\n",
    "- Найдено суммарное расстояние, количество поездок и суммарное время для каждого пользователя за каждый месяц;\n",
    "- Добавлен столбец с помесячной выручкой, которую принес каждый пользователь."
   ]
  },
  {
   "cell_type": "markdown",
   "id": "41545ac0",
   "metadata": {},
   "source": [
    "### Проверка гипотез"
   ]
  },
  {
   "cell_type": "markdown",
   "id": "a8cec063",
   "metadata": {},
   "source": [
    "#### Важно понять, тратят ли пользователи с подпиской больше времени на поездки? Если да, то пользователи с подпиской могут быть «выгоднее» для компании. Проверьте гипотезу. Используйте исходные данные о продолжительности каждой сессии — отдельно для подписчиков и тех, у кого нет подписки."
   ]
  },
  {
   "cell_type": "markdown",
   "id": "4a2099f6",
   "metadata": {},
   "source": [
    "H_0: Время поездки у пользователей с подпиской = время поездки у пользователей без подписки <br>\n",
    "H_1: Время поездки у пользователей с подпиской > время поездки у пользователей без подписки"
   ]
  },
  {
   "cell_type": "code",
   "execution_count": 56,
   "id": "f1d87bf4",
   "metadata": {},
   "outputs": [
    {
     "name": "stdout",
     "output_type": "stream",
     "text": [
      "1.2804098316645618e-34\n",
      "Пользователи с подпиской тратят больше времени на поездки.\n"
     ]
    }
   ],
   "source": [
    "alpha = 0.05\n",
    "ultra = df_ultra['duration'] \n",
    "free = df_free['duration']\n",
    "\n",
    "results = st.ttest_ind(ultra, free, alternative = 'greater')\n",
    "print(results.pvalue)\n",
    "\n",
    "if results.pvalue < alpha:\n",
    "    print('Пользователи с подпиской тратят больше времени на поездки.')\n",
    "else:\n",
    "    print('Время поездки совпадает у пользователей с подпиской и без неё.')"
   ]
  },
  {
   "cell_type": "code",
   "execution_count": 55,
   "id": "60ee5faf",
   "metadata": {},
   "outputs": [
    {
     "data": {
      "image/png": "[encoded data removed]",
      "text/plain": [
       "<Figure size 432x288 with 1 Axes>"
      ]
     },
     "metadata": {
      "needs_background": "light"
     },
     "output_type": "display_data"
    }
   ],
   "source": [
    "ax = sns.barplot(x='month', y='duration', hue=\"subscription_type\", data=df)\n",
    "ax.set_title('Распределение продолжительности поездок')\n",
    "ax.set(xlabel='Месяц', ylabel='Продолжительность поездок');"
   ]
  },
  {
   "cell_type": "markdown",
   "id": "65c80b65",
   "metadata": {},
   "source": [
    "Вывод: гипотеза о том, что пользователи с подпиской тратят больше времени на поездки, верна."
   ]
  },
  {
   "cell_type": "markdown",
   "id": "4e326501",
   "metadata": {},
   "source": [
    "#### Расстояние одной поездки в 3130 метров — оптимальное с точки зрения износа самоката. Можно ли сказать, что среднее расстояние, которое проезжают пользователи с подпиской за одну поездку, не превышает 3130 метров? Проверьте гипотезу и сделайте выводы."
   ]
  },
  {
   "cell_type": "markdown",
   "id": "cdcbc1fb",
   "metadata": {},
   "source": [
    "H_0: Среднее расстояние поездки у пользователей с подпиской = 3130 <br>\n",
    "H_1: Среднее расстояние поездки у пользователей с подпиской < 3130"
   ]
  },
  {
   "cell_type": "code",
   "execution_count": 57,
   "id": "63f2e79a",
   "metadata": {},
   "outputs": [
    {
     "name": "stdout",
     "output_type": "stream",
     "text": [
      "0.08046311521502146\n",
      "Среднее расстояние поездки у пользователей с подпиской достигает 3130.\n"
     ]
    }
   ],
   "source": [
    "alpha = 0.05\n",
    "ultra = df_ultra['distance'] \n",
    "value = 3130.0\n",
    "\n",
    "results = st.ttest_1samp(ultra, value, alternative = 'less')\n",
    "print(results.pvalue)\n",
    "\n",
    "if results.pvalue < alpha:\n",
    "    print('Среднее расстояние поездки у пользователей с подпиской не превышает 3130.')\n",
    "else:\n",
    "    print('Среднее расстояние поездки у пользователей с подпиской достигает 3130.')"
   ]
  },
  {
   "cell_type": "markdown",
   "id": "8f922d21",
   "metadata": {},
   "source": [
    "Вывод: нельзя утверждать, что среднее расстояние поездки у пользователей с подпиской не превышает 3130."
   ]
  },
  {
   "cell_type": "markdown",
   "id": "f59f82fa",
   "metadata": {},
   "source": [
    "#### Проверьте гипотезу о том, будет ли помесячная выручка от пользователей с подпиской по месяцам выше, чем выручка от пользователей без подписки. Сделайте вывод."
   ]
  },
  {
   "cell_type": "markdown",
   "id": "d84e0639",
   "metadata": {},
   "source": [
    "H_0: Помесячная выручка от пользователей с подпиской = выручка от пользователей без подписки. <br>\n",
    "H_1: Помесячная выручка от пользователей с подпиской > выручка от пользователей без подписки."
   ]
  },
  {
   "cell_type": "code",
   "execution_count": 61,
   "id": "22251187",
   "metadata": {},
   "outputs": [
    {
     "name": "stdout",
     "output_type": "stream",
     "text": [
      "2.8130926188487286e-35\n",
      "Помесячная выручка от пользователей с подпиской превышает выручку от пользователей без подписки.\n"
     ]
    }
   ],
   "source": [
    "alpha = 0.05\n",
    "ultra = df_agg.loc[df_agg.subscription_type == 'ultra', 'revenue_per_month']\n",
    "free = df_agg.loc[df_agg.subscription_type == 'free', 'revenue_per_month']\n",
    "\n",
    "results = st.ttest_ind(ultra, free, alternative = 'greater')\n",
    "print(results.pvalue)\n",
    "\n",
    "if results.pvalue < alpha:\n",
    "    print('Помесячная выручка от пользователей с подпиской превышает выручку от пользователей без подписки.')\n",
    "else:\n",
    "    print('Помесячная выручка от пользователей с подпиской и без совпадает.')"
   ]
  },
  {
   "cell_type": "markdown",
   "id": "f935b101",
   "metadata": {},
   "source": [
    "Вывод: гипотеза о том, будет ли помесячная выручка от пользователей с подпиской по месяцам выше, чем выручка от пользователей без подписки, верна."
   ]
  },
  {
   "cell_type": "markdown",
   "id": "0d01ecf8",
   "metadata": {},
   "source": [
    "#### Представьте такую ситуацию: техническая команда сервиса обновила сервера, с которыми взаимодействует мобильное приложение. Она надеется, что из-за этого количество обращений в техподдержку значимо снизилось. Некоторый файл содержит для каждого пользователя данные о количестве обращений до обновления и после него. Какой тест вам понадобился бы для проверки этой гипотезы?"
   ]
  },
  {
   "cell_type": "markdown",
   "id": "8865a3c8",
   "metadata": {},
   "source": [
    "Необходимо использовать метод st.ttest_rel(), так как мы сравниваем средние значения двух зависимыми выборок.<br>\n",
    "<br>\n",
    "H_0: Среднее количество обращений в техподдержку до изменений = среднее количество обращений в техподдержку после изменений. <br>\n",
    "H_1: Среднее количество обращений в техподдержку после изменений уменьшилось."
   ]
  },
  {
   "cell_type": "markdown",
   "id": "61213c5e",
   "metadata": {},
   "source": [
    "### Распределения"
   ]
  },
  {
   "cell_type": "markdown",
   "id": "48ab6dd8",
   "metadata": {},
   "source": [
    "#### Отделу маркетинга GoFast поставили задачу: нужно провести акцию с раздачей промокодов на один бесплатный месяц подписки, в рамках которой как минимум 100 существующих клиентов должны продлить эту подписку. То есть по завершении периода действия подписки пользователь может либо отказаться от неё, либо продлить, совершив соответствующий платёж. <br> Эта акция уже проводилась ранее и по итогу выяснилось, что после бесплатного пробного периода подписку продлевают 10 % пользователей. Выясните, какое минимальное количество промокодов нужно разослать, чтобы вероятность не выполнить план была примерно 5 %. Подберите параметры распределения, описывающего эту ситуацию, постройте график распределения и сформулируйте ответ на вопрос о количестве промокодов."
   ]
  },
  {
   "cell_type": "markdown",
   "id": "75a51c6c",
   "metadata": {},
   "source": [
    "Данная акция может быть описана биномиальным распределением. Пусть n - количество клиентов, продливших подписку из N клиентов, которые воспользовались промокодом. Вероятность продления подписки для каждого клиента, равна p=0.1, так как 10% пользователей продлевают подписку.\n",
    "\n",
    "Тогда вероятность того, что не менее 100 клиентов продлят подписку при использовании промокодов, составляет: \n",
    "P(n ≥ 100) = 1 - P(n < 100)\n",
    "\n",
    "Вероятность не выполнить план составляла примерно 5%. То есть, мы хотим найти такое минимальное N, при котором P(n ≥ 100) ~ 0.05."
   ]
  },
  {
   "cell_type": "code",
   "execution_count": 79,
   "id": "5eefac27",
   "metadata": {
    "scrolled": false
   },
   "outputs": [
    {
     "name": "stdout",
     "output_type": "stream",
     "text": [
      "Минимальное количество промокодов: 850\n"
     ]
    }
   ],
   "source": [
    "p = 0.1\n",
    "target_prob = 0.05\n",
    "min_promo = 1\n",
    "\n",
    "while True:\n",
    "    distr = st.binom(min_promo, p)\n",
    "    prob = 1 - distr.cdf(99)\n",
    "\n",
    "    if prob >= target_prob:\n",
    "        break\n",
    "    min_promo += 1\n",
    "\n",
    "print(f'Минимальное количество промокодов: {min_promo}')"
   ]
  },
  {
   "cell_type": "code",
   "execution_count": 80,
   "id": "e038df80",
   "metadata": {},
   "outputs": [
    {
     "data": {
      "image/png": "[encoded data removed]",
      "text/plain": [
       "<Figure size 432x288 with 1 Axes>"
      ]
     },
     "metadata": {
      "needs_background": "light"
     },
     "output_type": "display_data"
    }
   ],
   "source": [
    "x = range(1, 200)\n",
    "y = st.binom.pmf(range(1, 200), min_promo, p)\n",
    "\n",
    "plt.bar(x, y)\n",
    "plt.xlabel('Количество пользователей, отказавшихся от продления подписки')\n",
    "plt.ylabel('Вероятность')\n",
    "plt.title('Распределение отказов от продления подписки')\n",
    "plt.show()"
   ]
  },
  {
   "cell_type": "markdown",
   "id": "26d68294",
   "metadata": {},
   "source": [
    "#### Вывод: \n",
    "- Заданная ситуация описывается биномиальным распределением с параметрами n = 850 и p = 0.1;\n",
    "- Минимальное количество промокодов, которое надо разослать, - 850 штук."
   ]
  },
  {
   "cell_type": "markdown",
   "id": "6e325dac",
   "metadata": {},
   "source": [
    "#### Отдел маркетинга рассылает клиентам push-уведомления в мобильном приложении. Клиенты могут открыть его или не открывать. Известно, что уведомления открывают около 40 % получивших клиентов. Отдел планирует разослать 1 млн уведомлений. С помощью аппроксимации постройте примерный график распределения и оцените вероятность того, что уведомление откроют не более 399,5 тыс. пользователей."
   ]
  },
  {
   "cell_type": "markdown",
   "id": "dcc29837",
   "metadata": {},
   "source": [
    "Для оценки вероятности того, что уведомление откроют не более 399,5 тыс. пользователей, мы можем использовать нормальное распределение как аппроксимацию биномиального распределения при большом количестве наблюдений.\n",
    "\n",
    "Для данной задачи мы знаем, что вероятность открытия уведомления составляет 40%, то есть p = 0.4. Количество уведомлений, которые планируется разослать, равно 1 млн, то есть n = 1,000,000.\n",
    "\n",
    "Для аппроксимации используем среднее значение µ = n * p и стандартное отклонение σ = sqrt(n * p * (1 - p)). Затем можем использовать функцию нормального распределения для оценки вероятности."
   ]
  },
  {
   "cell_type": "code",
   "execution_count": 90,
   "id": "9cee905d",
   "metadata": {},
   "outputs": [
    {
     "name": "stdout",
     "output_type": "stream",
     "text": [
      "Вероятность открытия не более 399,5 тыс. пользователей: 0.15\n"
     ]
    }
   ],
   "source": [
    "p = 0.4\n",
    "n = 1000000\n",
    "target = 399500\n",
    "\n",
    "mu = n * p\n",
    "std = np.sqrt(n * p * (1-p))\n",
    "\n",
    "distr = st.norm(mu, std)\n",
    "prob = distr.cdf(target)\n",
    "\n",
    "print(f\"Вероятность открытия не более 399,5 тыс. пользователей: {round(prob, 2)}\")"
   ]
  },
  {
   "cell_type": "markdown",
   "id": "323b73c6",
   "metadata": {},
   "source": [
    "#### Вывод: \n",
    "- Вероятность того, что уведомление откроют не более 399,5 тыс. пользователей, - 0.15"
   ]
  },
  {
   "cell_type": "markdown",
   "id": "0f275a2b",
   "metadata": {},
   "source": [
    "### Общий вывод:\n",
    "- Работа производилась с 3 датасетами: информация о пользователях, о поездках, о подписках;\n",
    "- Проведена предобработка данных:\n",
    "    - Столбец date переведен к типу datetime64;\n",
    "    - В датафрейме rides_df создан новый столбец (Месяц совершения поездки);\n",
    "    - Пропущенные значения ни в одном датасете найдены не были;\n",
    "    - Выявлены и удалены 31 дубликат в users_df;\n",
    "    - В rides_df subs_df дубликаты отсутствуют.\n",
    "- Проведен исследовательский анализ:\n",
    "    - ТОП-3 городов, в которых больше всего распространены поездки GoFast: Пятигорск, Екатеринбург и Ростов-на-Дону. В Москве сервис распространен меньше всего, видимо, из-за наличия других крупных компаний и высокой конкуренции;\n",
    "    - Пользователей, оформивших подписку Ultra, почти на треть меньше, чем тех, кто предпочитает использовать сервис без подписки;\n",
    "    - Большинству пользователей 20-25 лет;\n",
    "    - В среднем, пользователи проезжают от 2.5 до 3.5км. Рекордное значение - 7.2км;\n",
    "    - Чаще всего поездки занимают от 15 до 20мин. Рекордное значение - 40мин.\n",
    "- Три исходных датафрейма были объединены в один df;\n",
    "- На основе единого датафрейма было создано два новых датасета: пользователи с подпиской (df_ultra), пользователи без неё (df_free);\n",
    "- Замечанно на графиках:\n",
    "    - Для бесплатного тарифа: среднее время поездки составляет от 15 до 25 минут, среднее расстояние - от 2 до 4 км;\n",
    "    - Для платного тарифа: среднее время поездки составляет от 15 до 20 минут, среднее расстояние - от 2.5 до 3.5 км;\n",
    "    - Можно заметить, что пользователи с бесплатным тарифом совершают более долгие поездки, а также проезжают бОльшее расстояние, чем пользователи с платным тарифом.\n",
    "- Создан новый датафрейм с агрегированными данными(df_agg) на основе датафрейма с объединенными данными(df);\n",
    "- Найдено суммарное расстояние, количество поездок и суммарное время для каждого пользователя за каждый месяц;\n",
    "- Добавлен столбец с помесячной выручкой, которую принес каждый пользователь.\n",
    "- Проверены 3 гипотезы. Итоги:\n",
    "    - Гипотеза о том, что пользователи с подпиской тратят больше времени на поездки, верна;\n",
    "    - Нельзя утверждать, что среднее расстояние поездки у пользователей с подпиской не превышает 3130;\n",
    "    - Гипотеза о том, будет ли помесячная выручка от пользователей с подпиской по месяцам выше, чем выручка от пользователей без подписки, верна.\n",
    "- Минимальное количество промокодов, которое надо разослать, - 850 штук;\n",
    "- Вероятность того, что push-уведомление откроют не более 399,5 тыс. пользователей, - 0.15"
   ]
  }
 ],
 "metadata": {
  "ExecuteTimeLog": [
   {
    "duration": 354,
    "start_time": "2024-02-05T07:11:58.196Z"
   },
   {
    "duration": 197,
    "start_time": "2024-02-05T07:12:01.073Z"
   },
   {
    "duration": 14,
    "start_time": "2024-02-05T07:12:12.932Z"
   },
   {
    "duration": 8,
    "start_time": "2024-02-05T07:12:21.698Z"
   },
   {
    "duration": 7,
    "start_time": "2024-02-05T07:12:32.116Z"
   },
   {
    "duration": 3,
    "start_time": "2024-02-05T07:12:50.839Z"
   },
   {
    "duration": 7,
    "start_time": "2024-02-05T07:12:54.910Z"
   },
   {
    "duration": 4,
    "start_time": "2024-02-05T07:13:06.509Z"
   },
   {
    "duration": 7,
    "start_time": "2024-02-05T07:13:11.586Z"
   },
   {
    "duration": 8,
    "start_time": "2024-02-05T07:13:38.933Z"
   },
   {
    "duration": 7,
    "start_time": "2024-02-05T07:13:39.182Z"
   },
   {
    "duration": 3,
    "start_time": "2024-02-05T07:31:35.168Z"
   },
   {
    "duration": 66,
    "start_time": "2024-02-05T07:31:35.936Z"
   },
   {
    "duration": 7,
    "start_time": "2024-02-05T07:31:36.101Z"
   },
   {
    "duration": 7,
    "start_time": "2024-02-05T07:31:36.410Z"
   },
   {
    "duration": 8,
    "start_time": "2024-02-05T07:31:36.751Z"
   },
   {
    "duration": 101,
    "start_time": "2024-02-05T07:32:30.851Z"
   },
   {
    "duration": 9,
    "start_time": "2024-02-05T07:35:33.563Z"
   },
   {
    "duration": 4,
    "start_time": "2024-02-05T07:37:15.704Z"
   },
   {
    "duration": 13,
    "start_time": "2024-02-05T07:37:26.397Z"
   },
   {
    "duration": 8,
    "start_time": "2024-02-05T07:37:31.944Z"
   },
   {
    "duration": 11,
    "start_time": "2024-02-05T07:37:51.225Z"
   },
   {
    "duration": 9,
    "start_time": "2024-02-05T07:38:16.066Z"
   },
   {
    "duration": 9,
    "start_time": "2024-02-05T07:38:28.147Z"
   },
   {
    "duration": 9,
    "start_time": "2024-02-05T07:38:53.437Z"
   },
   {
    "duration": 3,
    "start_time": "2024-02-05T07:39:37.299Z"
   },
   {
    "duration": 73,
    "start_time": "2024-02-05T07:39:37.303Z"
   },
   {
    "duration": 7,
    "start_time": "2024-02-05T07:39:37.377Z"
   },
   {
    "duration": 9,
    "start_time": "2024-02-05T07:39:37.385Z"
   },
   {
    "duration": 8,
    "start_time": "2024-02-05T07:39:37.395Z"
   },
   {
    "duration": 9,
    "start_time": "2024-02-05T07:39:37.404Z"
   },
   {
    "duration": 6,
    "start_time": "2024-02-05T07:39:37.414Z"
   },
   {
    "duration": 13,
    "start_time": "2024-02-05T07:39:37.421Z"
   },
   {
    "duration": 12,
    "start_time": "2024-02-05T07:39:37.436Z"
   },
   {
    "duration": 10,
    "start_time": "2024-02-05T07:39:37.449Z"
   },
   {
    "duration": 5,
    "start_time": "2024-02-05T07:39:37.460Z"
   },
   {
    "duration": 7,
    "start_time": "2024-02-05T07:39:37.467Z"
   },
   {
    "duration": 3,
    "start_time": "2024-02-05T07:42:26.440Z"
   },
   {
    "duration": 2,
    "start_time": "2024-02-05T07:43:29.437Z"
   },
   {
    "duration": 6,
    "start_time": "2024-02-05T07:45:16.731Z"
   },
   {
    "duration": 6,
    "start_time": "2024-02-05T07:45:27.926Z"
   },
   {
    "duration": 5,
    "start_time": "2024-02-05T07:45:39.805Z"
   },
   {
    "duration": 5,
    "start_time": "2024-02-05T07:46:51.923Z"
   },
   {
    "duration": 5,
    "start_time": "2024-02-05T07:47:25.992Z"
   },
   {
    "duration": 5,
    "start_time": "2024-02-05T07:47:33.407Z"
   },
   {
    "duration": 9,
    "start_time": "2024-02-05T07:47:39.910Z"
   },
   {
    "duration": 5,
    "start_time": "2024-02-05T07:47:50.075Z"
   },
   {
    "duration": 6,
    "start_time": "2024-02-05T07:55:34.247Z"
   },
   {
    "duration": 5,
    "start_time": "2024-02-05T07:55:41.390Z"
   },
   {
    "duration": 519,
    "start_time": "2024-02-05T07:56:01.474Z"
   },
   {
    "duration": 4,
    "start_time": "2024-02-05T07:56:55.032Z"
   },
   {
    "duration": 2,
    "start_time": "2024-02-05T07:57:33.071Z"
   },
   {
    "duration": 100,
    "start_time": "2024-02-05T07:57:48.513Z"
   },
   {
    "duration": 112,
    "start_time": "2024-02-05T07:57:56.219Z"
   },
   {
    "duration": 65,
    "start_time": "2024-02-05T07:58:00.533Z"
   },
   {
    "duration": 7,
    "start_time": "2024-02-05T07:58:04.967Z"
   },
   {
    "duration": 7,
    "start_time": "2024-02-05T07:58:08.898Z"
   },
   {
    "duration": 117,
    "start_time": "2024-02-05T07:58:14.127Z"
   },
   {
    "duration": 142,
    "start_time": "2024-02-05T07:58:32.933Z"
   },
   {
    "duration": 79,
    "start_time": "2024-02-05T07:58:41.451Z"
   },
   {
    "duration": 95,
    "start_time": "2024-02-05T07:58:46.010Z"
   },
   {
    "duration": 105,
    "start_time": "2024-02-05T07:58:53.811Z"
   },
   {
    "duration": 88,
    "start_time": "2024-02-05T07:59:05.350Z"
   },
   {
    "duration": 108,
    "start_time": "2024-02-05T08:00:30.320Z"
   },
   {
    "duration": 192,
    "start_time": "2024-02-05T08:00:49.395Z"
   },
   {
    "duration": 86,
    "start_time": "2024-02-05T08:00:53.239Z"
   },
   {
    "duration": 101,
    "start_time": "2024-02-05T08:03:14.335Z"
   },
   {
    "duration": 109,
    "start_time": "2024-02-05T08:03:19.531Z"
   },
   {
    "duration": 4,
    "start_time": "2024-02-05T08:12:57.340Z"
   },
   {
    "duration": 102,
    "start_time": "2024-02-05T08:13:20.889Z"
   },
   {
    "duration": 141,
    "start_time": "2024-02-05T08:13:43.462Z"
   },
   {
    "duration": 100,
    "start_time": "2024-02-05T08:13:48.076Z"
   },
   {
    "duration": 81,
    "start_time": "2024-02-05T08:13:54.488Z"
   },
   {
    "duration": 107,
    "start_time": "2024-02-05T08:15:16.346Z"
   },
   {
    "duration": 107,
    "start_time": "2024-02-05T08:17:04.348Z"
   },
   {
    "duration": 113,
    "start_time": "2024-02-05T08:17:12.232Z"
   },
   {
    "duration": 101,
    "start_time": "2024-02-05T08:17:18.519Z"
   },
   {
    "duration": 672,
    "start_time": "2024-02-05T08:20:18.587Z"
   },
   {
    "duration": 37,
    "start_time": "2024-02-05T08:20:35.732Z"
   },
   {
    "duration": 118,
    "start_time": "2024-02-05T08:21:21.827Z"
   },
   {
    "duration": 127,
    "start_time": "2024-02-05T08:22:09.203Z"
   },
   {
    "duration": 120,
    "start_time": "2024-02-05T08:22:23.294Z"
   },
   {
    "duration": 129,
    "start_time": "2024-02-05T08:22:33.105Z"
   },
   {
    "duration": 139,
    "start_time": "2024-02-05T08:23:24.273Z"
   },
   {
    "duration": 122,
    "start_time": "2024-02-05T08:23:28.496Z"
   },
   {
    "duration": 118,
    "start_time": "2024-02-05T08:23:41.303Z"
   },
   {
    "duration": 185,
    "start_time": "2024-02-05T08:23:44.850Z"
   },
   {
    "duration": 119,
    "start_time": "2024-02-05T08:24:18.514Z"
   },
   {
    "duration": 117,
    "start_time": "2024-02-05T08:24:42.348Z"
   },
   {
    "duration": 3,
    "start_time": "2024-02-05T08:25:03.183Z"
   },
   {
    "duration": 7,
    "start_time": "2024-02-05T08:25:53.866Z"
   },
   {
    "duration": 114,
    "start_time": "2024-02-05T08:25:58.766Z"
   },
   {
    "duration": 128,
    "start_time": "2024-02-05T08:27:46.836Z"
   },
   {
    "duration": 4,
    "start_time": "2024-02-05T08:45:05.779Z"
   },
   {
    "duration": 123,
    "start_time": "2024-02-05T08:45:29.739Z"
   },
   {
    "duration": 11,
    "start_time": "2024-02-05T08:45:42.749Z"
   },
   {
    "duration": 8,
    "start_time": "2024-02-05T08:45:48.329Z"
   },
   {
    "duration": 95,
    "start_time": "2024-02-05T08:46:16.195Z"
   },
   {
    "duration": 93,
    "start_time": "2024-02-05T08:46:58.979Z"
   },
   {
    "duration": 108,
    "start_time": "2024-02-05T08:47:18.995Z"
   },
   {
    "duration": 91,
    "start_time": "2024-02-05T08:47:36.438Z"
   },
   {
    "duration": 114,
    "start_time": "2024-02-05T08:47:53.041Z"
   },
   {
    "duration": 96,
    "start_time": "2024-02-05T08:48:30.239Z"
   },
   {
    "duration": 107,
    "start_time": "2024-02-05T08:50:28.948Z"
   },
   {
    "duration": 99,
    "start_time": "2024-02-05T08:50:34.120Z"
   },
   {
    "duration": 184,
    "start_time": "2024-02-05T08:50:59.035Z"
   },
   {
    "duration": 2,
    "start_time": "2024-02-05T08:51:13.997Z"
   },
   {
    "duration": 205,
    "start_time": "2024-02-05T08:52:09.778Z"
   },
   {
    "duration": 215,
    "start_time": "2024-02-05T08:52:14.641Z"
   },
   {
    "duration": 206,
    "start_time": "2024-02-05T08:52:54.289Z"
   },
   {
    "duration": 110,
    "start_time": "2024-02-05T08:53:40.706Z"
   },
   {
    "duration": 122,
    "start_time": "2024-02-05T08:53:56.437Z"
   },
   {
    "duration": 121,
    "start_time": "2024-02-05T08:53:59.950Z"
   },
   {
    "duration": 109,
    "start_time": "2024-02-05T08:54:10.268Z"
   },
   {
    "duration": 126,
    "start_time": "2024-02-05T08:54:25.202Z"
   },
   {
    "duration": 128,
    "start_time": "2024-02-05T08:55:39.592Z"
   },
   {
    "duration": 89,
    "start_time": "2024-02-05T08:59:00.220Z"
   },
   {
    "duration": 91,
    "start_time": "2024-02-05T08:59:13.228Z"
   },
   {
    "duration": 205,
    "start_time": "2024-02-05T08:59:20.696Z"
   },
   {
    "duration": 95,
    "start_time": "2024-02-05T08:59:27.531Z"
   },
   {
    "duration": 92,
    "start_time": "2024-02-05T08:59:49.018Z"
   },
   {
    "duration": 90,
    "start_time": "2024-02-05T09:00:01.784Z"
   },
   {
    "duration": 96,
    "start_time": "2024-02-05T09:00:14.689Z"
   },
   {
    "duration": 94,
    "start_time": "2024-02-05T09:00:17.897Z"
   },
   {
    "duration": 91,
    "start_time": "2024-02-05T09:00:28.612Z"
   },
   {
    "duration": 101,
    "start_time": "2024-02-05T09:00:53.268Z"
   },
   {
    "duration": 98,
    "start_time": "2024-02-05T09:01:03.389Z"
   },
   {
    "duration": 98,
    "start_time": "2024-02-05T09:01:09.701Z"
   },
   {
    "duration": 93,
    "start_time": "2024-02-05T09:01:23.661Z"
   },
   {
    "duration": 89,
    "start_time": "2024-02-05T09:02:13.147Z"
   },
   {
    "duration": 94,
    "start_time": "2024-02-05T09:02:22.163Z"
   },
   {
    "duration": 94,
    "start_time": "2024-02-05T09:02:43.275Z"
   },
   {
    "duration": 90,
    "start_time": "2024-02-05T09:03:08.445Z"
   },
   {
    "duration": 95,
    "start_time": "2024-02-05T09:03:16.418Z"
   },
   {
    "duration": 88,
    "start_time": "2024-02-05T09:03:31.684Z"
   },
   {
    "duration": 93,
    "start_time": "2024-02-05T09:03:36.791Z"
   },
   {
    "duration": 3,
    "start_time": "2024-02-05T13:07:59.083Z"
   },
   {
    "duration": 45,
    "start_time": "2024-02-05T13:09:33.147Z"
   },
   {
    "duration": 1279,
    "start_time": "2024-02-05T13:09:40.553Z"
   },
   {
    "duration": 182,
    "start_time": "2024-02-05T13:09:41.834Z"
   },
   {
    "duration": 12,
    "start_time": "2024-02-05T13:09:42.018Z"
   },
   {
    "duration": 11,
    "start_time": "2024-02-05T13:09:42.032Z"
   },
   {
    "duration": 10,
    "start_time": "2024-02-05T13:09:42.044Z"
   },
   {
    "duration": 23,
    "start_time": "2024-02-05T13:09:42.056Z"
   },
   {
    "duration": 7,
    "start_time": "2024-02-05T13:09:42.080Z"
   },
   {
    "duration": 30,
    "start_time": "2024-02-05T13:09:42.088Z"
   },
   {
    "duration": 6,
    "start_time": "2024-02-05T13:09:42.119Z"
   },
   {
    "duration": 9,
    "start_time": "2024-02-05T13:09:42.127Z"
   },
   {
    "duration": 4,
    "start_time": "2024-02-05T13:09:42.137Z"
   },
   {
    "duration": 8,
    "start_time": "2024-02-05T13:09:42.143Z"
   },
   {
    "duration": 5,
    "start_time": "2024-02-05T13:09:42.152Z"
   },
   {
    "duration": 5,
    "start_time": "2024-02-05T13:09:42.158Z"
   },
   {
    "duration": 5,
    "start_time": "2024-02-05T13:09:42.164Z"
   },
   {
    "duration": 48,
    "start_time": "2024-02-05T13:09:42.171Z"
   },
   {
    "duration": 5,
    "start_time": "2024-02-05T13:09:42.220Z"
   },
   {
    "duration": 5,
    "start_time": "2024-02-05T13:09:42.227Z"
   },
   {
    "duration": 7,
    "start_time": "2024-02-05T13:09:42.234Z"
   },
   {
    "duration": 4,
    "start_time": "2024-02-05T13:09:42.242Z"
   },
   {
    "duration": 178,
    "start_time": "2024-02-05T13:09:42.248Z"
   },
   {
    "duration": 125,
    "start_time": "2024-02-05T13:09:42.427Z"
   },
   {
    "duration": 141,
    "start_time": "2024-02-05T13:09:42.553Z"
   },
   {
    "duration": 113,
    "start_time": "2024-02-05T13:09:42.695Z"
   },
   {
    "duration": 101,
    "start_time": "2024-02-05T13:09:42.809Z"
   },
   {
    "duration": 11,
    "start_time": "2024-02-05T13:09:42.918Z"
   },
   {
    "duration": 17,
    "start_time": "2024-02-05T13:10:13.207Z"
   },
   {
    "duration": 12,
    "start_time": "2024-02-05T13:10:19.695Z"
   },
   {
    "duration": 5,
    "start_time": "2024-02-05T13:10:53.175Z"
   },
   {
    "duration": 12,
    "start_time": "2024-02-05T13:11:00.419Z"
   },
   {
    "duration": 80,
    "start_time": "2024-02-05T13:12:59.843Z"
   },
   {
    "duration": 93,
    "start_time": "2024-02-05T13:16:36.967Z"
   },
   {
    "duration": 1467,
    "start_time": "2024-02-05T13:17:09.827Z"
   },
   {
    "duration": 31,
    "start_time": "2024-02-05T13:18:03.763Z"
   },
   {
    "duration": 14,
    "start_time": "2024-02-05T13:18:15.493Z"
   },
   {
    "duration": 8,
    "start_time": "2024-02-05T13:18:44.953Z"
   },
   {
    "duration": 18,
    "start_time": "2024-02-05T13:18:54.500Z"
   },
   {
    "duration": 16,
    "start_time": "2024-02-05T13:18:57.011Z"
   },
   {
    "duration": 17,
    "start_time": "2024-02-05T13:19:23.967Z"
   },
   {
    "duration": 15,
    "start_time": "2024-02-05T13:19:24.701Z"
   },
   {
    "duration": 9,
    "start_time": "2024-02-05T13:20:33.747Z"
   },
   {
    "duration": 17,
    "start_time": "2024-02-05T13:20:42.116Z"
   },
   {
    "duration": 14,
    "start_time": "2024-02-05T13:20:57.923Z"
   },
   {
    "duration": 20,
    "start_time": "2024-02-05T13:21:04.722Z"
   },
   {
    "duration": 10,
    "start_time": "2024-02-05T13:21:16.845Z"
   },
   {
    "duration": 16,
    "start_time": "2024-02-05T13:21:25.477Z"
   },
   {
    "duration": 18,
    "start_time": "2024-02-05T13:22:25.978Z"
   },
   {
    "duration": 11,
    "start_time": "2024-02-05T13:22:33.810Z"
   },
   {
    "duration": 17,
    "start_time": "2024-02-05T13:22:36.101Z"
   },
   {
    "duration": 18,
    "start_time": "2024-02-05T13:22:37.627Z"
   },
   {
    "duration": 24,
    "start_time": "2024-02-05T13:23:13.276Z"
   },
   {
    "duration": 18,
    "start_time": "2024-02-05T13:23:25.934Z"
   },
   {
    "duration": 19,
    "start_time": "2024-02-05T13:23:39.928Z"
   },
   {
    "duration": 17,
    "start_time": "2024-02-05T13:24:04.256Z"
   },
   {
    "duration": 17,
    "start_time": "2024-02-05T13:24:05.705Z"
   },
   {
    "duration": 16,
    "start_time": "2024-02-05T13:24:09.992Z"
   },
   {
    "duration": 22,
    "start_time": "2024-02-05T13:24:51.834Z"
   },
   {
    "duration": 14,
    "start_time": "2024-02-05T13:25:02.647Z"
   },
   {
    "duration": 203,
    "start_time": "2024-02-05T13:38:40.576Z"
   },
   {
    "duration": 237,
    "start_time": "2024-02-05T13:38:56.835Z"
   },
   {
    "duration": 163,
    "start_time": "2024-02-05T13:39:03.878Z"
   },
   {
    "duration": 167,
    "start_time": "2024-02-05T13:39:42.734Z"
   },
   {
    "duration": 218,
    "start_time": "2024-02-05T13:39:45.760Z"
   },
   {
    "duration": 214,
    "start_time": "2024-02-05T13:40:03.005Z"
   },
   {
    "duration": 217,
    "start_time": "2024-02-05T13:40:17.427Z"
   },
   {
    "duration": 231,
    "start_time": "2024-02-05T13:40:35.140Z"
   },
   {
    "duration": 361,
    "start_time": "2024-02-05T13:40:43.509Z"
   },
   {
    "duration": 246,
    "start_time": "2024-02-05T13:41:39.319Z"
   },
   {
    "duration": 256,
    "start_time": "2024-02-05T13:41:45.682Z"
   },
   {
    "duration": 226,
    "start_time": "2024-02-05T13:41:48.187Z"
   },
   {
    "duration": 237,
    "start_time": "2024-02-05T13:41:54.803Z"
   },
   {
    "duration": 181,
    "start_time": "2024-02-05T13:42:07.502Z"
   },
   {
    "duration": 288,
    "start_time": "2024-02-05T13:42:12.239Z"
   },
   {
    "duration": 218,
    "start_time": "2024-02-05T13:42:19.289Z"
   },
   {
    "duration": 233,
    "start_time": "2024-02-05T13:42:39.008Z"
   },
   {
    "duration": 231,
    "start_time": "2024-02-05T13:42:40.731Z"
   },
   {
    "duration": 839,
    "start_time": "2024-02-05T15:44:40.791Z"
   },
   {
    "duration": 15,
    "start_time": "2024-02-05T15:44:48.253Z"
   },
   {
    "duration": 4,
    "start_time": "2024-02-05T15:45:39.726Z"
   },
   {
    "duration": 14,
    "start_time": "2024-02-05T15:45:41.893Z"
   },
   {
    "duration": 1655,
    "start_time": "2024-02-05T15:46:18.854Z"
   },
   {
    "duration": 3,
    "start_time": "2024-02-05T15:46:20.510Z"
   },
   {
    "duration": 26,
    "start_time": "2024-02-05T15:46:20.518Z"
   },
   {
    "duration": 856,
    "start_time": "2024-02-05T15:46:25.129Z"
   },
   {
    "duration": 3,
    "start_time": "2024-02-05T15:46:25.987Z"
   },
   {
    "duration": 15,
    "start_time": "2024-02-05T15:46:26.650Z"
   },
   {
    "duration": 897,
    "start_time": "2024-02-05T15:47:19.098Z"
   },
   {
    "duration": 3,
    "start_time": "2024-02-05T15:47:19.996Z"
   },
   {
    "duration": 37,
    "start_time": "2024-02-05T15:47:20.000Z"
   },
   {
    "duration": 3,
    "start_time": "2024-02-05T15:48:26.159Z"
   },
   {
    "duration": 863,
    "start_time": "2024-02-05T15:48:32.667Z"
   },
   {
    "duration": 3,
    "start_time": "2024-02-05T15:48:33.532Z"
   },
   {
    "duration": 14,
    "start_time": "2024-02-05T15:48:33.536Z"
   },
   {
    "duration": 12,
    "start_time": "2024-02-05T15:48:33.565Z"
   },
   {
    "duration": 19,
    "start_time": "2024-02-05T15:49:24.279Z"
   },
   {
    "duration": 9,
    "start_time": "2024-02-05T15:49:35.063Z"
   },
   {
    "duration": 13,
    "start_time": "2024-02-05T15:50:14.663Z"
   },
   {
    "duration": 10,
    "start_time": "2024-02-05T15:50:34.767Z"
   },
   {
    "duration": 11,
    "start_time": "2024-02-05T15:50:39.241Z"
   },
   {
    "duration": 13,
    "start_time": "2024-02-05T15:50:45.874Z"
   },
   {
    "duration": 11,
    "start_time": "2024-02-05T15:50:50.545Z"
   },
   {
    "duration": 9,
    "start_time": "2024-02-05T15:51:06.814Z"
   },
   {
    "duration": 8,
    "start_time": "2024-02-05T15:51:11.854Z"
   },
   {
    "duration": 8,
    "start_time": "2024-02-05T15:52:19.523Z"
   },
   {
    "duration": 5,
    "start_time": "2024-02-05T15:52:30.345Z"
   },
   {
    "duration": 13,
    "start_time": "2024-02-05T15:52:39.109Z"
   },
   {
    "duration": 11,
    "start_time": "2024-02-05T15:54:38.773Z"
   },
   {
    "duration": 11,
    "start_time": "2024-02-05T15:54:47.901Z"
   },
   {
    "duration": 11,
    "start_time": "2024-02-05T15:54:50.596Z"
   },
   {
    "duration": 3,
    "start_time": "2024-02-05T15:55:53.361Z"
   },
   {
    "duration": 3,
    "start_time": "2024-02-05T15:55:54.313Z"
   },
   {
    "duration": 6,
    "start_time": "2024-02-05T15:55:54.619Z"
   },
   {
    "duration": 14,
    "start_time": "2024-02-05T15:55:55.022Z"
   },
   {
    "duration": 908,
    "start_time": "2024-02-05T15:55:59.176Z"
   },
   {
    "duration": 3,
    "start_time": "2024-02-05T15:56:00.085Z"
   },
   {
    "duration": 25,
    "start_time": "2024-02-05T15:56:00.089Z"
   },
   {
    "duration": 49,
    "start_time": "2024-02-05T15:56:00.115Z"
   },
   {
    "duration": 38,
    "start_time": "2024-02-05T15:56:00.172Z"
   },
   {
    "duration": 15,
    "start_time": "2024-02-05T15:56:45.093Z"
   },
   {
    "duration": 2,
    "start_time": "2024-02-05T16:03:41.746Z"
   },
   {
    "duration": 64,
    "start_time": "2024-02-05T16:03:41.752Z"
   },
   {
    "duration": 8,
    "start_time": "2024-02-05T16:03:41.818Z"
   },
   {
    "duration": 10,
    "start_time": "2024-02-05T16:03:41.827Z"
   },
   {
    "duration": 16,
    "start_time": "2024-02-05T16:03:41.838Z"
   },
   {
    "duration": 9,
    "start_time": "2024-02-05T16:03:41.856Z"
   },
   {
    "duration": 6,
    "start_time": "2024-02-05T16:03:41.866Z"
   },
   {
    "duration": 9,
    "start_time": "2024-02-05T16:03:41.873Z"
   },
   {
    "duration": 6,
    "start_time": "2024-02-05T16:03:41.884Z"
   },
   {
    "duration": 9,
    "start_time": "2024-02-05T16:03:41.917Z"
   },
   {
    "duration": 4,
    "start_time": "2024-02-05T16:03:41.928Z"
   },
   {
    "duration": 8,
    "start_time": "2024-02-05T16:03:41.933Z"
   },
   {
    "duration": 13,
    "start_time": "2024-02-05T16:03:41.942Z"
   },
   {
    "duration": 9,
    "start_time": "2024-02-05T16:03:41.956Z"
   },
   {
    "duration": 6,
    "start_time": "2024-02-05T16:03:41.969Z"
   },
   {
    "duration": 5,
    "start_time": "2024-02-05T16:03:41.976Z"
   },
   {
    "duration": 35,
    "start_time": "2024-02-05T16:03:41.983Z"
   },
   {
    "duration": 8,
    "start_time": "2024-02-05T16:03:42.020Z"
   },
   {
    "duration": 7,
    "start_time": "2024-02-05T16:03:42.030Z"
   },
   {
    "duration": 6,
    "start_time": "2024-02-05T16:03:42.038Z"
   },
   {
    "duration": 164,
    "start_time": "2024-02-05T16:03:42.045Z"
   },
   {
    "duration": 87,
    "start_time": "2024-02-05T16:03:42.211Z"
   },
   {
    "duration": 236,
    "start_time": "2024-02-05T16:03:42.299Z"
   },
   {
    "duration": 98,
    "start_time": "2024-02-05T16:03:42.536Z"
   },
   {
    "duration": 101,
    "start_time": "2024-02-05T16:03:42.636Z"
   },
   {
    "duration": 19,
    "start_time": "2024-02-05T16:03:42.738Z"
   },
   {
    "duration": 11,
    "start_time": "2024-02-05T16:03:42.758Z"
   },
   {
    "duration": 34,
    "start_time": "2024-02-05T16:03:42.770Z"
   },
   {
    "duration": 25,
    "start_time": "2024-02-05T16:03:42.806Z"
   },
   {
    "duration": 237,
    "start_time": "2024-02-05T16:03:42.833Z"
   },
   {
    "duration": 228,
    "start_time": "2024-02-05T16:03:43.071Z"
   },
   {
    "duration": 251,
    "start_time": "2024-02-05T16:03:43.300Z"
   },
   {
    "duration": 273,
    "start_time": "2024-02-05T16:03:43.552Z"
   },
   {
    "duration": 862,
    "start_time": "2024-02-05T16:03:43.827Z"
   },
   {
    "duration": 3,
    "start_time": "2024-02-05T16:03:44.690Z"
   },
   {
    "duration": 6,
    "start_time": "2024-02-05T16:03:44.695Z"
   },
   {
    "duration": 24,
    "start_time": "2024-02-05T16:03:44.703Z"
   },
   {
    "duration": 44,
    "start_time": "2024-02-06T09:39:49.595Z"
   },
   {
    "duration": 1323,
    "start_time": "2024-02-06T09:40:02.662Z"
   },
   {
    "duration": 58,
    "start_time": "2024-02-06T09:40:08.954Z"
   },
   {
    "duration": 3,
    "start_time": "2024-02-06T09:40:14.024Z"
   },
   {
    "duration": 218,
    "start_time": "2024-02-06T09:40:14.029Z"
   },
   {
    "duration": 16,
    "start_time": "2024-02-06T09:40:14.248Z"
   },
   {
    "duration": 22,
    "start_time": "2024-02-06T09:40:14.266Z"
   },
   {
    "duration": 27,
    "start_time": "2024-02-06T09:40:14.290Z"
   },
   {
    "duration": 17,
    "start_time": "2024-02-06T09:40:14.319Z"
   },
   {
    "duration": 10,
    "start_time": "2024-02-06T09:40:14.337Z"
   },
   {
    "duration": 21,
    "start_time": "2024-02-06T09:40:14.348Z"
   },
   {
    "duration": 62,
    "start_time": "2024-02-06T09:40:14.371Z"
   },
   {
    "duration": 76,
    "start_time": "2024-02-06T09:40:14.435Z"
   },
   {
    "duration": 25,
    "start_time": "2024-02-06T09:40:14.513Z"
   },
   {
    "duration": 15,
    "start_time": "2024-02-06T09:40:14.540Z"
   },
   {
    "duration": 40,
    "start_time": "2024-02-06T09:40:14.557Z"
   },
   {
    "duration": 9,
    "start_time": "2024-02-06T09:40:14.598Z"
   },
   {
    "duration": 21,
    "start_time": "2024-02-06T09:40:14.608Z"
   },
   {
    "duration": 22,
    "start_time": "2024-02-06T09:40:14.631Z"
   },
   {
    "duration": 29,
    "start_time": "2024-02-06T09:40:14.654Z"
   },
   {
    "duration": 33,
    "start_time": "2024-02-06T09:40:14.684Z"
   },
   {
    "duration": 204,
    "start_time": "2024-02-06T09:40:14.719Z"
   },
   {
    "duration": 319,
    "start_time": "2024-02-06T09:40:14.924Z"
   },
   {
    "duration": 327,
    "start_time": "2024-02-06T09:40:15.245Z"
   },
   {
    "duration": 98,
    "start_time": "2024-02-06T09:40:15.574Z"
   },
   {
    "duration": 158,
    "start_time": "2024-02-06T09:40:15.674Z"
   },
   {
    "duration": 111,
    "start_time": "2024-02-06T09:40:15.834Z"
   },
   {
    "duration": 111,
    "start_time": "2024-02-06T09:40:15.946Z"
   },
   {
    "duration": 20,
    "start_time": "2024-02-06T09:40:16.058Z"
   },
   {
    "duration": 11,
    "start_time": "2024-02-06T09:40:16.080Z"
   },
   {
    "duration": 39,
    "start_time": "2024-02-06T09:40:16.093Z"
   },
   {
    "duration": 21,
    "start_time": "2024-02-06T09:40:16.136Z"
   },
   {
    "duration": 255,
    "start_time": "2024-02-06T09:40:16.158Z"
   },
   {
    "duration": 339,
    "start_time": "2024-02-06T09:40:16.415Z"
   },
   {
    "duration": 264,
    "start_time": "2024-02-06T09:40:16.755Z"
   },
   {
    "duration": 287,
    "start_time": "2024-02-06T09:40:17.020Z"
   },
   {
    "duration": 889,
    "start_time": "2024-02-06T09:40:17.308Z"
   },
   {
    "duration": 3,
    "start_time": "2024-02-06T09:40:18.199Z"
   },
   {
    "duration": 23,
    "start_time": "2024-02-06T09:40:18.203Z"
   },
   {
    "duration": 10,
    "start_time": "2024-02-06T09:40:18.228Z"
   },
   {
    "duration": 3,
    "start_time": "2024-02-06T09:40:18.240Z"
   },
   {
    "duration": 3,
    "start_time": "2024-02-06T09:40:33.174Z"
   },
   {
    "duration": 3,
    "start_time": "2024-02-06T09:41:07.814Z"
   },
   {
    "duration": 133,
    "start_time": "2024-02-06T09:41:39.105Z"
   },
   {
    "duration": 13,
    "start_time": "2024-02-06T09:42:01.016Z"
   },
   {
    "duration": 69,
    "start_time": "2024-02-06T09:49:29.725Z"
   },
   {
    "duration": 1308,
    "start_time": "2024-02-06T16:49:10.057Z"
   },
   {
    "duration": 3,
    "start_time": "2024-02-06T16:49:15.674Z"
   },
   {
    "duration": 189,
    "start_time": "2024-02-06T16:49:15.680Z"
   },
   {
    "duration": 10,
    "start_time": "2024-02-06T16:49:15.871Z"
   },
   {
    "duration": 15,
    "start_time": "2024-02-06T16:49:15.883Z"
   },
   {
    "duration": 14,
    "start_time": "2024-02-06T16:49:15.900Z"
   },
   {
    "duration": 11,
    "start_time": "2024-02-06T16:49:15.915Z"
   },
   {
    "duration": 6,
    "start_time": "2024-02-06T16:49:15.927Z"
   },
   {
    "duration": 10,
    "start_time": "2024-02-06T16:49:15.934Z"
   },
   {
    "duration": 6,
    "start_time": "2024-02-06T16:49:15.946Z"
   },
   {
    "duration": 9,
    "start_time": "2024-02-06T16:49:15.953Z"
   },
   {
    "duration": 5,
    "start_time": "2024-02-06T16:49:15.964Z"
   },
   {
    "duration": 12,
    "start_time": "2024-02-06T16:49:15.970Z"
   },
   {
    "duration": 6,
    "start_time": "2024-02-06T16:49:15.983Z"
   },
   {
    "duration": 10,
    "start_time": "2024-02-06T16:49:15.990Z"
   },
   {
    "duration": 36,
    "start_time": "2024-02-06T16:49:16.001Z"
   },
   {
    "duration": 17,
    "start_time": "2024-02-06T16:49:16.038Z"
   },
   {
    "duration": 4,
    "start_time": "2024-02-06T16:49:16.056Z"
   },
   {
    "duration": 5,
    "start_time": "2024-02-06T16:49:16.062Z"
   },
   {
    "duration": 7,
    "start_time": "2024-02-06T16:49:16.068Z"
   },
   {
    "duration": 6,
    "start_time": "2024-02-06T16:49:16.077Z"
   },
   {
    "duration": 174,
    "start_time": "2024-02-06T16:49:16.085Z"
   },
   {
    "duration": 98,
    "start_time": "2024-02-06T16:49:16.260Z"
   },
   {
    "duration": 134,
    "start_time": "2024-02-06T16:49:16.359Z"
   },
   {
    "duration": 102,
    "start_time": "2024-02-06T16:49:16.494Z"
   },
   {
    "duration": 105,
    "start_time": "2024-02-06T16:49:16.598Z"
   },
   {
    "duration": 18,
    "start_time": "2024-02-06T16:49:16.704Z"
   },
   {
    "duration": 18,
    "start_time": "2024-02-06T16:49:16.723Z"
   },
   {
    "duration": 17,
    "start_time": "2024-02-06T16:49:16.742Z"
   },
   {
    "duration": 14,
    "start_time": "2024-02-06T16:49:16.762Z"
   },
   {
    "duration": 255,
    "start_time": "2024-02-06T16:49:16.778Z"
   },
   {
    "duration": 299,
    "start_time": "2024-02-06T16:49:17.035Z"
   },
   {
    "duration": 251,
    "start_time": "2024-02-06T16:49:17.335Z"
   },
   {
    "duration": 238,
    "start_time": "2024-02-06T16:49:17.587Z"
   },
   {
    "duration": 796,
    "start_time": "2024-02-06T16:49:17.827Z"
   },
   {
    "duration": 3,
    "start_time": "2024-02-06T16:49:18.625Z"
   },
   {
    "duration": 5,
    "start_time": "2024-02-06T16:49:18.632Z"
   },
   {
    "duration": 12,
    "start_time": "2024-02-06T16:49:18.639Z"
   },
   {
    "duration": 4,
    "start_time": "2024-02-06T16:49:18.652Z"
   },
   {
    "duration": 3,
    "start_time": "2024-02-06T16:49:18.657Z"
   },
   {
    "duration": 142,
    "start_time": "2024-02-06T16:49:18.662Z"
   },
   {
    "duration": 13,
    "start_time": "2024-02-06T16:49:18.806Z"
   },
   {
    "duration": 18,
    "start_time": "2024-02-06T16:49:18.821Z"
   },
   {
    "duration": 6,
    "start_time": "2024-02-06T16:50:04.666Z"
   },
   {
    "duration": 94,
    "start_time": "2024-02-06T16:51:15.489Z"
   },
   {
    "duration": 5,
    "start_time": "2024-02-06T16:51:28.630Z"
   },
   {
    "duration": 800,
    "start_time": "2024-02-06T16:54:49.182Z"
   },
   {
    "duration": 465,
    "start_time": "2024-02-06T16:55:14.718Z"
   },
   {
    "duration": 757,
    "start_time": "2024-02-06T16:55:27.479Z"
   },
   {
    "duration": 10,
    "start_time": "2024-02-06T16:55:39.252Z"
   },
   {
    "duration": 861,
    "start_time": "2024-02-06T16:55:52.553Z"
   },
   {
    "duration": 787,
    "start_time": "2024-02-06T16:56:47.941Z"
   },
   {
    "duration": 789,
    "start_time": "2024-02-06T16:57:06.021Z"
   },
   {
    "duration": 5,
    "start_time": "2024-02-06T17:00:01.664Z"
   },
   {
    "duration": 828,
    "start_time": "2024-02-06T17:00:02.132Z"
   },
   {
    "duration": 5,
    "start_time": "2024-02-06T17:02:13.045Z"
   },
   {
    "duration": 4,
    "start_time": "2024-02-06T17:04:14.093Z"
   },
   {
    "duration": 29,
    "start_time": "2024-02-06T17:24:29.556Z"
   },
   {
    "duration": 937,
    "start_time": "2024-02-06T17:25:19.568Z"
   },
   {
    "duration": 9,
    "start_time": "2024-02-06T17:26:06.468Z"
   },
   {
    "duration": 11,
    "start_time": "2024-02-06T17:27:03.975Z"
   },
   {
    "duration": 5,
    "start_time": "2024-02-06T20:22:27.847Z"
   },
   {
    "duration": 5,
    "start_time": "2024-02-06T20:23:35.934Z"
   },
   {
    "duration": 5,
    "start_time": "2024-02-06T20:24:00.159Z"
   },
   {
    "duration": 12570,
    "start_time": "2024-02-06T20:24:36.414Z"
   },
   {
    "duration": 619,
    "start_time": "2024-02-06T20:24:52.925Z"
   },
   {
    "duration": 911,
    "start_time": "2024-02-06T20:25:03.741Z"
   },
   {
    "duration": 734,
    "start_time": "2024-02-06T20:25:48.916Z"
   },
   {
    "duration": 602,
    "start_time": "2024-02-06T20:28:27.484Z"
   },
   {
    "duration": 598,
    "start_time": "2024-02-06T20:29:21.994Z"
   },
   {
    "duration": 8,
    "start_time": "2024-02-06T20:33:25.510Z"
   },
   {
    "duration": 1131,
    "start_time": "2024-02-06T20:33:35.161Z"
   },
   {
    "duration": 1163,
    "start_time": "2024-02-06T20:33:46.838Z"
   },
   {
    "duration": 183,
    "start_time": "2024-02-06T20:34:08.005Z"
   },
   {
    "duration": 334,
    "start_time": "2024-02-06T20:34:18.404Z"
   },
   {
    "duration": 354,
    "start_time": "2024-02-06T20:34:45.396Z"
   },
   {
    "duration": 503,
    "start_time": "2024-02-06T20:35:00.704Z"
   },
   {
    "duration": 340,
    "start_time": "2024-02-06T20:35:47.915Z"
   },
   {
    "duration": 605,
    "start_time": "2024-02-06T20:36:14.016Z"
   },
   {
    "duration": 419,
    "start_time": "2024-02-06T20:36:15.076Z"
   },
   {
    "duration": 12,
    "start_time": "2024-02-06T20:43:48.681Z"
   },
   {
    "duration": 12,
    "start_time": "2024-02-06T20:44:00.393Z"
   },
   {
    "duration": 9,
    "start_time": "2024-02-06T20:44:14.656Z"
   },
   {
    "duration": 4,
    "start_time": "2024-02-06T20:44:21.455Z"
   },
   {
    "duration": 4,
    "start_time": "2024-02-06T20:44:32.709Z"
   },
   {
    "duration": 5,
    "start_time": "2024-02-06T20:44:43.122Z"
   },
   {
    "duration": 4,
    "start_time": "2024-02-06T20:44:50.024Z"
   },
   {
    "duration": 9,
    "start_time": "2024-02-06T20:45:17.923Z"
   },
   {
    "duration": 6,
    "start_time": "2024-02-06T20:45:41.202Z"
   },
   {
    "duration": 5,
    "start_time": "2024-02-06T20:45:45.769Z"
   },
   {
    "duration": 8,
    "start_time": "2024-02-06T20:46:41.012Z"
   },
   {
    "duration": 12,
    "start_time": "2024-02-06T20:48:03.013Z"
   },
   {
    "duration": 374,
    "start_time": "2024-02-06T20:48:10.832Z"
   },
   {
    "duration": 367,
    "start_time": "2024-02-06T20:48:34.168Z"
   },
   {
    "duration": 10,
    "start_time": "2024-02-06T20:48:45.405Z"
   },
   {
    "duration": 356,
    "start_time": "2024-02-06T20:50:51.481Z"
   },
   {
    "duration": 353,
    "start_time": "2024-02-06T20:50:54.878Z"
   },
   {
    "duration": 88,
    "start_time": "2024-02-08T08:17:38.333Z"
   }
  ],
  "kernelspec": {
   "display_name": "Python 3 (ipykernel)",
   "language": "python",
   "name": "python3"
  },
  "language_info": {
   "codemirror_mode": {
    "name": "ipython",
    "version": 3
   },
   "file_extension": ".py",
   "mimetype": "text/x-python",
   "name": "python",
   "nbconvert_exporter": "python",
   "pygments_lexer": "ipython3",
   "version": "3.11.3"
  },
  "toc": {
   "base_numbering": 1,
   "nav_menu": {},
   "number_sections": true,
   "sideBar": true,
   "skip_h1_title": true,
   "title_cell": "Table of Contents",
   "title_sidebar": "Contents",
   "toc_cell": false,
   "toc_position": {},
   "toc_section_display": true,
   "toc_window_display": false
  }
 },
 "nbformat": 4,
 "nbformat_minor": 5
}
